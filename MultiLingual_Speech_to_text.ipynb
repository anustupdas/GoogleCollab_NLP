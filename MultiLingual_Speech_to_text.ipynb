{
  "nbformat": 4,
  "nbformat_minor": 0,
  "metadata": {
    "colab": {
      "provenance": [],
      "gpuType": "T4",
      "authorship_tag": "ABX9TyMtuR8NGiu1ivxXNmL6IVa1",
      "include_colab_link": true
    },
    "kernelspec": {
      "name": "python3",
      "display_name": "Python 3"
    },
    "language_info": {
      "name": "python"
    },
    "accelerator": "GPU"
  },
  "cells": [
    {
      "cell_type": "markdown",
      "metadata": {
        "id": "view-in-github",
        "colab_type": "text"
      },
      "source": [
        "<a href=\"https://colab.research.google.com/github/anustupdas/GoogleCollab_NLP/blob/main/MultiLingual_Speech_to_text.ipynb\" target=\"_parent\"><img src=\"https://colab.research.google.com/assets/colab-badge.svg\" alt=\"Open In Colab\"/></a>"
      ]
    },
    {
      "cell_type": "markdown",
      "source": [
        "# Run Installation Setup"
      ],
      "metadata": {
        "id": "dsxPMdnrr4cY"
      }
    },
    {
      "cell_type": "code",
      "execution_count": null,
      "metadata": {
        "colab": {
          "base_uri": "https://localhost:8080/"
        },
        "id": "Ckl8KvWDSJxc",
        "outputId": "762444cf-1129-4537-c39d-f6882683ec70"
      },
      "outputs": [
        {
          "output_type": "stream",
          "name": "stdout",
          "text": [
            "Looking in indexes: https://pypi.org/simple, https://us-python.pkg.dev/colab-wheels/public/simple/\n",
            "Collecting pydub\n",
            "  Downloading pydub-0.25.1-py2.py3-none-any.whl (32 kB)\n",
            "Installing collected packages: pydub\n",
            "Successfully installed pydub-0.25.1\n"
          ]
        }
      ],
      "source": [
        "!pip install pydub\n",
        "!pip install -U openai-whisper\n",
        "!pip install setuptools-rust\n",
        "!sudo apt update && sudo apt install ffmpeg"
      ]
    },
    {
      "cell_type": "code",
      "source": [
        "!nvidia-smi"
      ],
      "metadata": {
        "colab": {
          "base_uri": "https://localhost:8080/"
        },
        "id": "FNjnvpU-u0vF",
        "outputId": "966aa4a0-457d-4528-ab36-7ffcc115fc13"
      },
      "execution_count": null,
      "outputs": [
        {
          "output_type": "stream",
          "name": "stdout",
          "text": [
            "Sun Jun 11 18:33:31 2023       \n",
            "+-----------------------------------------------------------------------------+\n",
            "| NVIDIA-SMI 525.85.12    Driver Version: 525.85.12    CUDA Version: 12.0     |\n",
            "|-------------------------------+----------------------+----------------------+\n",
            "| GPU  Name        Persistence-M| Bus-Id        Disp.A | Volatile Uncorr. ECC |\n",
            "| Fan  Temp  Perf  Pwr:Usage/Cap|         Memory-Usage | GPU-Util  Compute M. |\n",
            "|                               |                      |               MIG M. |\n",
            "|===============================+======================+======================|\n",
            "|   0  Tesla T4            Off  | 00000000:00:04.0 Off |                    0 |\n",
            "| N/A   56C    P8    10W /  70W |      0MiB / 15360MiB |      0%      Default |\n",
            "|                               |                      |                  N/A |\n",
            "+-------------------------------+----------------------+----------------------+\n",
            "                                                                               \n",
            "+-----------------------------------------------------------------------------+\n",
            "| Processes:                                                                  |\n",
            "|  GPU   GI   CI        PID   Type   Process name                  GPU Memory |\n",
            "|        ID   ID                                                   Usage      |\n",
            "|=============================================================================|\n",
            "|  No running processes found                                                 |\n",
            "+-----------------------------------------------------------------------------+\n"
          ]
        }
      ]
    },
    {
      "cell_type": "markdown",
      "source": [
        "# Library Functions"
      ],
      "metadata": {
        "id": "98HcwDsMsBZn"
      }
    },
    {
      "cell_type": "code",
      "source": [
        "def get_chunks(audio, audio_file, sub_audio_folder, segment_duration_sec = 5):\n",
        "\n",
        "  audio_duration = audio.duration_seconds * 1000\n",
        "  initial_start_min = 0\n",
        "  initial_start_sec = 1\n",
        "  initial_end_min = 0\n",
        "  initial_end_sec = segment_duration_sec \n",
        "  count = 0\n",
        "  \n",
        "# pydub does things in milliseconds, so convert time\n",
        "  start = ((initial_start_min*60)+initial_start_sec)*1000\n",
        "  end = ((initial_end_min*60)+initial_end_sec)*1000\n",
        "\n",
        "  while audio_duration > end:\n",
        "    count += 1\n",
        "    # song clip of 10 seconds from starting\n",
        "    audio_segments = audio[start: end]\n",
        "    audio_file_final = str(count)+\".mp3\"\n",
        "     # save file\n",
        "    audio_segment_file_path = os.path.join(sub_audio_folder,audio_file_final) \n",
        "    audio_segments.export(audio_segment_file_path, format=\"mp3\")\n",
        "    print(f\" Audio file {audio_file} is created and saved in {audio_segment_file_path}\")\n",
        "\n",
        "    if (audio_duration - end) / 1000 < 1:\n",
        "      break\n",
        "    else:\n",
        "      start = end + 10\n",
        "      end = end + (segment_duration_sec * 1000)\n"
      ],
      "metadata": {
        "id": "3nwiLRHBXR9K"
      },
      "execution_count": null,
      "outputs": []
    },
    {
      "cell_type": "code",
      "source": [
        "import whisper\n",
        "import re\n",
        "\n",
        "def decode_audio_to_text_adv(sub_audio_folder):\n",
        "\n",
        "  audio_sub_segments = os.listdir(sub_audio_folder)\n",
        "  audio_sub_segments.sort(key=lambda f: int(re.sub('\\D', '', f)))\n",
        "  model_en = whisper.load_model(\"medium.en\")\n",
        "  model = whisper.load_model(\"base\")\n",
        "  final_text = \" \"\n",
        "\n",
        "  print(audio_sub_segments)\n",
        "  for audio_segment in audio_sub_segments:\n",
        "    if audio_segment[-4:] != \".mp3\":\n",
        "      continue\n",
        "    audio_subsegment_file_path =  os.path.join(sub_audio_folder,audio_segment)\n",
        "    # load audio and pad/trim it to fit 30 seconds\n",
        "    audio = whisper.load_audio(audio_subsegment_file_path)\n",
        "    audio = whisper.pad_or_trim(audio)\n",
        "    # make log-Mel spectrogram and move to the same device as the model\n",
        "    mel = whisper.log_mel_spectrogram(audio).to(model.device)\n",
        "\n",
        "    # detect the spoken language\n",
        "    _, probs = model.detect_language(mel)\n",
        "    print(f\"Detected language: {max(probs, key=probs.get)}\")\n",
        "\n",
        "    if max(probs, key=probs.get) == 'en':\n",
        "            result = model_en.transcribe(audio_subsegment_file_path)\n",
        "    else:\n",
        "      whisper_bn = pipeline('automatic-speech-recognition', model =\"Rakib/whisper-small-bn-all\", device = 0)\n",
        "      result = whisper_bn(audio_subsegment_file_path)\n",
        "    print(f\"For Audio Segment {audio_segment}\")\n",
        "    print(result[\"text\"])\n",
        "    final_text += result[\"text\"] + \" \"\n",
        "    print()\n",
        "    \n",
        "    \n",
        "  return final_text"
      ],
      "metadata": {
        "id": "5gAxYttskStT"
      },
      "execution_count": null,
      "outputs": []
    },
    {
      "cell_type": "markdown",
      "source": [
        "# **Run Speech To Text**"
      ],
      "metadata": {
        "id": "gDo937C-sNSw"
      }
    },
    {
      "cell_type": "code",
      "source": [
        "from IPython.lib.display import isdir\n",
        "from pydub import AudioSegment\n",
        "import json\n",
        "import os\n",
        "import glob\n",
        "import whisper\n",
        "from google.colab import files\n",
        "\n",
        "if os.path.isdir(\"/content/audio\") is False:\n",
        "  os.mkdir(\"/content/audio\")\n",
        "%cd /content/audio\n",
        "\n",
        "uploaded = files.upload()\n",
        "\n",
        "audio_path = \"/content/audio/\"\n",
        "\n",
        "audio_files = os.listdir(audio_path)\n",
        "\n",
        "all_result = {}\n",
        "\n",
        "for audio_file in audio_files:\n",
        "  result = {}\n",
        "  if audio_file[-4:] != \".mp3\":\n",
        "    continue\n",
        "  audio_file_path = os.path.join(audio_path,audio_file)\n",
        "  print(audio_file_path) \n",
        "  audio = AudioSegment.from_mp3(audio_file_path)\n",
        "\n",
        "  print(\"Duration in milliseconds: \", audio.duration_seconds * 1000)\n",
        "  sub_audio_folder = os.path.join(audio_path,audio_file[:-4])\n",
        "  if os.path.isdir(sub_audio_folder) is False:\n",
        "    os.mkdir( os.path.join(audio_path,audio_file[:-4]))\n",
        "  \n",
        "  get_chunks(audio, audio_file[:-4], sub_audio_folder, 15)\n",
        "  extracted_text = decode_audio_to_text_adv(sub_audio_folder)\n",
        "\n",
        "  sub_audio_folder_b = sub_audio_folder + \"/*\"\n",
        "  files = glob.glob(sub_audio_folder_b)\n",
        "  for f in files:\n",
        "    os.remove(f)\n",
        "\n",
        "  transcript_file = os.path.join(sub_audio_folder,audio_file[:-4])\n",
        "  transcript_file = transcript_file + \"_speech.json\"\n",
        "  print(\" \")\n",
        "  print(extracted_text)\n",
        "\n",
        "  result[audio_file] = extracted_text\n",
        "  all_result[audio_file] = extracted_text\n",
        "  try:\n",
        "    with open(transcript_file, 'w') as fp:\n",
        "      json.dump(result, fp)\n",
        "  except:\n",
        "    print(\"fucked encoding\")\n",
        "  \n",
        "\n"
      ],
      "metadata": {
        "colab": {
          "base_uri": "https://localhost:8080/",
          "height": 1000
        },
        "id": "ALm4KWegSL4B",
        "outputId": "53a5af31-2f1a-486d-abb0-c24ca55496e8"
      },
      "execution_count": null,
      "outputs": [
        {
          "output_type": "stream",
          "name": "stdout",
          "text": [
            "/content/audio\n"
          ]
        },
        {
          "output_type": "display_data",
          "data": {
            "text/plain": [
              "<IPython.core.display.HTML object>"
            ],
            "text/html": [
              "\n",
              "     <input type=\"file\" id=\"files-8ff43e88-5346-4022-82f7-4b7c89f02c4d\" name=\"files[]\" multiple disabled\n",
              "        style=\"border:none\" />\n",
              "     <output id=\"result-8ff43e88-5346-4022-82f7-4b7c89f02c4d\">\n",
              "      Upload widget is only available when the cell has been executed in the\n",
              "      current browser session. Please rerun this cell to enable.\n",
              "      </output>\n",
              "      <script>// Copyright 2017 Google LLC\n",
              "//\n",
              "// Licensed under the Apache License, Version 2.0 (the \"License\");\n",
              "// you may not use this file except in compliance with the License.\n",
              "// You may obtain a copy of the License at\n",
              "//\n",
              "//      http://www.apache.org/licenses/LICENSE-2.0\n",
              "//\n",
              "// Unless required by applicable law or agreed to in writing, software\n",
              "// distributed under the License is distributed on an \"AS IS\" BASIS,\n",
              "// WITHOUT WARRANTIES OR CONDITIONS OF ANY KIND, either express or implied.\n",
              "// See the License for the specific language governing permissions and\n",
              "// limitations under the License.\n",
              "\n",
              "/**\n",
              " * @fileoverview Helpers for google.colab Python module.\n",
              " */\n",
              "(function(scope) {\n",
              "function span(text, styleAttributes = {}) {\n",
              "  const element = document.createElement('span');\n",
              "  element.textContent = text;\n",
              "  for (const key of Object.keys(styleAttributes)) {\n",
              "    element.style[key] = styleAttributes[key];\n",
              "  }\n",
              "  return element;\n",
              "}\n",
              "\n",
              "// Max number of bytes which will be uploaded at a time.\n",
              "const MAX_PAYLOAD_SIZE = 100 * 1024;\n",
              "\n",
              "function _uploadFiles(inputId, outputId) {\n",
              "  const steps = uploadFilesStep(inputId, outputId);\n",
              "  const outputElement = document.getElementById(outputId);\n",
              "  // Cache steps on the outputElement to make it available for the next call\n",
              "  // to uploadFilesContinue from Python.\n",
              "  outputElement.steps = steps;\n",
              "\n",
              "  return _uploadFilesContinue(outputId);\n",
              "}\n",
              "\n",
              "// This is roughly an async generator (not supported in the browser yet),\n",
              "// where there are multiple asynchronous steps and the Python side is going\n",
              "// to poll for completion of each step.\n",
              "// This uses a Promise to block the python side on completion of each step,\n",
              "// then passes the result of the previous step as the input to the next step.\n",
              "function _uploadFilesContinue(outputId) {\n",
              "  const outputElement = document.getElementById(outputId);\n",
              "  const steps = outputElement.steps;\n",
              "\n",
              "  const next = steps.next(outputElement.lastPromiseValue);\n",
              "  return Promise.resolve(next.value.promise).then((value) => {\n",
              "    // Cache the last promise value to make it available to the next\n",
              "    // step of the generator.\n",
              "    outputElement.lastPromiseValue = value;\n",
              "    return next.value.response;\n",
              "  });\n",
              "}\n",
              "\n",
              "/**\n",
              " * Generator function which is called between each async step of the upload\n",
              " * process.\n",
              " * @param {string} inputId Element ID of the input file picker element.\n",
              " * @param {string} outputId Element ID of the output display.\n",
              " * @return {!Iterable<!Object>} Iterable of next steps.\n",
              " */\n",
              "function* uploadFilesStep(inputId, outputId) {\n",
              "  const inputElement = document.getElementById(inputId);\n",
              "  inputElement.disabled = false;\n",
              "\n",
              "  const outputElement = document.getElementById(outputId);\n",
              "  outputElement.innerHTML = '';\n",
              "\n",
              "  const pickedPromise = new Promise((resolve) => {\n",
              "    inputElement.addEventListener('change', (e) => {\n",
              "      resolve(e.target.files);\n",
              "    });\n",
              "  });\n",
              "\n",
              "  const cancel = document.createElement('button');\n",
              "  inputElement.parentElement.appendChild(cancel);\n",
              "  cancel.textContent = 'Cancel upload';\n",
              "  const cancelPromise = new Promise((resolve) => {\n",
              "    cancel.onclick = () => {\n",
              "      resolve(null);\n",
              "    };\n",
              "  });\n",
              "\n",
              "  // Wait for the user to pick the files.\n",
              "  const files = yield {\n",
              "    promise: Promise.race([pickedPromise, cancelPromise]),\n",
              "    response: {\n",
              "      action: 'starting',\n",
              "    }\n",
              "  };\n",
              "\n",
              "  cancel.remove();\n",
              "\n",
              "  // Disable the input element since further picks are not allowed.\n",
              "  inputElement.disabled = true;\n",
              "\n",
              "  if (!files) {\n",
              "    return {\n",
              "      response: {\n",
              "        action: 'complete',\n",
              "      }\n",
              "    };\n",
              "  }\n",
              "\n",
              "  for (const file of files) {\n",
              "    const li = document.createElement('li');\n",
              "    li.append(span(file.name, {fontWeight: 'bold'}));\n",
              "    li.append(span(\n",
              "        `(${file.type || 'n/a'}) - ${file.size} bytes, ` +\n",
              "        `last modified: ${\n",
              "            file.lastModifiedDate ? file.lastModifiedDate.toLocaleDateString() :\n",
              "                                    'n/a'} - `));\n",
              "    const percent = span('0% done');\n",
              "    li.appendChild(percent);\n",
              "\n",
              "    outputElement.appendChild(li);\n",
              "\n",
              "    const fileDataPromise = new Promise((resolve) => {\n",
              "      const reader = new FileReader();\n",
              "      reader.onload = (e) => {\n",
              "        resolve(e.target.result);\n",
              "      };\n",
              "      reader.readAsArrayBuffer(file);\n",
              "    });\n",
              "    // Wait for the data to be ready.\n",
              "    let fileData = yield {\n",
              "      promise: fileDataPromise,\n",
              "      response: {\n",
              "        action: 'continue',\n",
              "      }\n",
              "    };\n",
              "\n",
              "    // Use a chunked sending to avoid message size limits. See b/62115660.\n",
              "    let position = 0;\n",
              "    do {\n",
              "      const length = Math.min(fileData.byteLength - position, MAX_PAYLOAD_SIZE);\n",
              "      const chunk = new Uint8Array(fileData, position, length);\n",
              "      position += length;\n",
              "\n",
              "      const base64 = btoa(String.fromCharCode.apply(null, chunk));\n",
              "      yield {\n",
              "        response: {\n",
              "          action: 'append',\n",
              "          file: file.name,\n",
              "          data: base64,\n",
              "        },\n",
              "      };\n",
              "\n",
              "      let percentDone = fileData.byteLength === 0 ?\n",
              "          100 :\n",
              "          Math.round((position / fileData.byteLength) * 100);\n",
              "      percent.textContent = `${percentDone}% done`;\n",
              "\n",
              "    } while (position < fileData.byteLength);\n",
              "  }\n",
              "\n",
              "  // All done.\n",
              "  yield {\n",
              "    response: {\n",
              "      action: 'complete',\n",
              "    }\n",
              "  };\n",
              "}\n",
              "\n",
              "scope.google = scope.google || {};\n",
              "scope.google.colab = scope.google.colab || {};\n",
              "scope.google.colab._files = {\n",
              "  _uploadFiles,\n",
              "  _uploadFilesContinue,\n",
              "};\n",
              "})(self);\n",
              "</script> "
            ]
          },
          "metadata": {}
        },
        {
          "output_type": "stream",
          "name": "stdout",
          "text": [
            "/content/audio/Advocate_1.mp3\n",
            "Duration in milliseconds:  2874496.0\n",
            " Audio file Advocate_1 is created and saved in /content/audio/Advocate_1/1.mp3\n",
            " Audio file Advocate_1 is created and saved in /content/audio/Advocate_1/2.mp3\n",
            " Audio file Advocate_1 is created and saved in /content/audio/Advocate_1/3.mp3\n",
            " Audio file Advocate_1 is created and saved in /content/audio/Advocate_1/4.mp3\n",
            " Audio file Advocate_1 is created and saved in /content/audio/Advocate_1/5.mp3\n",
            " Audio file Advocate_1 is created and saved in /content/audio/Advocate_1/6.mp3\n",
            " Audio file Advocate_1 is created and saved in /content/audio/Advocate_1/7.mp3\n",
            " Audio file Advocate_1 is created and saved in /content/audio/Advocate_1/8.mp3\n",
            " Audio file Advocate_1 is created and saved in /content/audio/Advocate_1/9.mp3\n",
            " Audio file Advocate_1 is created and saved in /content/audio/Advocate_1/10.mp3\n",
            " Audio file Advocate_1 is created and saved in /content/audio/Advocate_1/11.mp3\n",
            " Audio file Advocate_1 is created and saved in /content/audio/Advocate_1/12.mp3\n",
            " Audio file Advocate_1 is created and saved in /content/audio/Advocate_1/13.mp3\n",
            " Audio file Advocate_1 is created and saved in /content/audio/Advocate_1/14.mp3\n",
            " Audio file Advocate_1 is created and saved in /content/audio/Advocate_1/15.mp3\n",
            " Audio file Advocate_1 is created and saved in /content/audio/Advocate_1/16.mp3\n",
            " Audio file Advocate_1 is created and saved in /content/audio/Advocate_1/17.mp3\n",
            " Audio file Advocate_1 is created and saved in /content/audio/Advocate_1/18.mp3\n",
            " Audio file Advocate_1 is created and saved in /content/audio/Advocate_1/19.mp3\n",
            " Audio file Advocate_1 is created and saved in /content/audio/Advocate_1/20.mp3\n",
            " Audio file Advocate_1 is created and saved in /content/audio/Advocate_1/21.mp3\n",
            " Audio file Advocate_1 is created and saved in /content/audio/Advocate_1/22.mp3\n",
            " Audio file Advocate_1 is created and saved in /content/audio/Advocate_1/23.mp3\n",
            " Audio file Advocate_1 is created and saved in /content/audio/Advocate_1/24.mp3\n",
            " Audio file Advocate_1 is created and saved in /content/audio/Advocate_1/25.mp3\n",
            " Audio file Advocate_1 is created and saved in /content/audio/Advocate_1/26.mp3\n",
            " Audio file Advocate_1 is created and saved in /content/audio/Advocate_1/27.mp3\n",
            " Audio file Advocate_1 is created and saved in /content/audio/Advocate_1/28.mp3\n",
            " Audio file Advocate_1 is created and saved in /content/audio/Advocate_1/29.mp3\n",
            " Audio file Advocate_1 is created and saved in /content/audio/Advocate_1/30.mp3\n",
            " Audio file Advocate_1 is created and saved in /content/audio/Advocate_1/31.mp3\n",
            " Audio file Advocate_1 is created and saved in /content/audio/Advocate_1/32.mp3\n",
            " Audio file Advocate_1 is created and saved in /content/audio/Advocate_1/33.mp3\n",
            " Audio file Advocate_1 is created and saved in /content/audio/Advocate_1/34.mp3\n",
            " Audio file Advocate_1 is created and saved in /content/audio/Advocate_1/35.mp3\n",
            " Audio file Advocate_1 is created and saved in /content/audio/Advocate_1/36.mp3\n",
            " Audio file Advocate_1 is created and saved in /content/audio/Advocate_1/37.mp3\n",
            " Audio file Advocate_1 is created and saved in /content/audio/Advocate_1/38.mp3\n",
            " Audio file Advocate_1 is created and saved in /content/audio/Advocate_1/39.mp3\n",
            " Audio file Advocate_1 is created and saved in /content/audio/Advocate_1/40.mp3\n",
            " Audio file Advocate_1 is created and saved in /content/audio/Advocate_1/41.mp3\n",
            " Audio file Advocate_1 is created and saved in /content/audio/Advocate_1/42.mp3\n",
            " Audio file Advocate_1 is created and saved in /content/audio/Advocate_1/43.mp3\n",
            " Audio file Advocate_1 is created and saved in /content/audio/Advocate_1/44.mp3\n",
            " Audio file Advocate_1 is created and saved in /content/audio/Advocate_1/45.mp3\n",
            " Audio file Advocate_1 is created and saved in /content/audio/Advocate_1/46.mp3\n",
            " Audio file Advocate_1 is created and saved in /content/audio/Advocate_1/47.mp3\n",
            " Audio file Advocate_1 is created and saved in /content/audio/Advocate_1/48.mp3\n",
            " Audio file Advocate_1 is created and saved in /content/audio/Advocate_1/49.mp3\n",
            " Audio file Advocate_1 is created and saved in /content/audio/Advocate_1/50.mp3\n",
            " Audio file Advocate_1 is created and saved in /content/audio/Advocate_1/51.mp3\n",
            " Audio file Advocate_1 is created and saved in /content/audio/Advocate_1/52.mp3\n",
            " Audio file Advocate_1 is created and saved in /content/audio/Advocate_1/53.mp3\n",
            " Audio file Advocate_1 is created and saved in /content/audio/Advocate_1/54.mp3\n",
            " Audio file Advocate_1 is created and saved in /content/audio/Advocate_1/55.mp3\n",
            " Audio file Advocate_1 is created and saved in /content/audio/Advocate_1/56.mp3\n",
            " Audio file Advocate_1 is created and saved in /content/audio/Advocate_1/57.mp3\n",
            " Audio file Advocate_1 is created and saved in /content/audio/Advocate_1/58.mp3\n",
            " Audio file Advocate_1 is created and saved in /content/audio/Advocate_1/59.mp3\n",
            " Audio file Advocate_1 is created and saved in /content/audio/Advocate_1/60.mp3\n",
            " Audio file Advocate_1 is created and saved in /content/audio/Advocate_1/61.mp3\n",
            " Audio file Advocate_1 is created and saved in /content/audio/Advocate_1/62.mp3\n",
            " Audio file Advocate_1 is created and saved in /content/audio/Advocate_1/63.mp3\n",
            " Audio file Advocate_1 is created and saved in /content/audio/Advocate_1/64.mp3\n",
            " Audio file Advocate_1 is created and saved in /content/audio/Advocate_1/65.mp3\n",
            " Audio file Advocate_1 is created and saved in /content/audio/Advocate_1/66.mp3\n",
            " Audio file Advocate_1 is created and saved in /content/audio/Advocate_1/67.mp3\n",
            " Audio file Advocate_1 is created and saved in /content/audio/Advocate_1/68.mp3\n",
            " Audio file Advocate_1 is created and saved in /content/audio/Advocate_1/69.mp3\n",
            " Audio file Advocate_1 is created and saved in /content/audio/Advocate_1/70.mp3\n",
            " Audio file Advocate_1 is created and saved in /content/audio/Advocate_1/71.mp3\n",
            " Audio file Advocate_1 is created and saved in /content/audio/Advocate_1/72.mp3\n",
            " Audio file Advocate_1 is created and saved in /content/audio/Advocate_1/73.mp3\n",
            " Audio file Advocate_1 is created and saved in /content/audio/Advocate_1/74.mp3\n",
            " Audio file Advocate_1 is created and saved in /content/audio/Advocate_1/75.mp3\n",
            " Audio file Advocate_1 is created and saved in /content/audio/Advocate_1/76.mp3\n",
            " Audio file Advocate_1 is created and saved in /content/audio/Advocate_1/77.mp3\n",
            " Audio file Advocate_1 is created and saved in /content/audio/Advocate_1/78.mp3\n",
            " Audio file Advocate_1 is created and saved in /content/audio/Advocate_1/79.mp3\n",
            " Audio file Advocate_1 is created and saved in /content/audio/Advocate_1/80.mp3\n",
            " Audio file Advocate_1 is created and saved in /content/audio/Advocate_1/81.mp3\n",
            " Audio file Advocate_1 is created and saved in /content/audio/Advocate_1/82.mp3\n",
            " Audio file Advocate_1 is created and saved in /content/audio/Advocate_1/83.mp3\n",
            " Audio file Advocate_1 is created and saved in /content/audio/Advocate_1/84.mp3\n",
            " Audio file Advocate_1 is created and saved in /content/audio/Advocate_1/85.mp3\n",
            " Audio file Advocate_1 is created and saved in /content/audio/Advocate_1/86.mp3\n",
            " Audio file Advocate_1 is created and saved in /content/audio/Advocate_1/87.mp3\n",
            " Audio file Advocate_1 is created and saved in /content/audio/Advocate_1/88.mp3\n",
            " Audio file Advocate_1 is created and saved in /content/audio/Advocate_1/89.mp3\n",
            " Audio file Advocate_1 is created and saved in /content/audio/Advocate_1/90.mp3\n",
            " Audio file Advocate_1 is created and saved in /content/audio/Advocate_1/91.mp3\n",
            " Audio file Advocate_1 is created and saved in /content/audio/Advocate_1/92.mp3\n",
            " Audio file Advocate_1 is created and saved in /content/audio/Advocate_1/93.mp3\n",
            " Audio file Advocate_1 is created and saved in /content/audio/Advocate_1/94.mp3\n",
            " Audio file Advocate_1 is created and saved in /content/audio/Advocate_1/95.mp3\n",
            " Audio file Advocate_1 is created and saved in /content/audio/Advocate_1/96.mp3\n",
            " Audio file Advocate_1 is created and saved in /content/audio/Advocate_1/97.mp3\n",
            " Audio file Advocate_1 is created and saved in /content/audio/Advocate_1/98.mp3\n",
            " Audio file Advocate_1 is created and saved in /content/audio/Advocate_1/99.mp3\n",
            " Audio file Advocate_1 is created and saved in /content/audio/Advocate_1/100.mp3\n",
            " Audio file Advocate_1 is created and saved in /content/audio/Advocate_1/101.mp3\n",
            " Audio file Advocate_1 is created and saved in /content/audio/Advocate_1/102.mp3\n",
            " Audio file Advocate_1 is created and saved in /content/audio/Advocate_1/103.mp3\n",
            " Audio file Advocate_1 is created and saved in /content/audio/Advocate_1/104.mp3\n",
            " Audio file Advocate_1 is created and saved in /content/audio/Advocate_1/105.mp3\n",
            " Audio file Advocate_1 is created and saved in /content/audio/Advocate_1/106.mp3\n",
            " Audio file Advocate_1 is created and saved in /content/audio/Advocate_1/107.mp3\n",
            " Audio file Advocate_1 is created and saved in /content/audio/Advocate_1/108.mp3\n",
            " Audio file Advocate_1 is created and saved in /content/audio/Advocate_1/109.mp3\n",
            " Audio file Advocate_1 is created and saved in /content/audio/Advocate_1/110.mp3\n",
            " Audio file Advocate_1 is created and saved in /content/audio/Advocate_1/111.mp3\n",
            " Audio file Advocate_1 is created and saved in /content/audio/Advocate_1/112.mp3\n",
            " Audio file Advocate_1 is created and saved in /content/audio/Advocate_1/113.mp3\n",
            " Audio file Advocate_1 is created and saved in /content/audio/Advocate_1/114.mp3\n",
            " Audio file Advocate_1 is created and saved in /content/audio/Advocate_1/115.mp3\n",
            " Audio file Advocate_1 is created and saved in /content/audio/Advocate_1/116.mp3\n",
            " Audio file Advocate_1 is created and saved in /content/audio/Advocate_1/117.mp3\n",
            " Audio file Advocate_1 is created and saved in /content/audio/Advocate_1/118.mp3\n",
            " Audio file Advocate_1 is created and saved in /content/audio/Advocate_1/119.mp3\n",
            " Audio file Advocate_1 is created and saved in /content/audio/Advocate_1/120.mp3\n",
            " Audio file Advocate_1 is created and saved in /content/audio/Advocate_1/121.mp3\n",
            " Audio file Advocate_1 is created and saved in /content/audio/Advocate_1/122.mp3\n",
            " Audio file Advocate_1 is created and saved in /content/audio/Advocate_1/123.mp3\n",
            " Audio file Advocate_1 is created and saved in /content/audio/Advocate_1/124.mp3\n",
            " Audio file Advocate_1 is created and saved in /content/audio/Advocate_1/125.mp3\n",
            " Audio file Advocate_1 is created and saved in /content/audio/Advocate_1/126.mp3\n",
            " Audio file Advocate_1 is created and saved in /content/audio/Advocate_1/127.mp3\n",
            " Audio file Advocate_1 is created and saved in /content/audio/Advocate_1/128.mp3\n",
            " Audio file Advocate_1 is created and saved in /content/audio/Advocate_1/129.mp3\n",
            " Audio file Advocate_1 is created and saved in /content/audio/Advocate_1/130.mp3\n",
            " Audio file Advocate_1 is created and saved in /content/audio/Advocate_1/131.mp3\n",
            " Audio file Advocate_1 is created and saved in /content/audio/Advocate_1/132.mp3\n",
            " Audio file Advocate_1 is created and saved in /content/audio/Advocate_1/133.mp3\n",
            " Audio file Advocate_1 is created and saved in /content/audio/Advocate_1/134.mp3\n",
            " Audio file Advocate_1 is created and saved in /content/audio/Advocate_1/135.mp3\n",
            " Audio file Advocate_1 is created and saved in /content/audio/Advocate_1/136.mp3\n",
            " Audio file Advocate_1 is created and saved in /content/audio/Advocate_1/137.mp3\n",
            " Audio file Advocate_1 is created and saved in /content/audio/Advocate_1/138.mp3\n",
            " Audio file Advocate_1 is created and saved in /content/audio/Advocate_1/139.mp3\n",
            " Audio file Advocate_1 is created and saved in /content/audio/Advocate_1/140.mp3\n",
            " Audio file Advocate_1 is created and saved in /content/audio/Advocate_1/141.mp3\n",
            " Audio file Advocate_1 is created and saved in /content/audio/Advocate_1/142.mp3\n",
            " Audio file Advocate_1 is created and saved in /content/audio/Advocate_1/143.mp3\n",
            " Audio file Advocate_1 is created and saved in /content/audio/Advocate_1/144.mp3\n",
            " Audio file Advocate_1 is created and saved in /content/audio/Advocate_1/145.mp3\n",
            " Audio file Advocate_1 is created and saved in /content/audio/Advocate_1/146.mp3\n",
            " Audio file Advocate_1 is created and saved in /content/audio/Advocate_1/147.mp3\n",
            " Audio file Advocate_1 is created and saved in /content/audio/Advocate_1/148.mp3\n",
            " Audio file Advocate_1 is created and saved in /content/audio/Advocate_1/149.mp3\n",
            " Audio file Advocate_1 is created and saved in /content/audio/Advocate_1/150.mp3\n",
            " Audio file Advocate_1 is created and saved in /content/audio/Advocate_1/151.mp3\n",
            " Audio file Advocate_1 is created and saved in /content/audio/Advocate_1/152.mp3\n",
            " Audio file Advocate_1 is created and saved in /content/audio/Advocate_1/153.mp3\n",
            " Audio file Advocate_1 is created and saved in /content/audio/Advocate_1/154.mp3\n",
            " Audio file Advocate_1 is created and saved in /content/audio/Advocate_1/155.mp3\n",
            " Audio file Advocate_1 is created and saved in /content/audio/Advocate_1/156.mp3\n",
            " Audio file Advocate_1 is created and saved in /content/audio/Advocate_1/157.mp3\n",
            " Audio file Advocate_1 is created and saved in /content/audio/Advocate_1/158.mp3\n",
            " Audio file Advocate_1 is created and saved in /content/audio/Advocate_1/159.mp3\n",
            " Audio file Advocate_1 is created and saved in /content/audio/Advocate_1/160.mp3\n",
            " Audio file Advocate_1 is created and saved in /content/audio/Advocate_1/161.mp3\n",
            " Audio file Advocate_1 is created and saved in /content/audio/Advocate_1/162.mp3\n",
            " Audio file Advocate_1 is created and saved in /content/audio/Advocate_1/163.mp3\n",
            " Audio file Advocate_1 is created and saved in /content/audio/Advocate_1/164.mp3\n",
            " Audio file Advocate_1 is created and saved in /content/audio/Advocate_1/165.mp3\n",
            " Audio file Advocate_1 is created and saved in /content/audio/Advocate_1/166.mp3\n",
            " Audio file Advocate_1 is created and saved in /content/audio/Advocate_1/167.mp3\n",
            " Audio file Advocate_1 is created and saved in /content/audio/Advocate_1/168.mp3\n",
            " Audio file Advocate_1 is created and saved in /content/audio/Advocate_1/169.mp3\n",
            " Audio file Advocate_1 is created and saved in /content/audio/Advocate_1/170.mp3\n",
            " Audio file Advocate_1 is created and saved in /content/audio/Advocate_1/171.mp3\n",
            " Audio file Advocate_1 is created and saved in /content/audio/Advocate_1/172.mp3\n",
            " Audio file Advocate_1 is created and saved in /content/audio/Advocate_1/173.mp3\n",
            " Audio file Advocate_1 is created and saved in /content/audio/Advocate_1/174.mp3\n",
            " Audio file Advocate_1 is created and saved in /content/audio/Advocate_1/175.mp3\n",
            " Audio file Advocate_1 is created and saved in /content/audio/Advocate_1/176.mp3\n",
            " Audio file Advocate_1 is created and saved in /content/audio/Advocate_1/177.mp3\n",
            " Audio file Advocate_1 is created and saved in /content/audio/Advocate_1/178.mp3\n",
            " Audio file Advocate_1 is created and saved in /content/audio/Advocate_1/179.mp3\n",
            " Audio file Advocate_1 is created and saved in /content/audio/Advocate_1/180.mp3\n",
            " Audio file Advocate_1 is created and saved in /content/audio/Advocate_1/181.mp3\n",
            " Audio file Advocate_1 is created and saved in /content/audio/Advocate_1/182.mp3\n",
            " Audio file Advocate_1 is created and saved in /content/audio/Advocate_1/183.mp3\n",
            " Audio file Advocate_1 is created and saved in /content/audio/Advocate_1/184.mp3\n",
            " Audio file Advocate_1 is created and saved in /content/audio/Advocate_1/185.mp3\n",
            " Audio file Advocate_1 is created and saved in /content/audio/Advocate_1/186.mp3\n",
            " Audio file Advocate_1 is created and saved in /content/audio/Advocate_1/187.mp3\n",
            " Audio file Advocate_1 is created and saved in /content/audio/Advocate_1/188.mp3\n",
            " Audio file Advocate_1 is created and saved in /content/audio/Advocate_1/189.mp3\n",
            " Audio file Advocate_1 is created and saved in /content/audio/Advocate_1/190.mp3\n",
            " Audio file Advocate_1 is created and saved in /content/audio/Advocate_1/191.mp3\n",
            "['1.mp3', '2.mp3', '3.mp3', '4.mp3', '5.mp3', '6.mp3', '7.mp3', '8.mp3', '9.mp3', '10.mp3', '11.mp3', '12.mp3', '13.mp3', '14.mp3', '15.mp3', '16.mp3', '17.mp3', '18.mp3', '19.mp3', '20.mp3', '21.mp3', '22.mp3', '23.mp3', '24.mp3', '25.mp3', '26.mp3', '27.mp3', '28.mp3', '29.mp3', '30.mp3', '31.mp3', '32.mp3', '33.mp3', '34.mp3', '35.mp3', '36.mp3', '37.mp3', '38.mp3', '39.mp3', '40.mp3', '41.mp3', '42.mp3', '43.mp3', '44.mp3', '45.mp3', '46.mp3', '47.mp3', '48.mp3', '49.mp3', '50.mp3', '51.mp3', '52.mp3', '53.mp3', '54.mp3', '55.mp3', '56.mp3', '57.mp3', '58.mp3', '59.mp3', '60.mp3', '61.mp3', '62.mp3', '63.mp3', '64.mp3', '65.mp3', '66.mp3', '67.mp3', '68.mp3', '69.mp3', '70.mp3', '71.mp3', '72.mp3', '73.mp3', '74.mp3', '75.mp3', '76.mp3', '77.mp3', '78.mp3', '79.mp3', '80.mp3', '81.mp3', '82.mp3', '83.mp3', '84.mp3', '85.mp3', '86.mp3', '87.mp3', '88.mp3', '89.mp3', '90.mp3', '91.mp3', '92.mp3', '93.mp3', '94.mp3', '95.mp3', '96.mp3', '97.mp3', '98.mp3', '99.mp3', '100.mp3', '101.mp3', '102.mp3', '103.mp3', '104.mp3', '105.mp3', '106.mp3', '107.mp3', '108.mp3', '109.mp3', '110.mp3', '111.mp3', '112.mp3', '113.mp3', '114.mp3', '115.mp3', '116.mp3', '117.mp3', '118.mp3', '119.mp3', '120.mp3', '121.mp3', '122.mp3', '123.mp3', '124.mp3', '125.mp3', '126.mp3', '127.mp3', '128.mp3', '129.mp3', '130.mp3', '131.mp3', '132.mp3', '133.mp3', '134.mp3', '135.mp3', '136.mp3', '137.mp3', '138.mp3', '139.mp3', '140.mp3', '141.mp3', '142.mp3', '143.mp3', '144.mp3', '145.mp3', '146.mp3', '147.mp3', '148.mp3', '149.mp3', '150.mp3', '151.mp3', '152.mp3', '153.mp3', '154.mp3', '155.mp3', '156.mp3', '157.mp3', '158.mp3', '159.mp3', '160.mp3', '161.mp3', '162.mp3', '163.mp3', '164.mp3', '165.mp3', '166.mp3', '167.mp3', '168.mp3', '169.mp3', '170.mp3', '171.mp3', '172.mp3', '173.mp3', '174.mp3', '175.mp3', '176.mp3', '177.mp3', '178.mp3', '179.mp3', '180.mp3', '181.mp3', '182.mp3', '183.mp3', '184.mp3', '185.mp3', '186.mp3', '187.mp3', '188.mp3', '189.mp3', '190.mp3', '191.mp3']\n",
            "Detected language: en\n",
            "For Audio Segment 1.mp3\n",
            " Okay, so could you please describe me a typical day in the life of a lawyer and the aspects of your work that you find most rewarding in this profession.\n",
            "\n",
            "Detected language: en\n",
            "For Audio Segment 2.mp3\n",
            " See, for me, for any lawyer, a person comes to a lawyer, whenever he or she is in a problem, that problem can be...\n",
            "\n",
            "Detected language: en\n",
            "For Audio Segment 3.mp3\n",
            " Whatever it could be, the nature of the problem is different. But it can be civil in nature, it can be criminal in nature or it can be corporate in nature. So, obviously, the charge of fees is very low.\n",
            "\n",
            "Detected language: en\n",
            "For Audio Segment 4.mp3\n",
            " for doing our legal work. But the most rewarding part is when I give relief to a client and he comes and appreciates about, okay sir, thank you.\n",
            "\n",
            "Detected language: en\n",
            "For Audio Segment 5.mp3\n",
            " I was stuck with this job for a long time after coming to U.N. and got the job solved. So this is, fees is obviously, that is, you are practicing.\n",
            "\n",
            "Detected language: en\n",
            "For Audio Segment 6.mp3\n",
            " That is your income, that is your bread and butter. The fees, your bread and butter comes from the fees you get from your clients. But the reward is when the token of appreciation is the main reward of all. To me, I want to know about other people.\n",
            "\n",
            "Detected language: en\n",
            "For Audio Segment 7.mp3\n",
            " But to me, I think slightly lesser fees and more appreciation is, for me, it's a better reward than the fees.\n",
            "\n",
            "Detected language: en\n",
            "For Audio Segment 8.mp3\n",
            " to know about this but what do you think is the general rewarding part for general lawyers like other lawyers that you have seen the facts then you'll see that if a guru senior\n",
            "\n",
            "Detected language: en\n",
            "For Audio Segment 9.mp3\n",
            " 0- Because I men mainly to his base bar commitments and all this and advocates to have a good name in the city there are © there are many awards these seminars BASED\n",
            "\n",
            "Detected language: en\n",
            "For Audio Segment 10.mp3\n",
            " of the year from UAP Anandu and I. That is really a proud moment for me also for my fellow advocates getting re-vibrated like this. But, mostly...\n",
            "\n",
            "Detected language: en\n",
            "For Audio Segment 11.mp3\n",
            " these awards, these are actually gimmicks. The award, for me the award must be emotionally innocent.\n",
            "\n",
            "Detected language: en\n",
            "For Audio Segment 12.mp3\n",
            " The token of appreciation is, I think to me, more than a memento coming from Z or from every corner. Anyways, maybe if you get me wrong that I didn't get these awards, that's why I'm saying like...\n",
            "\n",
            "Detected language: en\n",
            "For Audio Segment 13.mp3\n",
            " this but someday I get the words my review will be the same that's very insightful you know true coming to that like what\n",
            "\n",
            "Detected language: en\n",
            "For Audio Segment 14.mp3\n",
            " It made you first so interested about pursuing this career in law. What motivates you to coming back to this field and continue working in this field day in and day out?\n",
            "\n",
            "Detected language: en\n",
            "For Audio Segment 15.mp3\n",
            " So, the law of the land is the constitution of India. So, constitution is ruling over all the laws. If any new law is implemented or before constitution there are many laws.\n",
            "\n",
            "Detected language: en\n",
            "For Audio Segment 16.mp3\n",
            " like the IPC, CPC, these laws were transformed properly. They are coming from 1800, 19th century, 20th century laws. But the Constitution came into force in the year 1950.\n",
            "\n",
            "Detected language: en\n",
            "For Audio Segment 17.mp3\n",
            " So according to the Constitution, whatever law is a bad law which has been enforced previously, these laws get repealed.\n",
            "\n",
            "Detected language: en\n",
            "For Audio Segment 18.mp3\n",
            " contrary to the constitution of India. And any new law after the constitution came forth, whatever law is getting enacted, new laws are getting enacted, new statutory laws or rules, that must\n",
            "\n",
            "Detected language: en\n",
            "For Audio Segment 19.mp3\n",
            " be binding to the constitution and that should not be derogatory or conferring to the constitution of India. So here comes the main part. Your main question\n",
            "\n",
            "Detected language: en\n",
            "For Audio Segment 20.mp3\n",
            " I am asking, answering the question, what made me keen to pursue my career in God? See, all the people of India, each and every...\n",
            "\n",
            "Detected language: en\n",
            "For Audio Segment 21.mp3\n",
            " All machine government, machine everything, they are bound by law. So, and law comes from the sources of law, different religion, custom, judicial precedence.\n",
            "\n",
            "Detected language: en\n",
            "For Audio Segment 22.mp3\n",
            " These are all our sources of Law. So, Society is regulated by Law. There are many Laws that are evil for the Society. Where for the Society? Maximum the Custody.\n",
            "\n",
            "Detected language: en\n",
            "For Audio Segment 23.mp3\n",
            " customary laws, religious laws, sometimes not all the laws, some parts of the legal system which needs amendment and the constitution has provisions for amendment.\n",
            "\n",
            "Detected language: en\n",
            "For Audio Segment 24.mp3\n",
            " So it depends on the lawyer, on advocates or lawyers to take up the problems of society to in court to the court of law. May it be high courts and...\n",
            "\n",
            "Detected language: en\n",
            "For Audio Segment 25.mp3\n",
            " Supreme Court has the power to make amendments to the laws. So if there is a grave issue in society, that can only be changed by law. For example, I am saying...\n",
            "\n",
            "Detected language: en\n",
            "For Audio Segment 26.mp3\n",
            " I'm sure you have heard about Nirbhaya case, right? Absolutely. There were many changes, many amendments in criminal law, constitutional law, after the Nirbhaya case. So, laws...\n",
            "\n",
            "Detected language: en\n",
            "For Audio Segment 27.mp3\n",
            " which are protective towards women, were all amended the punishments for violating a woman's modesty. That decreed the women's modesty.\n",
            "\n",
            "Detected language: en\n",
            "For Audio Segment 28.mp3\n",
            " of punishment has been changed. There are many amendments like section 354 to section 370 that is concerned about rape. Many amendments have been made.\n",
            "\n",
            "Detected language: en\n",
            "For Audio Segment 29.mp3\n",
            " assure better protection for the women in the eyes of love. So there are many instances like this. But this is the thing. Just for example, I placed this incident as many of you.\n",
            "\n",
            "Detected language: en\n",
            "For Audio Segment 30.mp3\n",
            " know about this incident. So, I think as a lawyer, I can help the society get better and better divided.\n",
            "\n",
            "Detected language: en\n",
            "For Audio Segment 31.mp3\n",
            " amendments in law or new enactments. New enactments are not in the hands of an advocate but whatever is bad in law can be changed. Whatever is not there but should have been there can come through an advocate.\n",
            "\n",
            "Detected language: en\n",
            "For Audio Segment 32.mp3\n",
            " and that is, that has a direct effect on the society, which is developmental in nature.\n",
            "\n",
            "Detected language: en\n",
            "For Audio Segment 33.mp3\n",
            " That's well understood. Could you describe of any such high impact or high profile cases that impacted the criminal life?\n",
            "\n",
            "Detected language: en\n",
            "For Audio Segment 34.mp3\n",
            " lawyers and how did you handle the pressure and scrutiny that is associated with these cases. Like you know the impact that high profile cases have on criminal lawyers.\n",
            "\n",
            "Detected language: en\n",
            "For Audio Segment 35.mp3\n",
            " what that impacts, how that impacts a lawyer.\n",
            "\n",
            "Detected language: en\n",
            "For Audio Segment 36.mp3\n",
            " proper reference, the case number or the name of any such persons who are associated with this case. I will tell you the incident.\n",
            "\n",
            "Detected language: en\n",
            "For Audio Segment 37.mp3\n",
            " This was the early years of my practice. A 21 year old girl came to me.\n",
            "\n",
            "Detected language: en\n",
            "For Audio Segment 38.mp3\n",
            " And she wanted me to file a case against one accused person. She lives in a...\n",
            "\n",
            "Detected language: en\n",
            "For Audio Segment 39.mp3\n",
            " She is a dancer and her friends and her dance group.\n",
            "\n",
            "Detected language: en\n",
            "For Audio Segment 40.mp3\n",
            " to practice dancing lessons in the ground floor of her house. It's a house, it's not a flat, it's a house, home house. So there was a room, I don't know where it was, I don't\n",
            "\n",
            "Detected language: en\n",
            "For Audio Segment 41.mp3\n",
            " or whatever, lives in a slum nearby. He needs to regularly come to near the window and moves to uplift the windows.\n",
            "\n",
            "Detected language: en\n",
            "For Audio Segment 42.mp3\n",
            " his Longyuan master bait, looking at them. So many a times, the girl has come from the local pool station, many a times she has come\n",
            "\n",
            "Detected language: en\n",
            "For Audio Segment 43.mp3\n",
            " One day, around 1 pm in the night, a friend of her came to the house and she was\n",
            "\n",
            "Detected language: en\n",
            "For Audio Segment 44.mp3\n",
            " came to her house and she was leaving around 1 a.m. in the night. So this girl came out to see her off. At that time this guy was there.\n",
            "\n",
            "Detected language: en\n",
            "For Audio Segment 45.mp3\n",
            " and pulled down the top of this girl and beat her just above the areola of the nipple area of her breasts.\n",
            "\n",
            "Detected language: en\n",
            "For Audio Segment 46.mp3\n",
            " Not a normal diet. He exerted enough pressure to properly make her bleed.\n",
            "\n",
            "Detected language: en\n",
            "For Audio Segment 47.mp3\n",
            " She came to me, I sent her to the government hospital to take out a medical. We went to the local play station. Fire launched a complaint which was later treated as an air fire. And this accused person...\n",
            "\n",
            "Detected language: en\n",
            "For Audio Segment 48.mp3\n",
            " This accused person doesn't come from any political background. I don't know. Maybe I'm wrong. But he's not anyone who's powerful or weak.\n",
            "\n",
            "Detected language: en\n",
            "For Audio Segment 49.mp3\n",
            " which leaves in a storm and he is just wandering here and there, 50's in girls, I know. I was the defector.\n",
            "\n",
            "Detected language: bn\n"
          ]
        },
        {
          "output_type": "stream",
          "name": "stderr",
          "text": [
            "/usr/local/lib/python3.10/dist-packages/transformers/generation/utils.py:1353: UserWarning: Using `max_length`'s default (448) to control the generation length. This behaviour is deprecated and will be removed from the config in v5 of Transformers -- we recommend using `max_new_tokens` to control the maximum length of the generation.\n",
            "  warnings.warn(\n"
          ]
        },
        {
          "output_type": "stream",
          "name": "stdout",
          "text": [
            "For Audio Segment 50.mp3\n",
            "আই অবস্ট ফর দিফার্কটি কমপ্লেনেন দ্য গোয়ালাইমার টেকমার নিয়ে নিকল্যান্ট। আই দ্য ফরস্ট ডেট অফিরেন আই স্টুট হেতমাই ফর দিফার্কটি কমপ্লেন্ট একান দ্য বিউল্ভাস রিজেক।\n",
            "\n",
            "Detected language: en\n",
            "For Audio Segment 51.mp3\n",
            " And there was a date given by the judge on three, four days for police custody and after three, four days of police custody, the next day it was there. On that date...\n",
            "\n",
            "Detected language: en\n",
            "For Audio Segment 52.mp3\n",
            " Senior Advocate standing on behalf of that accused person Who has high level political post in West Bengal\n",
            "\n",
            "Detected language: en\n",
            "For Audio Segment 53.mp3\n",
            " So, when I was standing for the de facto and again the bail was rejected, he called me through his PA and he said,\n",
            "\n",
            "Detected language: en\n",
            "For Audio Segment 54.mp3\n",
            " ask me to step down from the matter ask me whatever money I want he will give me but I should step down from the matter so if this is the scenario involved\n",
            "\n",
            "Detected language: en\n",
            "For Audio Segment 55.mp3\n",
            " A goon lives in a slum, is biting a 21 years old girl in her breast so badly that made her bleed. And this guy masturbating in front of the...\n",
            "\n",
            "Detected language: bn\n"
          ]
        },
        {
          "output_type": "stream",
          "name": "stderr",
          "text": [
            "/usr/local/lib/python3.10/dist-packages/transformers/generation/utils.py:1353: UserWarning: Using `max_length`'s default (448) to control the generation length. This behaviour is deprecated and will be removed from the config in v5 of Transformers -- we recommend using `max_new_tokens` to control the maximum length of the generation.\n",
            "  warnings.warn(\n"
          ]
        },
        {
          "output_type": "stream",
          "name": "stdout",
          "text": [
            "For Audio Segment 56.mp3\n",
            "দেন দিন দিন দিন দিন দিন দিন দিন দিন দিন দিন দিন দিন সিনিয়র অ্যাডভোকেট হাই কটিকার ইনফ্রেন্সন হিউ অসু হোলস অন্য অধ্যাপটিকার হিউ সুসু আইটন মোয়াবহ্ন হিউ সুহোলস।\n",
            "\n",
            "Detected language: en\n",
            "For Audio Segment 57.mp3\n",
            " powerful post in the ruling political party. So after that I didn't step down. My father is an ACP.\n",
            "\n",
            "Detected language: en\n",
            "For Audio Segment 58.mp3\n",
            " and he was in charge of that area's local police station. So this advocate, politician, whatever you call him, he called my dad and asked me, asked us to...\n",
            "\n",
            "Detected language: en\n",
            "For Audio Segment 59.mp3\n",
            " If I want to step down in starting career, it's career will get ruined. So these type of threats I have received but nonetheless I have always stuck to my point.\n",
            "\n",
            "Detected language: en\n",
            "For Audio Segment 60.mp3\n",
            " I fought for that, in due course of law, that person got bail. But after that, this person has still, till now, has not disturbed my client ever again. I don't know what he is doing with other people.\n",
            "\n",
            "Detected language: en\n",
            "For Audio Segment 61.mp3\n",
            " My client, this incident never happened. Well, first of all, thank you for so elaborately providing us the information. It was really very insightful. So, what is the problem?\n",
            "\n",
            "Detected language: en\n",
            "For Audio Segment 62.mp3\n",
            " What effect did this have on you man? This entire thing at the beginning of your career facing such people and such threats What impact this has had on you?\n",
            "\n",
            "Detected language: en\n",
            "For Audio Segment 63.mp3\n",
            " For me, it was very difficult because I know in our courts there is a very powerful influence of the political system.\n",
            "\n",
            "Detected language: en\n",
            "For Audio Segment 64.mp3\n",
            " political parties as there are unions everywhere. Even in lower court, there are different unions.\n",
            "\n",
            "Detected language: en\n",
            "For Audio Segment 65.mp3\n",
            " The problem is that I am not associated with any of these unions. And I know that if one union is against me, the opposition unions won't stand with me. Because I don't go in the rallies.\n",
            "\n",
            "Detected language: en\n",
            "For Audio Segment 66.mp3\n",
            " involved. I don't cast my vote for anyone. I don't attend their parties. I don't make any donations to them. Obviously there was a security threat because I live with my family, my parents, my mom.\n",
            "\n",
            "Detected language: en\n",
            "For Audio Segment 67.mp3\n",
            " on my dad. But most precisely I was very much worried that whether I could stand in the court of law after this and...\n",
            "\n",
            "Detected language: en\n",
            "For Audio Segment 68.mp3\n",
            " I can't continue my practice in that court. But I never lost faith in myself. Why was that? Because I know there will be...\n",
            "\n",
            "Detected language: en\n",
            "For Audio Segment 69.mp3\n",
            " members of the bar the ruling party will come in the middle of will snatch my clients or they will take steps and reject my\n",
            "\n",
            "Detected language: en\n",
            "For Audio Segment 70.mp3\n",
            " Bar environment. There are many threats of a lawyer in a lawyer's place in the starting ages. Is this common? No, it's not common because there are very few people who stand against corruption.\n",
            "\n",
            "Detected language: en\n",
            "For Audio Segment 71.mp3\n",
            " It's like, okay this is happening, this is just goes to the floor. If the powerful people are not liking this move of yours, and even they are offering you cash, take it and just let it be.\n",
            "\n",
            "Detected language: en\n",
            "For Audio Segment 72.mp3\n",
            " There has always been people who have always stood with whatever is right against corruption. And that's why out of all these corrupted people...\n",
            "\n",
            "Detected language: en\n",
            "For Audio Segment 73.mp3\n",
            " corruption in every government machinery. State is running, the country is moving. There are people, there are not one, two, there are many people actually.\n",
            "\n",
            "Detected language: en\n",
            "For Audio Segment 74.mp3\n",
            " standing against corruption, standing against the wrong deeds that is happening in society. And that's why the society as a structure, it's still in the run.\n",
            "\n",
            "Detected language: en\n",
            "For Audio Segment 75.mp3\n",
            "ua to Awesome. 10\n",
            "\n",
            "Detected language: en\n",
            "For Audio Segment 76.mp3\n",
            " describe for me the common type of cases that criminal lawyer typically work on. The common challenges and obstacles that they face in their cases and it would be better if you could explain us with an example.\n",
            "\n",
            "Detected language: en\n",
            "For Audio Segment 77.mp3\n",
            " or a incident like it would be beneficial for us to understand as we are not related to the field directly. See normal criminal cases...\n",
            "\n",
            "Detected language: en\n",
            "For Audio Segment 78.mp3\n",
            " you do not know the right answer You will find that they. All this Ram Jain's including Image brings very, very good Victoria'sBox in his pants NFoods It actually has 4 pounds He will do the same Govard Jessok Governance Playsriers\n",
            "\n",
            "Detected language: en\n",
            "For Audio Segment 79.mp3\n",
            " The punishment of fates is more than seven months. These are hard to take care of. On these kind of matters, it is hard to take care of.\n",
            "\n",
            "Detected language: en\n",
            "For Audio Segment 80.mp3\n",
            " what we need to do in the end is we go through a case diary a total case and find out the loopholes of the prosecution prosecution, see\n",
            "\n",
            "Detected language: bn\n"
          ]
        },
        {
          "output_type": "stream",
          "name": "stderr",
          "text": [
            "/usr/local/lib/python3.10/dist-packages/transformers/generation/utils.py:1353: UserWarning: Using `max_length`'s default (448) to control the generation length. This behaviour is deprecated and will be removed from the config in v5 of Transformers -- we recommend using `max_new_tokens` to control the maximum length of the generation.\n",
            "  warnings.warn(\n"
          ]
        },
        {
          "output_type": "stream",
          "name": "stdout",
          "text": [
            "For Audio Segment 81.mp3\n",
            "এই চেনাভিক বার্সনের হিউমেন বিহান দেয়ার হিউমেন হেরাজ এভিভাগ। যেভাগর আই আম ডুয়েন হানের প্রশানে সাথ করেন। না আই না কারেন অলবেজ না অলবেজ করেন। মোহিউমেন বিহিউন হানবেজ হানবেজ করেন। তাই ওই হিউমেন হেরাজ।\n",
            "\n",
            "Detected language: en\n",
            "For Audio Segment 82.mp3\n",
            " in each and every step of every person's life. So in this case, we first try to find out the new foods. And as...\n",
            "\n",
            "Detected language: en\n",
            "For Audio Segment 83.mp3\n",
            " It is not just an actual interview I am giving. In female cases, mainly what you call setting. Setting is very important.\n",
            "\n",
            "Detected language: en\n",
            "For Audio Segment 84.mp3\n",
            " You need to know the setting to get your client out of it. There are various steps, various positions with whom you have to get associated.\n",
            "\n",
            "Detected language: en\n",
            "For Audio Segment 85.mp3\n",
            " In the previous criminal cases, a former defence lawyer has to go through this setting or jack, whatever you call it. And then, if you are an eminent lawyer, you have to go through this setting or jack, whatever you call it.\n",
            "\n",
            "Detected language: en\n",
            "For Audio Segment 86.mp3\n",
            " find out loopholes then generally if the lawyer can find the loophole of the lacunas of the prosecution they won't go for setting they just go for a quote and\n",
            "\n",
            "Detected language: en\n",
            "For Audio Segment 87.mp3\n",
            " blow their voices and get the judge, convince the judge to get his client out on bail. But when you know your client has done the misdeeds, then you have to go for the setting.\n",
            "\n",
            "Detected language: en\n",
            "For Audio Segment 88.mp3\n",
            " So what are the challenges that are involved in such cases? Seems very interesting.\n",
            "\n",
            "Detected language: en\n",
            "For Audio Segment 89.mp3\n",
            " So now, the problem is that there will be some of your clients who will not keep up to their commitment.\n",
            "\n",
            "Detected language: en\n",
            "For Audio Segment 90.mp3\n",
            " certain post holders who might not keep the comment. This doesn't happen every time. 20% cases keep these at... okay this will happen.\n",
            "\n",
            "Detected language: en\n",
            "For Audio Segment 91.mp3\n",
            " It's a, what you call, bad debt, you can call if you are doing a business. You know 20% is your bad debt and this is the same in our profession also. You know, 100% commitment. There are people who are doing business.\n",
            "\n",
            "Detected language: en\n",
            "For Audio Segment 92.mp3\n",
            " will fail to commit. They will commit and they will fail. So in these cases, this commitment failure can be done by your client. It can come from the...\n",
            "\n",
            "Detected language: en\n",
            "For Audio Segment 93.mp3\n",
            " Post holders. So, you have to balance it. How does this make you feel when such commitments are violated and sealed? In that moment,\n",
            "\n",
            "Detected language: en\n",
            "For Audio Segment 94.mp3\n",
            " It's not easy, okay? First, the first thing is that you get tensed. And the main thing about that moment is you should not take any decision at all.\n",
            "\n",
            "Detected language: en\n",
            "For Audio Segment 95.mp3\n",
            " that point of time. What I have learnt from this, previously I was like, oh, this happened, so let's go like this, because whatever good thing has happened, good thing means any positive thing. For me, getting...\n",
            "\n",
            "Detected language: en\n",
            "For Audio Segment 96.mp3\n",
            " or AP Stoughton bill is a positive thing. For the prosecution extending his custody is a positive thing.\n",
            "\n",
            "Detected language: en\n",
            "For Audio Segment 97.mp3\n",
            " First thing you need to have is a calm mind. A calm mind has the power to think. A disturbed mind. A mind which is filled with agony is not.\n",
            "\n",
            "Detected language: en\n",
            "For Audio Segment 98.mp3\n",
            " going to help you with any solutions. So first thing is that you need to get calm, not give any further comments to anyone at that point of time. Sit still, think and then...\n",
            "\n",
            "Detected language: en\n",
            "For Audio Segment 99.mp3\n",
            " Take your next move. I think decisions that are taken... Decisions that are taken...\n",
            "\n",
            "Detected language: en\n",
            "For Audio Segment 100.mp3\n",
            " Now, hustle is... generally it goes negative on you.\n",
            "\n",
            "Detected language: hi\n"
          ]
        },
        {
          "output_type": "stream",
          "name": "stderr",
          "text": [
            "/usr/local/lib/python3.10/dist-packages/transformers/generation/utils.py:1353: UserWarning: Using `max_length`'s default (448) to control the generation length. This behaviour is deprecated and will be removed from the config in v5 of Transformers -- we recommend using `max_new_tokens` to control the maximum length of the generation.\n",
            "  warnings.warn(\n"
          ]
        },
        {
          "output_type": "stream",
          "name": "stdout",
          "text": [
            "For Audio Segment 101.mp3\n",
            "কমনি ইন লিগেল ফিড নিয়র্ক পার্সনালাইফ ও গেঁপ গোছো ব্যাড প্যাচিস কাট ওই ওকানী এইগানী এক্সাইপমেন্ট।\n",
            "\n",
            "Detected language: en\n",
            "For Audio Segment 102.mp3\n",
            " All wrong decisions you take. So sit still, calmly think, take your time. Think and take the decision.\n",
            "\n",
            "Detected language: en\n",
            "For Audio Segment 103.mp3\n",
            " I think both ways. If I do this, this is my next step. This is the pose that is going to happen. These are the pons. If I take that position, the second time will be. Then this is my pons, this is my pose.\n",
            "\n",
            "Detected language: en\n",
            "For Audio Segment 104.mp3\n",
            " And then we have to take out from both the steps. We have to take one step, right? Plan A or Plan B.\n",
            "\n",
            "Detected language: en\n",
            "For Audio Segment 105.mp3\n",
            " There cannot be something in the middle. You have to take plan A or plan B. You have to think wisely. If I take plan A, the poos are 60%, cons are 40%. Plan B, poos 70%, cons 30%. Take plan B.\n",
            "\n",
            "Detected language: en\n",
            "For Audio Segment 106.mp3\n",
            " And if it's the opposite, then take time. It's simple. This is not about the legal field. In your personal life also, I think you should apply this. Never take...\n",
            "\n",
            "Detected language: en\n",
            "For Audio Segment 107.mp3\n",
            " any decisions in anxiety. Without giving any direct references. Trials can be speedy, decisions can never be speedy.\n",
            "\n",
            "Detected language: en\n",
            "For Audio Segment 108.mp3\n",
            " Without giving any direct references or calling out on somebody, will you be able to give us a call?\n",
            "\n",
            "Detected language: en\n",
            "For Audio Segment 109.mp3\n",
            " was an example where such challenges had to be faced and how this had to be dealt with obstructions that came and... See I told you about the previous case in the court and then I am...okay, shall I give...\n",
            "\n",
            "Detected language: en\n",
            "For Audio Segment 110.mp3\n",
            " So, there was a scam that was taking place for years and years. A person was scamming, I am not taking the name.\n",
            "\n",
            "Detected language: en\n",
            "For Audio Segment 111.mp3\n",
            " A person was scamming people on the name of giving jobs on aviation sectors.\n",
            "\n",
            "Detected language: en\n",
            "For Audio Segment 112.mp3\n",
            " They give trainings for that, they charge tuition fees or whatever you call it and they give placements. So this person, we opened three, four companies.\n",
            "\n",
            "Detected language: en\n",
            "For Audio Segment 113.mp3\n",
            " like Franklin and other names but it was all sham okay. He was taking money from different people.\n",
            "\n",
            "Detected language: en\n",
            "For Audio Segment 114.mp3\n",
            " The fee structure was not definite. If she understood that, okay, this person can give 6 lakhs, he is taking 6 lakhs, oh, this person can give 1.5 lakhs, so he is giving 1.5 lakhs. Oh, you are giving 1.5 lakhs? Okay.\n",
            "\n",
            "Detected language: en\n",
            "For Audio Segment 115.mp3\n",
            " There won't be a cabin here. It will be that brown stuff, brown stuff as a loader. There are different jobs in, nature of jobs in airline sector, aviation sector.\n",
            "\n",
            "Detected language: en\n",
            "For Audio Segment 116.mp3\n",
            " boarding pass that the people who give you the boarding pass or print the boarding pass and all that. There are many conveyors, belt rehab people. So people who\n",
            "\n",
            "Detected language: en\n",
            "For Audio Segment 117.mp3\n",
            " shift your luggage from the airplane after you land to the converse belt. So there are many ground jobs in aviation sector as well as cabin queue and there are many others.\n",
            "\n",
            "Detected language: en\n",
            "For Audio Segment 118.mp3\n",
            " So this person was taking money from people and In the case after six months of Failing we get a job\n",
            "\n",
            "Detected language: en\n",
            "For Audio Segment 119.mp3\n",
            " get a job there, get a job in Air India, different aviation companies. What happened is that he was doing this with thousands of people from all over India.\n",
            "\n",
            "Detected language: en\n",
            "For Audio Segment 120.mp3\n",
            " scam people, the scam worth is more than 5000 crores. And this person was very well connected with the ruling party, MLAMP's and other senior members of the party.\n",
            "\n",
            "Detected language: en\n",
            "For Audio Segment 121.mp3\n",
            " and senior members of the ruling political party. In his office he has pictures, big photographs, wall photographs of big powerful political parties.\n",
            "\n",
            "Detected language: en\n",
            "For Audio Segment 122.mp3\n",
            " patience of the ruling government. And what Mr.K did, he gave an appointment later, forging eritage.\n",
            "\n",
            "Detected language: en\n",
            "For Audio Segment 123.mp3\n",
            " years later had and gave a job to a person. It was mentioned that he will get 35,000 rupees a month and his posting was given to Bangalore. So obviously that person went.\n",
            "\n",
            "Detected language: en\n",
            "For Audio Segment 124.mp3\n",
            " to Bangalore to join having got the appointment letter he went to Air India and Bangalore to report. They told him that no this is not\n",
            "\n",
            "Detected language: en\n",
            "For Audio Segment 125.mp3\n",
            " sent to you by us. There is a forced letterhead and we have not given you any job. So, we see that there an appointment is given, a deference number is given the letterhead.\n",
            "\n",
            "Detected language: en\n",
            "For Audio Segment 126.mp3\n",
            " The reference number was not matching so it was understood that it was a forged apartment letter. Air India back then was not in any tie up with Tata. So it was a public service.\n",
            "\n",
            "Detected language: en\n",
            "For Audio Segment 127.mp3\n",
            " sector, aviation company. So this person has forced a valuable document of the central government. Thank you.\n",
            "\n",
            "Detected language: en\n",
            "For Audio Segment 128.mp3\n",
            " to that sham aviation company and told that he will file a case, lodge a case against the same, if the money for training is not returned. He started threatening.\n",
            "\n",
            "Detected language: en\n",
            "For Audio Segment 129.mp3\n",
            " I will get you more if you don't know. See, I am roaming around with this kind of people. They come to my office, I have photographs with them, and I have a very good liaison. And obviously, this person calls the political leaders in any of the countries.\n",
            "\n",
            "Detected language: en\n",
            "For Audio Segment 130.mp3\n",
            " all the occasions events of the aviation companies, sham aviation companies so these people got a trip this happened with more than five\n",
            "\n",
            "Detected language: en\n",
            "For Audio Segment 131.mp3\n",
            " out of which 200 of them mastered the courage to come to a lawyer. They came to me. I filed a case, I filed a complaint and he was doing all the transactions.\n",
            "\n",
            "Detected language: en\n",
            "For Audio Segment 132.mp3\n",
            " from nearby High Court areas. But his office was insolvent. But whatever transactions were made was done from High Court, not High Court, A.D.\n",
            "\n",
            "Detected language: en\n",
            "For Audio Segment 133.mp3\n",
            " the previous nearby high court bank should put that area. First of all the police denied the property. We had all the documents. We went to the court. We have the position of 1-2-3-6-1-2 under CRPC.\n",
            "\n",
            "Detected language: en\n",
            "For Audio Segment 134.mp3\n",
            " If the police station is not taking the complaint, go to the deputy commissioner of that division. If after giving the letter, within one week, no action is taken by the DC also, the deputy commissioner.\n",
            "\n",
            "Detected language: en\n",
            "For Audio Segment 135.mp3\n",
            " Then you can come to the code after one week and file a petition under Section 12 business positive of CRPC to move to a positive report. And the magistrate, he has the right to give an order with a given direction.\n",
            "\n",
            "Detected language: en\n",
            "For Audio Segment 136.mp3\n",
            " to the office of interest of the local police station to lodge an FIR. So this is how we got that FIR lodged and as there were sections of forgery, forgery of valuable document that is relating to the central government of India.\n",
            "\n",
            "Detected language: en\n",
            "For Audio Segment 137.mp3\n",
            " The Central Government of India's letterhead was forged. Signatures were forged. There were the sections 467, 468, 471 of Indian Penal Code, 1860. All of them were attracted.\n",
            "\n",
            "Detected language: en\n",
            "For Audio Segment 138.mp3\n",
            " and these sections are non-believable in nature and they are not magister tribal, they are sessions tribal in nature and the punishment for them is 10 years, that is above the surveillance.\n",
            "\n",
            "Detected language: en\n",
            "For Audio Segment 139.mp3\n",
            " So these are heinous crimes. So police had to arrest them. And after arrest, you understand that the police were also on the influence of the interest persons. On the.\n",
            "\n",
            "Detected language: en\n",
            "For Audio Segment 140.mp3\n",
            " So first they demanded for 7 days police custody query. After 7 days, they again paid for 7 days police custody query.\n",
            "\n",
            "Detected language: en\n",
            "For Audio Segment 141.mp3\n",
            " After one day, the accused person submitted a... filed a put-up petition before the court and they removed bail. So the CD was... the case study was called for by the court in the past.\n",
            "\n",
            "Detected language: en\n",
            "For Audio Segment 142.mp3\n",
            " the police station was called for. In that I.O. of that case, he had demanded 7 days PC player one day prior to this day. And on that day, he came over the PC player.\n",
            "\n",
            "Detected language: en\n",
            "For Audio Segment 143.mp3\n",
            " JC player, he didn't want PC. After one day, although 7 days was granted by the court, after one day he came out and said, okay I have nothing more to investigate, I don't pay for PC, you can take the decision.\n",
            "\n",
            "Detected language: en\n",
            "For Audio Segment 144.mp3\n",
            " Nothing is found. So after having all the whole documents, after seizing all the whole documents, some of the queries got induced by the address person.\n",
            "\n",
            "Detected language: en\n",
            "For Audio Segment 145.mp3\n",
            " I remember 200 clients, 500 thousand, 1500 units. So, I didn't take the money all by myself.\n",
            "\n",
            "Detected language: en\n",
            "For Audio Segment 146.mp3\n",
            " I talked to my fellow advocates. Then 30 of us stood against that other person. Then we wrote a, we sent emails and...\n",
            "\n",
            "Detected language: en\n",
            "For Audio Segment 147.mp3\n",
            " direct letters to the Commissioner of Police, Calcutta, who joined C.P. Crime, to ACP, ARS, DD section. All crime police personnel\n",
            "\n",
            "Detected language: en\n",
            "For Audio Segment 148.mp3\n",
            " who have the right to take up the matter from the local piers to the DD section. DD section is actually appropriate for this type of cases.\n",
            "\n",
            "Detected language: en\n",
            "For Audio Segment 149.mp3\n",
            " Then the judge also understood that there is something, there is some calculation between the local police and the accused person. These accused persons all don't know that.\n",
            "\n",
            "Detected language: en\n",
            "For Audio Segment 150.mp3\n",
            " He made someone take my phone number, put my phone number on the court, call me and drive at night and threatened, come to my house and murder all my family members.\n",
            "\n",
            "Detected language: en\n",
            "For Audio Segment 151.mp3\n",
            " I am blessed that I belong to a police family. My father is an ACP. I will stay in the police quarters. We have high security systems here. And there are security persons also.\n",
            "\n",
            "Detected language: en\n",
            "For Audio Segment 152.mp3\n",
            " So I knew that whatever threats he gives, in reality he can't do anything about it. Then this call, my automatic call recording is very much fun. So I just...\n",
            "\n",
            "Detected language: en\n",
            "For Audio Segment 153.mp3\n",
            " send the records through mail to CP, to Joint Civic Crime, to the police, to the ACARS DD section, and another to the Home Minister and the PMO Office.\n",
            "\n",
            "Detected language: bn\n"
          ]
        },
        {
          "output_type": "stream",
          "name": "stderr",
          "text": [
            "/usr/local/lib/python3.10/dist-packages/transformers/generation/utils.py:1353: UserWarning: Using `max_length`'s default (448) to control the generation length. This behaviour is deprecated and will be removed from the config in v5 of Transformers -- we recommend using `max_new_tokens` to control the maximum length of the generation.\n",
            "  warnings.warn(\n"
          ]
        },
        {
          "output_type": "stream",
          "name": "stdout",
          "text": [
            "For Audio Segment 154.mp3\n",
            "অন্ধার নেকজিল অফ দ্য কেইস রিপ্রেড ফর চেঞ্জ অফায়ু অ্যাড কোল ফর দ্য অফসার ইনিচরিত কনসার্ন ইস। বর দ্য সেম অডে।\n",
            "\n",
            "Detected language: en\n",
            "For Audio Segment 155.mp3\n",
            " and then the matter was taken from them and was given to, appointed to DD, DDT Reuben, Department of Larabasa.\n",
            "\n",
            "Detected language: en\n",
            "For Audio Segment 156.mp3\n",
            " person returned all the money. I had 200 kinds. Each and every person got their money refunded. Though it's causal, it's not just cheating. So after some days he got bail.\n",
            "\n",
            "Detected language: en\n",
            "For Audio Segment 157.mp3\n",
            " And after seeing this case, it was a landmark case. People from all over India came to Kolkata. This news was published in national news channels.\n",
            "\n",
            "Detected language: mr\n"
          ]
        },
        {
          "output_type": "stream",
          "name": "stderr",
          "text": [
            "/usr/local/lib/python3.10/dist-packages/transformers/generation/utils.py:1353: UserWarning: Using `max_length`'s default (448) to control the generation length. This behaviour is deprecated and will be removed from the config in v5 of Transformers -- we recommend using `max_new_tokens` to control the maximum length of the generation.\n",
            "  warnings.warn(\n"
          ]
        },
        {
          "output_type": "stream",
          "name": "stdout",
          "text": [
            "For Audio Segment 158.mp3\n",
            "এন দে আগেন হাইল দ্য কেস ভার্সিন গড় বেইল আপড়া টুডেস আগেন হিগর আরেস্টের অন্য স্ট্রীল নাওয়া হেজিন জুডিশিয়াল কাসেল। সো ইহাকুর থেকদাব তাঁর স্ট্যাপ ওই রেসিথ রেডস।\n",
            "\n",
            "Detected language: bn\n"
          ]
        },
        {
          "output_type": "stream",
          "name": "stderr",
          "text": [
            "/usr/local/lib/python3.10/dist-packages/transformers/generation/utils.py:1353: UserWarning: Using `max_length`'s default (448) to control the generation length. This behaviour is deprecated and will be removed from the config in v5 of Transformers -- we recommend using `max_new_tokens` to control the maximum length of the generation.\n",
            "  warnings.warn(\n"
          ]
        },
        {
          "output_type": "stream",
          "name": "stdout",
          "text": [
            "For Audio Segment 159.mp3\n",
            "স্থট ইজি ইজিবার থ্রেটওয়ার্ক অ্যাডভোকেট অ্যাডভোকেট আজ জিমুন পাওয়ার্স। ভিআরডিএ এলএলবি আয়ার এলএলবিগ্রী।\n",
            "\n",
            "Detected language: en\n",
            "For Audio Segment 160.mp3\n",
            " LLB is Bachelor in Legislation, Bachelor in Laws. So we have the right to protect the legislation and the laws for the state. So I would...\n",
            "\n",
            "Detected language: en\n",
            "For Audio Segment 161.mp3\n",
            " Ask all my fellow advocates, my juniors, my senior learners, senior advocates, who never ever refrain from the stand we have taken. If you have taken a stand, you have committed to a client,\n",
            "\n",
            "Detected language: en\n",
            "For Audio Segment 162.mp3\n",
            " Then move forward. Nothing can beat you. Be strong, be brave. Reason. How does this impact you mentally? How?\n",
            "\n",
            "Detected language: en\n",
            "For Audio Segment 163.mp3\n",
            " get from this. So with you, obviously this was disturbing. You know, our profession, what happens is that we are everyday going to so much.\n",
            "\n",
            "Detected language: en\n",
            "For Audio Segment 164.mp3\n",
            " What do you call garbage? Our mind gets filled with garbage. When you come home, your personal life gets a laugh. A huge laugh.\n",
            "\n",
            "Detected language: en\n",
            "For Audio Segment 165.mp3\n",
            " Because with that kind of mindset, when you are returning, first of all, when you return home, maximum persons go to sleep height. Even my family members go out. The normal routine apart from all that.\n",
            "\n",
            "Detected language: en\n",
            "For Audio Segment 166.mp3\n",
            " not even Sundays, Sundays we have conferences one morning, then we have to have a party, socks like, sort of things like that. So we have very less time for our personal life. But what I try to maintain is when I return home.\n",
            "\n",
            "Detected language: en\n",
            "For Audio Segment 167.mp3\n",
            " I just... Before entering my flat or my residence, I just put all of it outside the door.\n",
            "\n",
            "Detected language: en\n",
            "For Audio Segment 168.mp3\n",
            " Whatever I went through the day, all of it I put it outside the door and enter my room. Where I am a normal person, not an advocate, not dealing with this, this, that, this, the sufferings of other people.\n",
            "\n",
            "Detected language: en\n",
            "For Audio Segment 169.mp3\n",
            " See, it's a human mind. It's very hard to control the emotional quotient of your mind. Emotional quotient and it's very hard to difficult. It's easy to difficult to your body but it's very hard to difficult to your mind.\n",
            "\n",
            "Detected language: en\n",
            "For Audio Segment 170.mp3\n",
            " You keep control over your mind all the time. But I think we should make the difference, we should cut the line between our personal and professional life.\n",
            "\n",
            "Detected language: en\n",
            "For Audio Segment 171.mp3\n",
            " you will see that advocates, they have the most of divorce cases. You can see that most of advocates have divorce cases. This is the reason why.\n",
            "\n",
            "Detected language: en\n",
            "For Audio Segment 172.mp3\n",
            " Because the professional aspect is so stern in nature that follows you to your personal life and sometimes it completely destroys your brain.\n",
            "\n",
            "Detected language: en\n",
            "For Audio Segment 173.mp3\n",
            " So, there you should try to keep and maintain a balance between them. That is very important. So, what I do is, if I enter the door of my residence, I try to...\n",
            "\n",
            "Detected language: en\n",
            "For Audio Segment 174.mp3\n",
            " I keep all of it on the outside wall, outside my door and then put my feet inside. How do you do that? Seems very... See, see, first, first, it was very difficult for me.\n",
            "\n",
            "Detected language: en\n",
            "For Audio Segment 175.mp3\n",
            " But then you have to train your mind. You should have 10 minutes, 15 minutes for yourself in the night. You should think about what you did before you came. How you were better than yesterday.\n",
            "\n",
            "Detected language: en\n",
            "For Audio Segment 176.mp3\n",
            " This is not only for our mission, this is for all people to do. How are you better than us? Not economically, I am not talking about that personally. See you.\n",
            "\n",
            "Detected language: en\n",
            "For Audio Segment 177.mp3\n",
            " If you have degrees, if you have knowledge, people call you a very knowledgeable person, a mechanical person. Nothing is yours, okay? Even your body is not yours. This is all accumulation.\n",
            "\n",
            "Detected language: en\n",
            "For Audio Segment 178.mp3\n",
            " Whatever is inside your brain, it is all accumulation, it's not yours. What's yours is your soul. And if you can connect your soul to your mind, then you can...\n",
            "\n",
            "Detected language: en\n",
            "For Audio Segment 179.mp3\n",
            " You can do it. You will have the power to separate that power of life and your personal life whenever you enter into it. So, all the power of mind. And it needs time.\n",
            "\n",
            "Detected language: en\n",
            "For Audio Segment 180.mp3\n",
            " and training both. Could you describe the role that ethics and professionalism play in the legal profession? Absolutely. See, whenever you are in a legal profession, you are in a legal profession.\n",
            "\n",
            "Detected language: en\n",
            "For Audio Segment 181.mp3\n",
            " I don't know about other universities, I am from Papadum University. In our 10th Semester we had a paper of advocates and what we were talking about is ethics, professional ethics.\n",
            "\n",
            "Detected language: en\n",
            "For Audio Segment 182.mp3\n",
            " In that survey, we learned about professional ethics and there is an enactment for advocates at 1861. We have to follow all the norms and regulations and sections that is inside that enactment. There are advocate\n",
            "\n",
            "Detected language: en\n",
            "For Audio Segment 183.mp3\n",
            " Act and we have to follow and abide by all these rules and regulations.\n",
            "\n",
            "Detected language: en\n",
            "For Audio Segment 184.mp3\n",
            " Because we take oaths that we will never ever get detrimental to or contradictory to the advocates themselves to this mission ethics.\n",
            "\n",
            "Detected language: en\n",
            "For Audio Segment 185.mp3\n",
            " There is a subject of professional ethics in our curriculum, the law of our curriculum. So, yes, there are ethics and professional ethics actually that we have to abide by while we are practicing or we are working, whatever we are doing.\n",
            "\n",
            "Detected language: en\n",
            "For Audio Segment 186.mp3\n",
            " whether we are in corporate law, whatever we are into, but we have to follow these ethics, the rules, the laws, the norms that an accident should follow.\n",
            "\n",
            "Detected language: en\n",
            "For Audio Segment 187.mp3\n",
            " How does this impact you? Actually, this is, see, an advocate. Advocates...\n",
            "\n",
            "Detected language: en\n",
            "For Audio Segment 188.mp3\n",
            " receives a lot of provocations. But I think these advocates act, this binds advocates who stay in a position\n",
            "\n",
            "Detected language: en\n",
            "For Audio Segment 189.mp3\n",
            " is not contrary to the functional ethics. Because we are very strict if there is a misconduct or misuse of the power or anything contrary to the...\n",
            "\n",
            "Detected language: en\n",
            "For Audio Segment 190.mp3\n",
            " rules and acts against the professional ethics, the bar license gets cancelled. At times, you can get imprisoned for doing the same.\n",
            "\n",
            "Detected language: en\n",
            "For Audio Segment 191.mp3\n",
            " So, what are the most common ethical delights?\n",
            "\n",
            " \n",
            "  Okay, so could you please describe me a typical day in the life of a lawyer and the aspects of your work that you find most rewarding in this profession.  See, for me, for any lawyer, a person comes to a lawyer, whenever he or she is in a problem, that problem can be...  Whatever it could be, the nature of the problem is different. But it can be civil in nature, it can be criminal in nature or it can be corporate in nature. So, obviously, the charge of fees is very low.  for doing our legal work. But the most rewarding part is when I give relief to a client and he comes and appreciates about, okay sir, thank you.  I was stuck with this job for a long time after coming to U.N. and got the job solved. So this is, fees is obviously, that is, you are practicing.  That is your income, that is your bread and butter. The fees, your bread and butter comes from the fees you get from your clients. But the reward is when the token of appreciation is the main reward of all. To me, I want to know about other people.  But to me, I think slightly lesser fees and more appreciation is, for me, it's a better reward than the fees.  to know about this but what do you think is the general rewarding part for general lawyers like other lawyers that you have seen the facts then you'll see that if a guru senior  0- Because I men mainly to his base bar commitments and all this and advocates to have a good name in the city there are © there are many awards these seminars BASED  of the year from UAP Anandu and I. That is really a proud moment for me also for my fellow advocates getting re-vibrated like this. But, mostly...  these awards, these are actually gimmicks. The award, for me the award must be emotionally innocent.  The token of appreciation is, I think to me, more than a memento coming from Z or from every corner. Anyways, maybe if you get me wrong that I didn't get these awards, that's why I'm saying like...  this but someday I get the words my review will be the same that's very insightful you know true coming to that like what  It made you first so interested about pursuing this career in law. What motivates you to coming back to this field and continue working in this field day in and day out?  So, the law of the land is the constitution of India. So, constitution is ruling over all the laws. If any new law is implemented or before constitution there are many laws.  like the IPC, CPC, these laws were transformed properly. They are coming from 1800, 19th century, 20th century laws. But the Constitution came into force in the year 1950.  So according to the Constitution, whatever law is a bad law which has been enforced previously, these laws get repealed.  contrary to the constitution of India. And any new law after the constitution came forth, whatever law is getting enacted, new laws are getting enacted, new statutory laws or rules, that must  be binding to the constitution and that should not be derogatory or conferring to the constitution of India. So here comes the main part. Your main question  I am asking, answering the question, what made me keen to pursue my career in God? See, all the people of India, each and every...  All machine government, machine everything, they are bound by law. So, and law comes from the sources of law, different religion, custom, judicial precedence.  These are all our sources of Law. So, Society is regulated by Law. There are many Laws that are evil for the Society. Where for the Society? Maximum the Custody.  customary laws, religious laws, sometimes not all the laws, some parts of the legal system which needs amendment and the constitution has provisions for amendment.  So it depends on the lawyer, on advocates or lawyers to take up the problems of society to in court to the court of law. May it be high courts and...  Supreme Court has the power to make amendments to the laws. So if there is a grave issue in society, that can only be changed by law. For example, I am saying...  I'm sure you have heard about Nirbhaya case, right? Absolutely. There were many changes, many amendments in criminal law, constitutional law, after the Nirbhaya case. So, laws...  which are protective towards women, were all amended the punishments for violating a woman's modesty. That decreed the women's modesty.  of punishment has been changed. There are many amendments like section 354 to section 370 that is concerned about rape. Many amendments have been made.  assure better protection for the women in the eyes of love. So there are many instances like this. But this is the thing. Just for example, I placed this incident as many of you.  know about this incident. So, I think as a lawyer, I can help the society get better and better divided.  amendments in law or new enactments. New enactments are not in the hands of an advocate but whatever is bad in law can be changed. Whatever is not there but should have been there can come through an advocate.  and that is, that has a direct effect on the society, which is developmental in nature.  That's well understood. Could you describe of any such high impact or high profile cases that impacted the criminal life?  lawyers and how did you handle the pressure and scrutiny that is associated with these cases. Like you know the impact that high profile cases have on criminal lawyers.  what that impacts, how that impacts a lawyer.  proper reference, the case number or the name of any such persons who are associated with this case. I will tell you the incident.  This was the early years of my practice. A 21 year old girl came to me.  And she wanted me to file a case against one accused person. She lives in a...  She is a dancer and her friends and her dance group.  to practice dancing lessons in the ground floor of her house. It's a house, it's not a flat, it's a house, home house. So there was a room, I don't know where it was, I don't  or whatever, lives in a slum nearby. He needs to regularly come to near the window and moves to uplift the windows.  his Longyuan master bait, looking at them. So many a times, the girl has come from the local pool station, many a times she has come  One day, around 1 pm in the night, a friend of her came to the house and she was  came to her house and she was leaving around 1 a.m. in the night. So this girl came out to see her off. At that time this guy was there.  and pulled down the top of this girl and beat her just above the areola of the nipple area of her breasts.  Not a normal diet. He exerted enough pressure to properly make her bleed.  She came to me, I sent her to the government hospital to take out a medical. We went to the local play station. Fire launched a complaint which was later treated as an air fire. And this accused person...  This accused person doesn't come from any political background. I don't know. Maybe I'm wrong. But he's not anyone who's powerful or weak.  which leaves in a storm and he is just wandering here and there, 50's in girls, I know. I was the defector. আই অবস্ট ফর দিফার্কটি কমপ্লেনেন দ্য গোয়ালাইমার টেকমার নিয়ে নিকল্যান্ট। আই দ্য ফরস্ট ডেট অফিরেন আই স্টুট হেতমাই ফর দিফার্কটি কমপ্লেন্ট একান দ্য বিউল্ভাস রিজেক।  And there was a date given by the judge on three, four days for police custody and after three, four days of police custody, the next day it was there. On that date...  Senior Advocate standing on behalf of that accused person Who has high level political post in West Bengal  So, when I was standing for the de facto and again the bail was rejected, he called me through his PA and he said,  ask me to step down from the matter ask me whatever money I want he will give me but I should step down from the matter so if this is the scenario involved  A goon lives in a slum, is biting a 21 years old girl in her breast so badly that made her bleed. And this guy masturbating in front of the... দেন দিন দিন দিন দিন দিন দিন দিন দিন দিন দিন দিন দিন সিনিয়র অ্যাডভোকেট হাই কটিকার ইনফ্রেন্সন হিউ অসু হোলস অন্য অধ্যাপটিকার হিউ সুসু আইটন মোয়াবহ্ন হিউ সুহোলস।  powerful post in the ruling political party. So after that I didn't step down. My father is an ACP.  and he was in charge of that area's local police station. So this advocate, politician, whatever you call him, he called my dad and asked me, asked us to...  If I want to step down in starting career, it's career will get ruined. So these type of threats I have received but nonetheless I have always stuck to my point.  I fought for that, in due course of law, that person got bail. But after that, this person has still, till now, has not disturbed my client ever again. I don't know what he is doing with other people.  My client, this incident never happened. Well, first of all, thank you for so elaborately providing us the information. It was really very insightful. So, what is the problem?  What effect did this have on you man? This entire thing at the beginning of your career facing such people and such threats What impact this has had on you?  For me, it was very difficult because I know in our courts there is a very powerful influence of the political system.  political parties as there are unions everywhere. Even in lower court, there are different unions.  The problem is that I am not associated with any of these unions. And I know that if one union is against me, the opposition unions won't stand with me. Because I don't go in the rallies.  involved. I don't cast my vote for anyone. I don't attend their parties. I don't make any donations to them. Obviously there was a security threat because I live with my family, my parents, my mom.  on my dad. But most precisely I was very much worried that whether I could stand in the court of law after this and...  I can't continue my practice in that court. But I never lost faith in myself. Why was that? Because I know there will be...  members of the bar the ruling party will come in the middle of will snatch my clients or they will take steps and reject my  Bar environment. There are many threats of a lawyer in a lawyer's place in the starting ages. Is this common? No, it's not common because there are very few people who stand against corruption.  It's like, okay this is happening, this is just goes to the floor. If the powerful people are not liking this move of yours, and even they are offering you cash, take it and just let it be.  There has always been people who have always stood with whatever is right against corruption. And that's why out of all these corrupted people...  corruption in every government machinery. State is running, the country is moving. There are people, there are not one, two, there are many people actually.  standing against corruption, standing against the wrong deeds that is happening in society. And that's why the society as a structure, it's still in the run. ua to Awesome. 10  describe for me the common type of cases that criminal lawyer typically work on. The common challenges and obstacles that they face in their cases and it would be better if you could explain us with an example.  or a incident like it would be beneficial for us to understand as we are not related to the field directly. See normal criminal cases...  you do not know the right answer You will find that they. All this Ram Jain's including Image brings very, very good Victoria'sBox in his pants NFoods It actually has 4 pounds He will do the same Govard Jessok Governance Playsriers  The punishment of fates is more than seven months. These are hard to take care of. On these kind of matters, it is hard to take care of.  what we need to do in the end is we go through a case diary a total case and find out the loopholes of the prosecution prosecution, see এই চেনাভিক বার্সনের হিউমেন বিহান দেয়ার হিউমেন হেরাজ এভিভাগ। যেভাগর আই আম ডুয়েন হানের প্রশানে সাথ করেন। না আই না কারেন অলবেজ না অলবেজ করেন। মোহিউমেন বিহিউন হানবেজ হানবেজ করেন। তাই ওই হিউমেন হেরাজ।  in each and every step of every person's life. So in this case, we first try to find out the new foods. And as...  It is not just an actual interview I am giving. In female cases, mainly what you call setting. Setting is very important.  You need to know the setting to get your client out of it. There are various steps, various positions with whom you have to get associated.  In the previous criminal cases, a former defence lawyer has to go through this setting or jack, whatever you call it. And then, if you are an eminent lawyer, you have to go through this setting or jack, whatever you call it.  find out loopholes then generally if the lawyer can find the loophole of the lacunas of the prosecution they won't go for setting they just go for a quote and  blow their voices and get the judge, convince the judge to get his client out on bail. But when you know your client has done the misdeeds, then you have to go for the setting.  So what are the challenges that are involved in such cases? Seems very interesting.  So now, the problem is that there will be some of your clients who will not keep up to their commitment.  certain post holders who might not keep the comment. This doesn't happen every time. 20% cases keep these at... okay this will happen.  It's a, what you call, bad debt, you can call if you are doing a business. You know 20% is your bad debt and this is the same in our profession also. You know, 100% commitment. There are people who are doing business.  will fail to commit. They will commit and they will fail. So in these cases, this commitment failure can be done by your client. It can come from the...  Post holders. So, you have to balance it. How does this make you feel when such commitments are violated and sealed? In that moment,  It's not easy, okay? First, the first thing is that you get tensed. And the main thing about that moment is you should not take any decision at all.  that point of time. What I have learnt from this, previously I was like, oh, this happened, so let's go like this, because whatever good thing has happened, good thing means any positive thing. For me, getting...  or AP Stoughton bill is a positive thing. For the prosecution extending his custody is a positive thing.  First thing you need to have is a calm mind. A calm mind has the power to think. A disturbed mind. A mind which is filled with agony is not.  going to help you with any solutions. So first thing is that you need to get calm, not give any further comments to anyone at that point of time. Sit still, think and then...  Take your next move. I think decisions that are taken... Decisions that are taken...  Now, hustle is... generally it goes negative on you. কমনি ইন লিগেল ফিড নিয়র্ক পার্সনালাইফ ও গেঁপ গোছো ব্যাড প্যাচিস কাট ওই ওকানী এইগানী এক্সাইপমেন্ট।  All wrong decisions you take. So sit still, calmly think, take your time. Think and take the decision.  I think both ways. If I do this, this is my next step. This is the pose that is going to happen. These are the pons. If I take that position, the second time will be. Then this is my pons, this is my pose.  And then we have to take out from both the steps. We have to take one step, right? Plan A or Plan B.  There cannot be something in the middle. You have to take plan A or plan B. You have to think wisely. If I take plan A, the poos are 60%, cons are 40%. Plan B, poos 70%, cons 30%. Take plan B.  And if it's the opposite, then take time. It's simple. This is not about the legal field. In your personal life also, I think you should apply this. Never take...  any decisions in anxiety. Without giving any direct references. Trials can be speedy, decisions can never be speedy.  Without giving any direct references or calling out on somebody, will you be able to give us a call?  was an example where such challenges had to be faced and how this had to be dealt with obstructions that came and... See I told you about the previous case in the court and then I am...okay, shall I give...  So, there was a scam that was taking place for years and years. A person was scamming, I am not taking the name.  A person was scamming people on the name of giving jobs on aviation sectors.  They give trainings for that, they charge tuition fees or whatever you call it and they give placements. So this person, we opened three, four companies.  like Franklin and other names but it was all sham okay. He was taking money from different people.  The fee structure was not definite. If she understood that, okay, this person can give 6 lakhs, he is taking 6 lakhs, oh, this person can give 1.5 lakhs, so he is giving 1.5 lakhs. Oh, you are giving 1.5 lakhs? Okay.  There won't be a cabin here. It will be that brown stuff, brown stuff as a loader. There are different jobs in, nature of jobs in airline sector, aviation sector.  boarding pass that the people who give you the boarding pass or print the boarding pass and all that. There are many conveyors, belt rehab people. So people who  shift your luggage from the airplane after you land to the converse belt. So there are many ground jobs in aviation sector as well as cabin queue and there are many others.  So this person was taking money from people and In the case after six months of Failing we get a job  get a job there, get a job in Air India, different aviation companies. What happened is that he was doing this with thousands of people from all over India.  scam people, the scam worth is more than 5000 crores. And this person was very well connected with the ruling party, MLAMP's and other senior members of the party.  and senior members of the ruling political party. In his office he has pictures, big photographs, wall photographs of big powerful political parties.  patience of the ruling government. And what Mr.K did, he gave an appointment later, forging eritage.  years later had and gave a job to a person. It was mentioned that he will get 35,000 rupees a month and his posting was given to Bangalore. So obviously that person went.  to Bangalore to join having got the appointment letter he went to Air India and Bangalore to report. They told him that no this is not  sent to you by us. There is a forced letterhead and we have not given you any job. So, we see that there an appointment is given, a deference number is given the letterhead.  The reference number was not matching so it was understood that it was a forged apartment letter. Air India back then was not in any tie up with Tata. So it was a public service.  sector, aviation company. So this person has forced a valuable document of the central government. Thank you.  to that sham aviation company and told that he will file a case, lodge a case against the same, if the money for training is not returned. He started threatening.  I will get you more if you don't know. See, I am roaming around with this kind of people. They come to my office, I have photographs with them, and I have a very good liaison. And obviously, this person calls the political leaders in any of the countries.  all the occasions events of the aviation companies, sham aviation companies so these people got a trip this happened with more than five  out of which 200 of them mastered the courage to come to a lawyer. They came to me. I filed a case, I filed a complaint and he was doing all the transactions.  from nearby High Court areas. But his office was insolvent. But whatever transactions were made was done from High Court, not High Court, A.D.  the previous nearby high court bank should put that area. First of all the police denied the property. We had all the documents. We went to the court. We have the position of 1-2-3-6-1-2 under CRPC.  If the police station is not taking the complaint, go to the deputy commissioner of that division. If after giving the letter, within one week, no action is taken by the DC also, the deputy commissioner.  Then you can come to the code after one week and file a petition under Section 12 business positive of CRPC to move to a positive report. And the magistrate, he has the right to give an order with a given direction.  to the office of interest of the local police station to lodge an FIR. So this is how we got that FIR lodged and as there were sections of forgery, forgery of valuable document that is relating to the central government of India.  The Central Government of India's letterhead was forged. Signatures were forged. There were the sections 467, 468, 471 of Indian Penal Code, 1860. All of them were attracted.  and these sections are non-believable in nature and they are not magister tribal, they are sessions tribal in nature and the punishment for them is 10 years, that is above the surveillance.  So these are heinous crimes. So police had to arrest them. And after arrest, you understand that the police were also on the influence of the interest persons. On the.  So first they demanded for 7 days police custody query. After 7 days, they again paid for 7 days police custody query.  After one day, the accused person submitted a... filed a put-up petition before the court and they removed bail. So the CD was... the case study was called for by the court in the past.  the police station was called for. In that I.O. of that case, he had demanded 7 days PC player one day prior to this day. And on that day, he came over the PC player.  JC player, he didn't want PC. After one day, although 7 days was granted by the court, after one day he came out and said, okay I have nothing more to investigate, I don't pay for PC, you can take the decision.  Nothing is found. So after having all the whole documents, after seizing all the whole documents, some of the queries got induced by the address person.  I remember 200 clients, 500 thousand, 1500 units. So, I didn't take the money all by myself.  I talked to my fellow advocates. Then 30 of us stood against that other person. Then we wrote a, we sent emails and...  direct letters to the Commissioner of Police, Calcutta, who joined C.P. Crime, to ACP, ARS, DD section. All crime police personnel  who have the right to take up the matter from the local piers to the DD section. DD section is actually appropriate for this type of cases.  Then the judge also understood that there is something, there is some calculation between the local police and the accused person. These accused persons all don't know that.  He made someone take my phone number, put my phone number on the court, call me and drive at night and threatened, come to my house and murder all my family members.  I am blessed that I belong to a police family. My father is an ACP. I will stay in the police quarters. We have high security systems here. And there are security persons also.  So I knew that whatever threats he gives, in reality he can't do anything about it. Then this call, my automatic call recording is very much fun. So I just...  send the records through mail to CP, to Joint Civic Crime, to the police, to the ACARS DD section, and another to the Home Minister and the PMO Office. অন্ধার নেকজিল অফ দ্য কেইস রিপ্রেড ফর চেঞ্জ অফায়ু অ্যাড কোল ফর দ্য অফসার ইনিচরিত কনসার্ন ইস। বর দ্য সেম অডে।  and then the matter was taken from them and was given to, appointed to DD, DDT Reuben, Department of Larabasa.  person returned all the money. I had 200 kinds. Each and every person got their money refunded. Though it's causal, it's not just cheating. So after some days he got bail.  And after seeing this case, it was a landmark case. People from all over India came to Kolkata. This news was published in national news channels. এন দে আগেন হাইল দ্য কেস ভার্সিন গড় বেইল আপড়া টুডেস আগেন হিগর আরেস্টের অন্য স্ট্রীল নাওয়া হেজিন জুডিশিয়াল কাসেল। সো ইহাকুর থেকদাব তাঁর স্ট্যাপ ওই রেসিথ রেডস। স্থট ইজি ইজিবার থ্রেটওয়ার্ক অ্যাডভোকেট অ্যাডভোকেট আজ জিমুন পাওয়ার্স। ভিআরডিএ এলএলবি আয়ার এলএলবিগ্রী।  LLB is Bachelor in Legislation, Bachelor in Laws. So we have the right to protect the legislation and the laws for the state. So I would...  Ask all my fellow advocates, my juniors, my senior learners, senior advocates, who never ever refrain from the stand we have taken. If you have taken a stand, you have committed to a client,  Then move forward. Nothing can beat you. Be strong, be brave. Reason. How does this impact you mentally? How?  get from this. So with you, obviously this was disturbing. You know, our profession, what happens is that we are everyday going to so much.  What do you call garbage? Our mind gets filled with garbage. When you come home, your personal life gets a laugh. A huge laugh.  Because with that kind of mindset, when you are returning, first of all, when you return home, maximum persons go to sleep height. Even my family members go out. The normal routine apart from all that.  not even Sundays, Sundays we have conferences one morning, then we have to have a party, socks like, sort of things like that. So we have very less time for our personal life. But what I try to maintain is when I return home.  I just... Before entering my flat or my residence, I just put all of it outside the door.  Whatever I went through the day, all of it I put it outside the door and enter my room. Where I am a normal person, not an advocate, not dealing with this, this, that, this, the sufferings of other people.  See, it's a human mind. It's very hard to control the emotional quotient of your mind. Emotional quotient and it's very hard to difficult. It's easy to difficult to your body but it's very hard to difficult to your mind.  You keep control over your mind all the time. But I think we should make the difference, we should cut the line between our personal and professional life.  you will see that advocates, they have the most of divorce cases. You can see that most of advocates have divorce cases. This is the reason why.  Because the professional aspect is so stern in nature that follows you to your personal life and sometimes it completely destroys your brain.  So, there you should try to keep and maintain a balance between them. That is very important. So, what I do is, if I enter the door of my residence, I try to...  I keep all of it on the outside wall, outside my door and then put my feet inside. How do you do that? Seems very... See, see, first, first, it was very difficult for me.  But then you have to train your mind. You should have 10 minutes, 15 minutes for yourself in the night. You should think about what you did before you came. How you were better than yesterday.  This is not only for our mission, this is for all people to do. How are you better than us? Not economically, I am not talking about that personally. See you.  If you have degrees, if you have knowledge, people call you a very knowledgeable person, a mechanical person. Nothing is yours, okay? Even your body is not yours. This is all accumulation.  Whatever is inside your brain, it is all accumulation, it's not yours. What's yours is your soul. And if you can connect your soul to your mind, then you can...  You can do it. You will have the power to separate that power of life and your personal life whenever you enter into it. So, all the power of mind. And it needs time.  and training both. Could you describe the role that ethics and professionalism play in the legal profession? Absolutely. See, whenever you are in a legal profession, you are in a legal profession.  I don't know about other universities, I am from Papadum University. In our 10th Semester we had a paper of advocates and what we were talking about is ethics, professional ethics.  In that survey, we learned about professional ethics and there is an enactment for advocates at 1861. We have to follow all the norms and regulations and sections that is inside that enactment. There are advocate  Act and we have to follow and abide by all these rules and regulations.  Because we take oaths that we will never ever get detrimental to or contradictory to the advocates themselves to this mission ethics.  There is a subject of professional ethics in our curriculum, the law of our curriculum. So, yes, there are ethics and professional ethics actually that we have to abide by while we are practicing or we are working, whatever we are doing.  whether we are in corporate law, whatever we are into, but we have to follow these ethics, the rules, the laws, the norms that an accident should follow.  How does this impact you? Actually, this is, see, an advocate. Advocates...  receives a lot of provocations. But I think these advocates act, this binds advocates who stay in a position  is not contrary to the functional ethics. Because we are very strict if there is a misconduct or misuse of the power or anything contrary to the...  rules and acts against the professional ethics, the bar license gets cancelled. At times, you can get imprisoned for doing the same.  So, what are the most common ethical delights? \n",
            "/content/audio/Advocate_2.mp3\n",
            "Duration in milliseconds:  1721642.6666666665\n",
            " Audio file Advocate_2 is created and saved in /content/audio/Advocate_2/1.mp3\n",
            " Audio file Advocate_2 is created and saved in /content/audio/Advocate_2/2.mp3\n",
            " Audio file Advocate_2 is created and saved in /content/audio/Advocate_2/3.mp3\n",
            " Audio file Advocate_2 is created and saved in /content/audio/Advocate_2/4.mp3\n",
            " Audio file Advocate_2 is created and saved in /content/audio/Advocate_2/5.mp3\n",
            " Audio file Advocate_2 is created and saved in /content/audio/Advocate_2/6.mp3\n",
            " Audio file Advocate_2 is created and saved in /content/audio/Advocate_2/7.mp3\n",
            " Audio file Advocate_2 is created and saved in /content/audio/Advocate_2/8.mp3\n",
            " Audio file Advocate_2 is created and saved in /content/audio/Advocate_2/9.mp3\n",
            " Audio file Advocate_2 is created and saved in /content/audio/Advocate_2/10.mp3\n",
            " Audio file Advocate_2 is created and saved in /content/audio/Advocate_2/11.mp3\n",
            " Audio file Advocate_2 is created and saved in /content/audio/Advocate_2/12.mp3\n",
            " Audio file Advocate_2 is created and saved in /content/audio/Advocate_2/13.mp3\n",
            " Audio file Advocate_2 is created and saved in /content/audio/Advocate_2/14.mp3\n",
            " Audio file Advocate_2 is created and saved in /content/audio/Advocate_2/15.mp3\n",
            " Audio file Advocate_2 is created and saved in /content/audio/Advocate_2/16.mp3\n",
            " Audio file Advocate_2 is created and saved in /content/audio/Advocate_2/17.mp3\n",
            " Audio file Advocate_2 is created and saved in /content/audio/Advocate_2/18.mp3\n",
            " Audio file Advocate_2 is created and saved in /content/audio/Advocate_2/19.mp3\n",
            " Audio file Advocate_2 is created and saved in /content/audio/Advocate_2/20.mp3\n",
            " Audio file Advocate_2 is created and saved in /content/audio/Advocate_2/21.mp3\n",
            " Audio file Advocate_2 is created and saved in /content/audio/Advocate_2/22.mp3\n",
            " Audio file Advocate_2 is created and saved in /content/audio/Advocate_2/23.mp3\n",
            " Audio file Advocate_2 is created and saved in /content/audio/Advocate_2/24.mp3\n",
            " Audio file Advocate_2 is created and saved in /content/audio/Advocate_2/25.mp3\n",
            " Audio file Advocate_2 is created and saved in /content/audio/Advocate_2/26.mp3\n",
            " Audio file Advocate_2 is created and saved in /content/audio/Advocate_2/27.mp3\n",
            " Audio file Advocate_2 is created and saved in /content/audio/Advocate_2/28.mp3\n",
            " Audio file Advocate_2 is created and saved in /content/audio/Advocate_2/29.mp3\n",
            " Audio file Advocate_2 is created and saved in /content/audio/Advocate_2/30.mp3\n",
            " Audio file Advocate_2 is created and saved in /content/audio/Advocate_2/31.mp3\n",
            " Audio file Advocate_2 is created and saved in /content/audio/Advocate_2/32.mp3\n",
            " Audio file Advocate_2 is created and saved in /content/audio/Advocate_2/33.mp3\n",
            " Audio file Advocate_2 is created and saved in /content/audio/Advocate_2/34.mp3\n",
            " Audio file Advocate_2 is created and saved in /content/audio/Advocate_2/35.mp3\n",
            " Audio file Advocate_2 is created and saved in /content/audio/Advocate_2/36.mp3\n",
            " Audio file Advocate_2 is created and saved in /content/audio/Advocate_2/37.mp3\n",
            " Audio file Advocate_2 is created and saved in /content/audio/Advocate_2/38.mp3\n",
            " Audio file Advocate_2 is created and saved in /content/audio/Advocate_2/39.mp3\n",
            " Audio file Advocate_2 is created and saved in /content/audio/Advocate_2/40.mp3\n",
            " Audio file Advocate_2 is created and saved in /content/audio/Advocate_2/41.mp3\n",
            " Audio file Advocate_2 is created and saved in /content/audio/Advocate_2/42.mp3\n",
            " Audio file Advocate_2 is created and saved in /content/audio/Advocate_2/43.mp3\n",
            " Audio file Advocate_2 is created and saved in /content/audio/Advocate_2/44.mp3\n",
            " Audio file Advocate_2 is created and saved in /content/audio/Advocate_2/45.mp3\n",
            " Audio file Advocate_2 is created and saved in /content/audio/Advocate_2/46.mp3\n",
            " Audio file Advocate_2 is created and saved in /content/audio/Advocate_2/47.mp3\n",
            " Audio file Advocate_2 is created and saved in /content/audio/Advocate_2/48.mp3\n",
            " Audio file Advocate_2 is created and saved in /content/audio/Advocate_2/49.mp3\n",
            " Audio file Advocate_2 is created and saved in /content/audio/Advocate_2/50.mp3\n",
            " Audio file Advocate_2 is created and saved in /content/audio/Advocate_2/51.mp3\n",
            " Audio file Advocate_2 is created and saved in /content/audio/Advocate_2/52.mp3\n",
            " Audio file Advocate_2 is created and saved in /content/audio/Advocate_2/53.mp3\n",
            " Audio file Advocate_2 is created and saved in /content/audio/Advocate_2/54.mp3\n",
            " Audio file Advocate_2 is created and saved in /content/audio/Advocate_2/55.mp3\n",
            " Audio file Advocate_2 is created and saved in /content/audio/Advocate_2/56.mp3\n",
            " Audio file Advocate_2 is created and saved in /content/audio/Advocate_2/57.mp3\n",
            " Audio file Advocate_2 is created and saved in /content/audio/Advocate_2/58.mp3\n",
            " Audio file Advocate_2 is created and saved in /content/audio/Advocate_2/59.mp3\n",
            " Audio file Advocate_2 is created and saved in /content/audio/Advocate_2/60.mp3\n",
            " Audio file Advocate_2 is created and saved in /content/audio/Advocate_2/61.mp3\n",
            " Audio file Advocate_2 is created and saved in /content/audio/Advocate_2/62.mp3\n",
            " Audio file Advocate_2 is created and saved in /content/audio/Advocate_2/63.mp3\n",
            " Audio file Advocate_2 is created and saved in /content/audio/Advocate_2/64.mp3\n",
            " Audio file Advocate_2 is created and saved in /content/audio/Advocate_2/65.mp3\n",
            " Audio file Advocate_2 is created and saved in /content/audio/Advocate_2/66.mp3\n",
            " Audio file Advocate_2 is created and saved in /content/audio/Advocate_2/67.mp3\n",
            " Audio file Advocate_2 is created and saved in /content/audio/Advocate_2/68.mp3\n",
            " Audio file Advocate_2 is created and saved in /content/audio/Advocate_2/69.mp3\n",
            " Audio file Advocate_2 is created and saved in /content/audio/Advocate_2/70.mp3\n",
            " Audio file Advocate_2 is created and saved in /content/audio/Advocate_2/71.mp3\n",
            " Audio file Advocate_2 is created and saved in /content/audio/Advocate_2/72.mp3\n",
            " Audio file Advocate_2 is created and saved in /content/audio/Advocate_2/73.mp3\n",
            " Audio file Advocate_2 is created and saved in /content/audio/Advocate_2/74.mp3\n",
            " Audio file Advocate_2 is created and saved in /content/audio/Advocate_2/75.mp3\n",
            " Audio file Advocate_2 is created and saved in /content/audio/Advocate_2/76.mp3\n",
            " Audio file Advocate_2 is created and saved in /content/audio/Advocate_2/77.mp3\n",
            " Audio file Advocate_2 is created and saved in /content/audio/Advocate_2/78.mp3\n",
            " Audio file Advocate_2 is created and saved in /content/audio/Advocate_2/79.mp3\n",
            " Audio file Advocate_2 is created and saved in /content/audio/Advocate_2/80.mp3\n",
            " Audio file Advocate_2 is created and saved in /content/audio/Advocate_2/81.mp3\n",
            " Audio file Advocate_2 is created and saved in /content/audio/Advocate_2/82.mp3\n",
            " Audio file Advocate_2 is created and saved in /content/audio/Advocate_2/83.mp3\n",
            " Audio file Advocate_2 is created and saved in /content/audio/Advocate_2/84.mp3\n",
            " Audio file Advocate_2 is created and saved in /content/audio/Advocate_2/85.mp3\n",
            " Audio file Advocate_2 is created and saved in /content/audio/Advocate_2/86.mp3\n",
            " Audio file Advocate_2 is created and saved in /content/audio/Advocate_2/87.mp3\n",
            " Audio file Advocate_2 is created and saved in /content/audio/Advocate_2/88.mp3\n",
            " Audio file Advocate_2 is created and saved in /content/audio/Advocate_2/89.mp3\n",
            " Audio file Advocate_2 is created and saved in /content/audio/Advocate_2/90.mp3\n",
            " Audio file Advocate_2 is created and saved in /content/audio/Advocate_2/91.mp3\n",
            " Audio file Advocate_2 is created and saved in /content/audio/Advocate_2/92.mp3\n",
            " Audio file Advocate_2 is created and saved in /content/audio/Advocate_2/93.mp3\n",
            " Audio file Advocate_2 is created and saved in /content/audio/Advocate_2/94.mp3\n",
            " Audio file Advocate_2 is created and saved in /content/audio/Advocate_2/95.mp3\n",
            " Audio file Advocate_2 is created and saved in /content/audio/Advocate_2/96.mp3\n",
            " Audio file Advocate_2 is created and saved in /content/audio/Advocate_2/97.mp3\n",
            " Audio file Advocate_2 is created and saved in /content/audio/Advocate_2/98.mp3\n",
            " Audio file Advocate_2 is created and saved in /content/audio/Advocate_2/99.mp3\n",
            " Audio file Advocate_2 is created and saved in /content/audio/Advocate_2/100.mp3\n",
            " Audio file Advocate_2 is created and saved in /content/audio/Advocate_2/101.mp3\n",
            " Audio file Advocate_2 is created and saved in /content/audio/Advocate_2/102.mp3\n",
            " Audio file Advocate_2 is created and saved in /content/audio/Advocate_2/103.mp3\n",
            " Audio file Advocate_2 is created and saved in /content/audio/Advocate_2/104.mp3\n",
            " Audio file Advocate_2 is created and saved in /content/audio/Advocate_2/105.mp3\n",
            " Audio file Advocate_2 is created and saved in /content/audio/Advocate_2/106.mp3\n",
            " Audio file Advocate_2 is created and saved in /content/audio/Advocate_2/107.mp3\n",
            " Audio file Advocate_2 is created and saved in /content/audio/Advocate_2/108.mp3\n",
            " Audio file Advocate_2 is created and saved in /content/audio/Advocate_2/109.mp3\n",
            " Audio file Advocate_2 is created and saved in /content/audio/Advocate_2/110.mp3\n",
            " Audio file Advocate_2 is created and saved in /content/audio/Advocate_2/111.mp3\n",
            " Audio file Advocate_2 is created and saved in /content/audio/Advocate_2/112.mp3\n",
            " Audio file Advocate_2 is created and saved in /content/audio/Advocate_2/113.mp3\n",
            " Audio file Advocate_2 is created and saved in /content/audio/Advocate_2/114.mp3\n",
            "['1.mp3', '2.mp3', '3.mp3', '4.mp3', '5.mp3', '6.mp3', '7.mp3', '8.mp3', '9.mp3', '10.mp3', '11.mp3', '12.mp3', '13.mp3', '14.mp3', '15.mp3', '16.mp3', '17.mp3', '18.mp3', '19.mp3', '20.mp3', '21.mp3', '22.mp3', '23.mp3', '24.mp3', '25.mp3', '26.mp3', '27.mp3', '28.mp3', '29.mp3', '30.mp3', '31.mp3', '32.mp3', '33.mp3', '34.mp3', '35.mp3', '36.mp3', '37.mp3', '38.mp3', '39.mp3', '40.mp3', '41.mp3', '42.mp3', '43.mp3', '44.mp3', '45.mp3', '46.mp3', '47.mp3', '48.mp3', '49.mp3', '50.mp3', '51.mp3', '52.mp3', '53.mp3', '54.mp3', '55.mp3', '56.mp3', '57.mp3', '58.mp3', '59.mp3', '60.mp3', '61.mp3', '62.mp3', '63.mp3', '64.mp3', '65.mp3', '66.mp3', '67.mp3', '68.mp3', '69.mp3', '70.mp3', '71.mp3', '72.mp3', '73.mp3', '74.mp3', '75.mp3', '76.mp3', '77.mp3', '78.mp3', '79.mp3', '80.mp3', '81.mp3', '82.mp3', '83.mp3', '84.mp3', '85.mp3', '86.mp3', '87.mp3', '88.mp3', '89.mp3', '90.mp3', '91.mp3', '92.mp3', '93.mp3', '94.mp3', '95.mp3', '96.mp3', '97.mp3', '98.mp3', '99.mp3', '100.mp3', '101.mp3', '102.mp3', '103.mp3', '104.mp3', '105.mp3', '106.mp3', '107.mp3', '108.mp3', '109.mp3', '110.mp3', '111.mp3', '112.mp3', '113.mp3', '114.mp3']\n",
            "Detected language: en\n",
            "For Audio Segment 1.mp3\n",
            " So could you please describe a typical day in the life of a lawyer?\n",
            "\n",
            "Detected language: bn\n"
          ]
        },
        {
          "output_type": "stream",
          "name": "stderr",
          "text": [
            "/usr/local/lib/python3.10/dist-packages/transformers/generation/utils.py:1353: UserWarning: Using `max_length`'s default (448) to control the generation length. This behaviour is deprecated and will be removed from the config in v5 of Transformers -- we recommend using `max_new_tokens` to control the maximum length of the generation.\n",
            "  warnings.warn(\n"
          ]
        },
        {
          "output_type": "stream",
          "name": "stdout",
          "text": [
            "For Audio Segment 2.mp3\n",
            "এবার সত্তার প্রধান দিকে আকল্যাওয়ান করেন যে কি হওয়া করতে কি ইনতি। ইসাবেজ এই রাফর আমাদের একটা লিস থাকবো। যে এভিডি একটা মামলা আছে করতে অনেকটি সকালেতে প্রথম আমাদের ইহচ্ছে যে কোনও কম্প্রিকেশন সারাইইস করেছে।\n",
            "\n",
            "Detected language: bn\n"
          ]
        },
        {
          "output_type": "stream",
          "name": "stderr",
          "text": [
            "/usr/local/lib/python3.10/dist-packages/transformers/generation/utils.py:1353: UserWarning: Using `max_length`'s default (448) to control the generation length. This behaviour is deprecated and will be removed from the config in v5 of Transformers -- we recommend using `max_new_tokens` to control the maximum length of the generation.\n",
            "  warnings.warn(\n"
          ]
        },
        {
          "output_type": "stream",
          "name": "stdout",
          "text": [
            "For Audio Segment 3.mp3\n",
            "এই বড় কমলিয়েশন্স এইগুলি হয় যাজছায় ঐদিংকে বসছেন। প্রথম হাসার। যাজছায় বসবেন না মুহার্ভোয়াস আছে নফটো অ্যাটেন্ডাসে এগুলির রেগগুলির একটা থাকে। এর পরাসে লিগেল কমটিকেশন্স। আমরা হয়তো কিছু স্ট্রেডিজি প্ল্যান করয়েছে।\n",
            "\n",
            "Detected language: hi\n"
          ]
        },
        {
          "output_type": "stream",
          "name": "stderr",
          "text": [
            "/usr/local/lib/python3.10/dist-packages/transformers/generation/utils.py:1353: UserWarning: Using `max_length`'s default (448) to control the generation length. This behaviour is deprecated and will be removed from the config in v5 of Transformers -- we recommend using `max_new_tokens` to control the maximum length of the generation.\n",
            "  warnings.warn(\n"
          ]
        },
        {
          "output_type": "stream",
          "name": "stdout",
          "text": [
            "For Audio Segment 4.mp3\n",
            "সাবমেশনস আছে কিছু লোপয়েন্স আছে সেকুল সাবমেশন করলেন কার তারপর জানা গেল সেগুলো অ্যাক্লিকিভাবে হচ্ছে না কার কোজ দেফেন্স অফ ইন্টারপ্রেটেশন। দ্যাথার প্রভ্লেম ভিচার রাইজেস একটি মোমেন্ট পিনিট ডিসাইড সামথিক অ্যাড দিমোমেন্ট কুই �\n",
            "\n",
            "Detected language: bn\n"
          ]
        },
        {
          "output_type": "stream",
          "name": "stderr",
          "text": [
            "/usr/local/lib/python3.10/dist-packages/transformers/generation/utils.py:1353: UserWarning: Using `max_length`'s default (448) to control the generation length. This behaviour is deprecated and will be removed from the config in v5 of Transformers -- we recommend using `max_new_tokens` to control the maximum length of the generation.\n",
            "  warnings.warn(\n"
          ]
        },
        {
          "output_type": "stream",
          "name": "stdout",
          "text": [
            "For Audio Segment 5.mp3\n",
            "তামাদের রিসেন্ট এখানা যেকম আছে যে কর্তেতে মামলা হয় চিক্যান্সিলেশন অফ ভেলের জন্য তামার স্র্যাটিস ছিল যে ফোন নাইনডিএটি মামলা হয়েছবানে বায়েলেন্স আগেন্স দ্য বয়। তুষ সেখানে কোনও আয়োর কোনও অ্যাডবেজ কর্নো রিপোর্ট বাট।\n",
            "\n",
            "Detected language: bn\n"
          ]
        },
        {
          "output_type": "stream",
          "name": "stderr",
          "text": [
            "/usr/local/lib/python3.10/dist-packages/transformers/generation/utils.py:1353: UserWarning: Using `max_length`'s default (448) to control the generation length. This behaviour is deprecated and will be removed from the config in v5 of Transformers -- we recommend using `max_new_tokens` to control the maximum length of the generation.\n",
            "  warnings.warn(\n"
          ]
        },
        {
          "output_type": "stream",
          "name": "stdout",
          "text": [
            "For Audio Segment 6.mp3\n",
            "যাদশায় ক্ষারকে এদিলেন যে না যেহেতু এরা মাঙি রিকাভারির একটা জায়গা আছে তো বিধাও উপানে রিকাভারি করলে তবে ইয়াটনাকে বেল দেওয়া যায় তো এটা লিগেল কাম্বিয়েশন হঠাৎ করা হয়েছে। তো এরকম প্রত্যক্ষা মেটার প্রত্যকদিন সকালগার একটি।\n",
            "\n",
            "Detected language: bn\n"
          ]
        },
        {
          "output_type": "stream",
          "name": "stderr",
          "text": [
            "/usr/local/lib/python3.10/dist-packages/transformers/generation/utils.py:1353: UserWarning: Using `max_length`'s default (448) to control the generation length. This behaviour is deprecated and will be removed from the config in v5 of Transformers -- we recommend using `max_new_tokens` to control the maximum length of the generation.\n",
            "  warnings.warn(\n"
          ]
        },
        {
          "output_type": "stream",
          "name": "stdout",
          "text": [
            "For Audio Segment 7.mp3\n",
            "তো এই কামলিকেশনসগুলো প্রথমে ফাস্ট আফিজ আরাদর্শের আগে আমরা যতটা পারা যাক করেন, কোটে আসি, স্টেটস নিরেগুলির গিয়েতে মামলা হয় যে রকম হয়, দেন সেকেটা আফটা আমলের থাকে কানফেরেন্সী।\n",
            "\n",
            "Detected language: mr\n"
          ]
        },
        {
          "output_type": "stream",
          "name": "stderr",
          "text": [
            "/usr/local/lib/python3.10/dist-packages/transformers/generation/utils.py:1353: UserWarning: Using `max_length`'s default (448) to control the generation length. This behaviour is deprecated and will be removed from the config in v5 of Transformers -- we recommend using `max_new_tokens` to control the maximum length of the generation.\n",
            "  warnings.warn(\n"
          ]
        },
        {
          "output_type": "stream",
          "name": "stdout",
          "text": [
            "For Audio Segment 8.mp3\n",
            "এই ছাড়াও আমাদের থাকে নিজেদের চেম্বারি ওয়ার কাওয়ার সাকে উইডিস বা উইকেন্সিতে চেম্বারি ওয়ার কাওয়ার থাকে উইডিস বা উইকেন্সিতে চেম্বারি হয় সকালেই বা দুপুরে করা হয়। কোনও সিনিয়ারদের চেম্বারিতে আনাদের মিট করার।\n",
            "\n",
            "Detected language: bn\n"
          ]
        },
        {
          "output_type": "stream",
          "name": "stderr",
          "text": [
            "/usr/local/lib/python3.10/dist-packages/transformers/generation/utils.py:1353: UserWarning: Using `max_length`'s default (448) to control the generation length. This behaviour is deprecated and will be removed from the config in v5 of Transformers -- we recommend using `max_new_tokens` to control the maximum length of the generation.\n",
            "  warnings.warn(\n"
          ]
        },
        {
          "output_type": "stream",
          "name": "stdout",
          "text": [
            "For Audio Segment 9.mp3\n",
            "টিককাল ডিকুডি তাই চলার। আউট অফ অল দিস ওয়াট দ্য মুটিভাইট শিল অগ্রাস্ট। বইতিবালা বলতেই পার চৌক্তিগত হচ্ছে যে পয়েছাটা ম্যাটার করা অনেক বেশি।\n",
            "\n",
            "Detected language: bn\n"
          ]
        },
        {
          "output_type": "stream",
          "name": "stderr",
          "text": [
            "/usr/local/lib/python3.10/dist-packages/transformers/generation/utils.py:1353: UserWarning: Using `max_length`'s default (448) to control the generation length. This behaviour is deprecated and will be removed from the config in v5 of Transformers -- we recommend using `max_new_tokens` to control the maximum length of the generation.\n",
            "  warnings.warn(\n"
          ]
        },
        {
          "output_type": "stream",
          "name": "stdout",
          "text": [
            "For Audio Segment 10.mp3\n",
            "আইনেতে লোকেদের ভাবে যাহাতো উকিলতের অনেক বেশি ফিস চার্জ করা যাপার তিপিকেলি যদি কেউ একজন এই লাইনে থাকে যি ধরনের রিস্ক নেওয়া থাকে রেপুটেশনার ডিস। এখানাতে নিজেদের রেপুটেশন ডামরা একটা প্রেডস্টালে শ্যান্ড করছি এটা ব্র্যান্ড ভ্য\n",
            "\n",
            "Detected language: hi\n"
          ]
        },
        {
          "output_type": "stream",
          "name": "stderr",
          "text": [
            "/usr/local/lib/python3.10/dist-packages/transformers/generation/utils.py:1353: UserWarning: Using `max_length`'s default (448) to control the generation length. This behaviour is deprecated and will be removed from the config in v5 of Transformers -- we recommend using `max_new_tokens` to control the maximum length of the generation.\n",
            "  warnings.warn(\n"
          ]
        },
        {
          "output_type": "stream",
          "name": "stdout",
          "text": [
            "For Audio Segment 11.mp3\n",
            "যার উপর ম্যাজিস্ট্রেট বাজাজ বিশ্বাস করছে দেহে ফিজ কবি হেফ দেহ রেপুকেশার। এনিহন কেন গুয়ান সাবমিউট বিফর রোকর্ড, কাটক নাওয়া ভিজাই সেটাজের রেপুকেশন অরোগোড।\n",
            "\n",
            "Detected language: bn\n"
          ]
        },
        {
          "output_type": "stream",
          "name": "stderr",
          "text": [
            "/usr/local/lib/python3.10/dist-packages/transformers/generation/utils.py:1353: UserWarning: Using `max_length`'s default (448) to control the generation length. This behaviour is deprecated and will be removed from the config in v5 of Transformers -- we recommend using `max_new_tokens` to control the maximum length of the generation.\n",
            "  warnings.warn(\n"
          ]
        },
        {
          "output_type": "stream",
          "name": "stdout",
          "text": [
            "For Audio Segment 12.mp3\n",
            "তার পুরো নেগেটিভ অ্যাডভাস এফেক্টা আমাদের উপরান। যত স্ট্রিক্ষার হওয়া যত অ্যাডভাস কমেন্ট হওয়া সেটা আমাদের উপরান। কিছু ভাল হবে সেটা ক্লাইন্টের লাভাবে সেখানে শুধু আমাদের নামটাওই যে সাবমিশান করেছেও ইকটুকুতিই থেকে যায়। তার ববেশি \n",
            "\n",
            "Detected language: bn\n"
          ]
        },
        {
          "output_type": "stream",
          "name": "stderr",
          "text": [
            "/usr/local/lib/python3.10/dist-packages/transformers/generation/utils.py:1353: UserWarning: Using `max_length`'s default (448) to control the generation length. This behaviour is deprecated and will be removed from the config in v5 of Transformers -- we recommend using `max_new_tokens` to control the maximum length of the generation.\n",
            "  warnings.warn(\n"
          ]
        },
        {
          "output_type": "stream",
          "name": "stdout",
          "text": [
            "For Audio Segment 13.mp3\n",
            "ঐ রেপুটেশন রিস্কেট জেনার্টা ফাইন্যান্সেল গেইন্স থাকি যার জন্য সেটাও এটা বিষয় মডিভিশন থাকি। এছাড়া আরিকটা থাকি যে কিভিকেলি সাধারণত সব মানুষের কেবেবলিটি নয় সূত্র করা বা টাইডোগে।\n",
            "\n",
            "Detected language: bn\n"
          ]
        },
        {
          "output_type": "stream",
          "name": "stderr",
          "text": [
            "/usr/local/lib/python3.10/dist-packages/transformers/generation/utils.py:1353: UserWarning: Using `max_length`'s default (448) to control the generation length. This behaviour is deprecated and will be removed from the config in v5 of Transformers -- we recommend using `max_new_tokens` to control the maximum length of the generation.\n",
            "  warnings.warn(\n"
          ]
        },
        {
          "output_type": "stream",
          "name": "stdout",
          "text": [
            "For Audio Segment 14.mp3\n",
            "যেমন অনেকি থাকে যে ধানতে জন্য কিছু মাসারি এশশি ব্যক্তাই যে একজন প্লাইন্টেশেন তারওই কিবল তার ওয়াইফের রিলেটিভিদের সাথে সমস্যারিত ফোন নাইন্টিই এটিরি মামলা বাড়তে এখানে পেস্টারেও কিছুলাই কিছেন কিছেন কিছেন কিছেন কিছেন কিছেন কিছে\n",
            "\n",
            "Detected language: bn\n"
          ]
        },
        {
          "output_type": "stream",
          "name": "stderr",
          "text": [
            "/usr/local/lib/python3.10/dist-packages/transformers/generation/utils.py:1353: UserWarning: Using `max_length`'s default (448) to control the generation length. This behaviour is deprecated and will be removed from the config in v5 of Transformers -- we recommend using `max_new_tokens` to control the maximum length of the generation.\n",
            "  warnings.warn(\n"
          ]
        },
        {
          "output_type": "stream",
          "name": "stdout",
          "text": [
            "For Audio Segment 15.mp3\n",
            "যে হই রিলেটিভরা নিউ সামন অফ পাওয়ার এমএলি এইয়েতু বেইল রিজেক্টরেত। ঐ কাপেল যারা ঐ মুমেন্টেদে অফেনসাভার মুমেন্টেদে ছিল না তারা এক মাসের ওপর আই বাইরেক পালিয়ে বেঁধি।\n",
            "\n",
            "Detected language: bn\n"
          ]
        },
        {
          "output_type": "stream",
          "name": "stderr",
          "text": [
            "/usr/local/lib/python3.10/dist-packages/transformers/generation/utils.py:1353: UserWarning: Using `max_length`'s default (448) to control the generation length. This behaviour is deprecated and will be removed from the config in v5 of Transformers -- we recommend using `max_new_tokens` to control the maximum length of the generation.\n",
            "  warnings.warn(\n"
          ]
        },
        {
          "output_type": "stream",
          "name": "stdout",
          "text": [
            "For Audio Segment 16.mp3\n",
            "তাদের এরা ছবাচরে বাচ্চা ছিল তাকে যে কেমামেন্টে অ্যারেস্টরের হাইকোর্টে দিয়ে উকিলের কাছে গেছিল সে এমন সাবমিশন করেছে হাইকোর্টো খানাদের ক্যান্সার্ক করে তাদের কে একটা কিছু দেওয়া আমনে এই রকম ধরণের আরকি যে ইয়ে থাকে লিটিকেন সা�\n",
            "\n",
            "Detected language: bn\n"
          ]
        },
        {
          "output_type": "stream",
          "name": "stderr",
          "text": [
            "/usr/local/lib/python3.10/dist-packages/transformers/generation/utils.py:1353: UserWarning: Using `max_length`'s default (448) to control the generation length. This behaviour is deprecated and will be removed from the config in v5 of Transformers -- we recommend using `max_new_tokens` to control the maximum length of the generation.\n",
            "  warnings.warn(\n"
          ]
        },
        {
          "output_type": "stream",
          "name": "stdout",
          "text": [
            "For Audio Segment 17.mp3\n",
            "সারাদের একটা হেলপার্ড এটা হোকেট মডিভিশন হিসাবে কাজ করেন। এছাড়া একটা থাকে যে ছাড়াও কারও লোকের থাকে যে ভাওয়ার থাকবি রেকুডেশন থাকে স্থাকে এটি তাঁই কিল বায়ানভোকের দেয়া ইয়ে থাকে স্টেটার সাকে। পুসিগুলো সম্পটা নিহেই একসাথে করে।\n",
            "\n",
            "Detected language: en\n",
            "For Audio Segment 18.mp3\n",
            " Okay sir, thank you. Sir what motivated you in coming in this line of now? chemical\n",
            "\n",
            "Detected language: bn\n"
          ]
        },
        {
          "output_type": "stream",
          "name": "stderr",
          "text": [
            "/usr/local/lib/python3.10/dist-packages/transformers/generation/utils.py:1353: UserWarning: Using `max_length`'s default (448) to control the generation length. This behaviour is deprecated and will be removed from the config in v5 of Transformers -- we recommend using `max_new_tokens` to control the maximum length of the generation.\n",
            "  warnings.warn(\n"
          ]
        },
        {
          "output_type": "stream",
          "name": "stdout",
          "text": [
            "For Audio Segment 19.mp3\n",
            "এমন কিছু গতে যায় যিভি আমি নিজের মালিক নিজেই হবো। একেই কেন কো সামথিং ফরমাইসেল নট ওর্প সামান এন্স। আমার ফ্যামিলি বলতে আমার দুই জেনারেশন আগে কিছু অ্যাডভুকেস ছিলেন, তার এডা লেগেসি ছিল তাদের কার কিছেন।\n",
            "\n",
            "Detected language: bn\n"
          ]
        },
        {
          "output_type": "stream",
          "name": "stderr",
          "text": [
            "/usr/local/lib/python3.10/dist-packages/transformers/generation/utils.py:1353: UserWarning: Using `max_length`'s default (448) to control the generation length. This behaviour is deprecated and will be removed from the config in v5 of Transformers -- we recommend using `max_new_tokens` to control the maximum length of the generation.\n",
            "  warnings.warn(\n"
          ]
        },
        {
          "output_type": "stream",
          "name": "stdout",
          "text": [
            "For Audio Segment 20.mp3\n",
            "তেন খানেতে আমার অ্যাডারেক্টে ছিল যে এমন একটি জিসাস এটামার আইকেন আর্ন মানি আর্ন রেসফেক ডেন হেভার টাইমফর মাইসাক। দ্যাকাও মাই বিগেজ মডিভিশন এই লাইনে আসা যায়।\n",
            "\n",
            "Detected language: en\n",
            "For Audio Segment 21.mp3\n",
            " Yes sir. Okay. Okay sir. Could you describe what impact does high profile cases have on criminal lawyers and how do they handle such cases, pressure of such cases?\n",
            "\n",
            "Detected language: bn\n"
          ]
        },
        {
          "output_type": "stream",
          "name": "stderr",
          "text": [
            "/usr/local/lib/python3.10/dist-packages/transformers/generation/utils.py:1353: UserWarning: Using `max_length`'s default (448) to control the generation length. This behaviour is deprecated and will be removed from the config in v5 of Transformers -- we recommend using `max_new_tokens` to control the maximum length of the generation.\n",
            "  warnings.warn(\n"
          ]
        },
        {
          "output_type": "stream",
          "name": "stdout",
          "text": [
            "For Audio Segment 22.mp3\n",
            "নিয়ো ডিটিস কনফিডেন্সিয়াল, ইটিস অনুলি ফর ইউসফিন একাডেমিক প্রকোসেস। নিহন, এই প্রেসারগুলো একচলিই মনে হার প্রেসার কাঠন ঐ লেভেল অফ ম্যাটার আপনি সামার্কার্ক করেছেন করেছেন করেছেন করেছেন করেছেন করেছেন করেছেন করেছেন করেছেন করেছে\n",
            "\n",
            "Detected language: bn\n"
          ]
        },
        {
          "output_type": "stream",
          "name": "stderr",
          "text": [
            "/usr/local/lib/python3.10/dist-packages/transformers/generation/utils.py:1353: UserWarning: Using `max_length`'s default (448) to control the generation length. This behaviour is deprecated and will be removed from the config in v5 of Transformers -- we recommend using `max_new_tokens` to control the maximum length of the generation.\n",
            "  warnings.warn(\n"
          ]
        },
        {
          "output_type": "stream",
          "name": "stdout",
          "text": [
            "For Audio Segment 23.mp3\n",
            "যখন ডিন করছেন, তো ইহা অন্ডি হবা স্রং বেইস স্রং কানিকশন্স। পার্টিকুলির যতক্ষণ না আপনার নিজের কানিকশনের উপর ভয় হচ্ছে বা কোন ডাউক হচ্ছে।\n",
            "\n",
            "Detected language: te\n"
          ]
        },
        {
          "output_type": "stream",
          "name": "stderr",
          "text": [
            "/usr/local/lib/python3.10/dist-packages/transformers/generation/utils.py:1353: UserWarning: Using `max_length`'s default (448) to control the generation length. This behaviour is deprecated and will be removed from the config in v5 of Transformers -- we recommend using `max_new_tokens` to control the maximum length of the generation.\n",
            "  warnings.warn(\n"
          ]
        },
        {
          "output_type": "stream",
          "name": "stdout",
          "text": [
            "For Audio Segment 24.mp3\n",
            "তার তখন প্রেশারটা ম্যাটর করেন যাকানা ইসলাইক আর রেগলের ডি অফ লাইফ। রেগলোর ওয়ার্কডিয়া ফরাজ। এই ম্যাটরটা হয়তো মিডিয়ার কাছে বা অডিনের প্রাসেন্স কাছে মনে হতে বাড়েই সাইপ প্রফাইল ভার্ক অথিল অ্যাডি এন্ড অফ দিক ডি অ্যাটা পাওরফিড প্রাস�\n",
            "\n",
            "Detected language: bn\n"
          ]
        },
        {
          "output_type": "stream",
          "name": "stderr",
          "text": [
            "/usr/local/lib/python3.10/dist-packages/transformers/generation/utils.py:1353: UserWarning: Using `max_length`'s default (448) to control the generation length. This behaviour is deprecated and will be removed from the config in v5 of Transformers -- we recommend using `max_new_tokens` to control the maximum length of the generation.\n",
            "  warnings.warn(\n"
          ]
        },
        {
          "output_type": "stream",
          "name": "stdout",
          "text": [
            "For Audio Segment 25.mp3\n",
            "ইউজস কোচ্ছে কেটারা নেগেটিভ গেম করার তানুকরাই তাইই করে হিসে ফেজিকেল হোক, পলিকেল হোক কি ফাইনেশিয়ার ইতাই মিসিউজ অফ পাওর অ্যাবিউস অফ পাওর সেজে ধরানো দেরি হত। আমাদের চেষ্টা থাকে যে অবসরই আদের ক্লাইন্ডি এতুহাই প্রফাইড তাদের কাজের দ�\n",
            "\n",
            "Detected language: bn\n"
          ]
        },
        {
          "output_type": "stream",
          "name": "stderr",
          "text": [
            "/usr/local/lib/python3.10/dist-packages/transformers/generation/utils.py:1353: UserWarning: Using `max_length`'s default (448) to control the generation length. This behaviour is deprecated and will be removed from the config in v5 of Transformers -- we recommend using `max_new_tokens` to control the maximum length of the generation.\n",
            "  warnings.warn(\n"
          ]
        },
        {
          "output_type": "stream",
          "name": "stdout",
          "text": [
            "For Audio Segment 26.mp3\n",
            "ডেস্টিমেশন যেটা আচে বা তাদের যে ইচ্ছাটা আছে সেটা দেওয়া বা তিনি প্রসেস ক্রিমিনাল লরটার এরকমভাবেই তৈরি আমাদের এখানে যে জিনিসটা অনেকটা ডাইলুটেট হয়ে যে আপনার যদি বলতে চায় যে পানিসমেন।\n",
            "\n",
            "Detected language: bn\n"
          ]
        },
        {
          "output_type": "stream",
          "name": "stderr",
          "text": [
            "/usr/local/lib/python3.10/dist-packages/transformers/generation/utils.py:1353: UserWarning: Using `max_length`'s default (448) to control the generation length. This behaviour is deprecated and will be removed from the config in v5 of Transformers -- we recommend using `max_new_tokens` to control the maximum length of the generation.\n",
            "  warnings.warn(\n"
          ]
        },
        {
          "output_type": "stream",
          "name": "stdout",
          "text": [
            "For Audio Segment 27.mp3\n",
            "কজান এফেক যেটা এফেকটা যেটা আসবে এই হাইপ্রফাইল কিসগুলি যারা হ্যান্ডেল করে তাদের মিন ডার্গেটা হয় পানিসমেন্টা পুরোরটাকে সাইট না করা তারা ধরেই তাদের ইটাজে ডায়ুলিউড করে তেওয়ার পিছকা। যে হ্যাক তোকটা গুল করেছে প্রাই।\n",
            "\n",
            "Detected language: bn\n"
          ]
        },
        {
          "output_type": "stream",
          "name": "stderr",
          "text": [
            "/usr/local/lib/python3.10/dist-packages/transformers/generation/utils.py:1353: UserWarning: Using `max_length`'s default (448) to control the generation length. This behaviour is deprecated and will be removed from the config in v5 of Transformers -- we recommend using `max_new_tokens` to control the maximum length of the generation.\n",
            "  warnings.warn(\n"
          ]
        },
        {
          "output_type": "stream",
          "name": "stdout",
          "text": [
            "For Audio Segment 28.mp3\n",
            "ভার্সে আইনা পেই করছে তার জন্য আমাদের হিসাবটা ইংলার একলিপি পেইঙ থুদা কোর্টস, পেইঙ থুড পেনেলটিস, ফাইনস, নিজেদের পয়সা খরচ করে পুলিসকে দিচ্ছে, যাকিই দিচ্ছে, উঁকিলকে দিচে পয়সা তার লস হচ্ছে। সেটা তার লস তার এক ধর্ম পেয়েমের।\n",
            "\n",
            "Detected language: bn\n"
          ]
        },
        {
          "output_type": "stream",
          "name": "stderr",
          "text": [
            "/usr/local/lib/python3.10/dist-packages/transformers/generation/utils.py:1353: UserWarning: Using `max_length`'s default (448) to control the generation length. This behaviour is deprecated and will be removed from the config in v5 of Transformers -- we recommend using `max_new_tokens` to control the maximum length of the generation.\n",
            "  warnings.warn(\n"
          ]
        },
        {
          "output_type": "stream",
          "name": "stdout",
          "text": [
            "For Audio Segment 29.mp3\n",
            "এফেক্টা গ্রহণ হয় না কিছুই থাকে যেখানে মানে সত্যিই জেই লাভাবে কিছুটি থাকে যেখানে মানে সত্যিই জেই লাভাবে কিছুটি কিছুটি কিছুটি কিছুটি কিছুটি কিছেন কিছেন কিছেন কিছেন কিছেন কিছেন কিছেন কিছেন কিছেন কিছেন কিছেন কিছেন কিছেন কিছেন কি�\n",
            "\n",
            "Detected language: bn\n"
          ]
        },
        {
          "output_type": "stream",
          "name": "stderr",
          "text": [
            "/usr/local/lib/python3.10/dist-packages/transformers/generation/utils.py:1353: UserWarning: Using `max_length`'s default (448) to control the generation length. This behaviour is deprecated and will be removed from the config in v5 of Transformers -- we recommend using `max_new_tokens` to control the maximum length of the generation.\n",
            "  warnings.warn(\n"
          ]
        },
        {
          "output_type": "stream",
          "name": "stdout",
          "text": [
            "For Audio Segment 30.mp3\n",
            "এরাও অন্য মোমেন্টে অনেকটা বেশি এখাই করতে পারে। এরাও অন্ডিকে স্বীত থাকে এসেকিলো ডিল করবার জন্য নগর্ম নর্মাল ওয়ার্ক লাইকটিস অন্য অন্য করেকেন গেটপিজ, পার্টিজ অন্য আদিতিক।\n",
            "\n",
            "Detected language: bn\n"
          ]
        },
        {
          "output_type": "stream",
          "name": "stderr",
          "text": [
            "/usr/local/lib/python3.10/dist-packages/transformers/generation/utils.py:1353: UserWarning: Using `max_length`'s default (448) to control the generation length. This behaviour is deprecated and will be removed from the config in v5 of Transformers -- we recommend using `max_new_tokens` to control the maximum length of the generation.\n",
            "  warnings.warn(\n"
          ]
        },
        {
          "output_type": "stream",
          "name": "stdout",
          "text": [
            "For Audio Segment 31.mp3\n",
            "এগুগুগুগুগুগুগুগুগুগুগুগুগুগুগুগুগুগুগুগুগুগুগুগুগুগুগুগুগুগুগুগুগুগুগুগুগুগুগুগুগুগুগুগুগুগুগুগুগুগুগুগুগুগুগুগুগুগুগুগুগুগুগুগুগুগুগুগুগুগুগুগুগুগুগুগুগুগুগুগুগুগুগুগুগুগুগুগুগুগুগুগুগুগুগুগুগুগুগুগুগুগুগুগুগুগুগুগুগুগুগ\n",
            "\n",
            "Detected language: bn\n"
          ]
        },
        {
          "output_type": "stream",
          "name": "stderr",
          "text": [
            "/usr/local/lib/python3.10/dist-packages/transformers/generation/utils.py:1353: UserWarning: Using `max_length`'s default (448) to control the generation length. This behaviour is deprecated and will be removed from the config in v5 of Transformers -- we recommend using `max_new_tokens` to control the maximum length of the generation.\n",
            "  warnings.warn(\n"
          ]
        },
        {
          "output_type": "stream",
          "name": "stdout",
          "text": [
            "For Audio Segment 32.mp3\n",
            "সেগুলো আলাদা কার ড্যাথস প্রফেশন আছে আসান লাইফেতে ওরকম উপনোভাবে হ্যামবার পায়ানে। ও ওইফ্যাক্ট ডাসিট হাভ করে। ফেক বলতে দেখুনি লাইনে থাকতে মেন্টাল বা ইন্টাল।\n",
            "\n",
            "Detected language: bn\n"
          ]
        },
        {
          "output_type": "stream",
          "name": "stderr",
          "text": [
            "/usr/local/lib/python3.10/dist-packages/transformers/generation/utils.py:1353: UserWarning: Using `max_length`'s default (448) to control the generation length. This behaviour is deprecated and will be removed from the config in v5 of Transformers -- we recommend using `max_new_tokens` to control the maximum length of the generation.\n",
            "  warnings.warn(\n"
          ]
        },
        {
          "output_type": "stream",
          "name": "stdout",
          "text": [
            "For Audio Segment 33.mp3\n",
            "ইমোশনাল এফেক যদি কিছু বলতে যান, সেগুলো গ্রথম থেকে হলে ড্যাম্পেন্ট হয়ে যায়। এত ধরনের লোকজনের কাম্প্লিন্সাকে কি কিবলো কিছুটারা হুমারিকের ওপর কিছুটা ফেক্ত চলেই যায়।\n",
            "\n",
            "Detected language: bn\n"
          ]
        },
        {
          "output_type": "stream",
          "name": "stderr",
          "text": [
            "/usr/local/lib/python3.10/dist-packages/transformers/generation/utils.py:1353: UserWarning: Using `max_length`'s default (448) to control the generation length. This behaviour is deprecated and will be removed from the config in v5 of Transformers -- we recommend using `max_new_tokens` to control the maximum length of the generation.\n",
            "  warnings.warn(\n"
          ]
        },
        {
          "output_type": "stream",
          "name": "stdout",
          "text": [
            "For Audio Segment 34.mp3\n",
            "কুডিও ডেসক্রাইভ\n",
            "\n",
            "Detected language: en\n",
            "For Audio Segment 35.mp3\n",
            " For us, what common types of cases do criminal lawyers generally encounter? What type of cases do criminal lawyers encounter? Criminal cases place to place is different. Same as shop.\n",
            "\n",
            "Detected language: bn\n"
          ]
        },
        {
          "output_type": "stream",
          "name": "stderr",
          "text": [
            "/usr/local/lib/python3.10/dist-packages/transformers/generation/utils.py:1353: UserWarning: Using `max_length`'s default (448) to control the generation length. This behaviour is deprecated and will be removed from the config in v5 of Transformers -- we recommend using `max_new_tokens` to control the maximum length of the generation.\n",
            "  warnings.warn(\n"
          ]
        },
        {
          "output_type": "stream",
          "name": "stdout",
          "text": [
            "For Audio Segment 36.mp3\n",
            "কলকাতা শহরের ক্ষেত্রে ফাইন্যাশিয়াল হোয়াইট ফলার্ট লাইন ডু কলার্ট ক্র্যাইনশিগ্লো বেশিয়ার ভায়েলেন্ট ট্রাইক কম মানে মার্ক পিট ক্ষুণ খারাভে। ক্ষুণ খারাই মার্ডার মনে আমরা লাস্ট দুতিন বছরে পাঁচটাকি ছড়া মার্ডার ট্রাট।\n",
            "\n",
            "Detected language: bn\n"
          ]
        },
        {
          "output_type": "stream",
          "name": "stderr",
          "text": [
            "/usr/local/lib/python3.10/dist-packages/transformers/generation/utils.py:1353: UserWarning: Using `max_length`'s default (448) to control the generation length. This behaviour is deprecated and will be removed from the config in v5 of Transformers -- we recommend using `max_new_tokens` to control the maximum length of the generation.\n",
            "  warnings.warn(\n"
          ]
        },
        {
          "output_type": "stream",
          "name": "stdout",
          "text": [
            "For Audio Segment 37.mp3\n",
            "কমপ্যারেডিবলি শিয়ালদার্থে যদি আপনি যান লাশ পাঁচ বছর বারটা রোগবর গেছে আলিপুরে গেলে মোটামুটি ৫০৬ রোগ। রিলাডিবলি প্লেস্টুপ্লেস বিফের করে। আপনি যদি নদন শ্রীদ থেই যান রাজিলিং সাইন।\n",
            "\n",
            "Detected language: bn\n"
          ]
        },
        {
          "output_type": "stream",
          "name": "stderr",
          "text": [
            "/usr/local/lib/python3.10/dist-packages/transformers/generation/utils.py:1353: UserWarning: Using `max_length`'s default (448) to control the generation length. This behaviour is deprecated and will be removed from the config in v5 of Transformers -- we recommend using `max_new_tokens` to control the maximum length of the generation.\n",
            "  warnings.warn(\n"
          ]
        },
        {
          "output_type": "stream",
          "name": "stdout",
          "text": [
            "For Audio Segment 38.mp3\n",
            "তালে উপানাথে আপনার অ্যাসল্ড ভায়েলিন ক্রাইমস আর এনডিপিএস মানে নার্কোটিক্স এর মামলা বেশি থাকবে। বর্ডার এডিয়াতে যাবেন কাস্টামসের মার্কার থাকবে। তো কুর্গাদা শহরের ক্ষেত্রে পাটিকুলেরটি এই মুক্তিফি।\n",
            "\n",
            "Detected language: bn\n"
          ]
        },
        {
          "output_type": "stream",
          "name": "stderr",
          "text": [
            "/usr/local/lib/python3.10/dist-packages/transformers/generation/utils.py:1353: UserWarning: Using `max_length`'s default (448) to control the generation length. This behaviour is deprecated and will be removed from the config in v5 of Transformers -- we recommend using `max_new_tokens` to control the maximum length of the generation.\n",
            "  warnings.warn(\n"
          ]
        },
        {
          "output_type": "stream",
          "name": "stdout",
          "text": [
            "For Audio Segment 39.mp3\n",
            "পোট বেন্ডি ৪০৬ বেসিকেলি রিয়েল স্টেটি এই টাকা নিয়েছে, পালিয়ে গেছে, চিটিং ফর্জারির মামলা এই ধরনেরগুলো আরির সাথে একারা মুক্ত নেখন আসছে অনেক বেশিয়া মহকে সবেছে ফোন নাইঙ্গিলিটি বিভোর্স ডিভি।\n",
            "\n",
            "Detected language: bn\n"
          ]
        },
        {
          "output_type": "stream",
          "name": "stderr",
          "text": [
            "/usr/local/lib/python3.10/dist-packages/transformers/generation/utils.py:1353: UserWarning: Using `max_length`'s default (448) to control the generation length. This behaviour is deprecated and will be removed from the config in v5 of Transformers -- we recommend using `max_new_tokens` to control the maximum length of the generation.\n",
            "  warnings.warn(\n"
          ]
        },
        {
          "output_type": "stream",
          "name": "stdout",
          "text": [
            "For Audio Segment 40.mp3\n",
            "ভেসিরভাগ ক্ষেত্রে এগুলো তিকারের গিয়াস গানে একজন কম্প্লিন্স আছে এগুলো মাতা স্বাতাই ডায়ালামিন ট্রেন্ড আছে যে কিছু আপনার কি বলে ফলসক্লিন্সর ভুগসে।\n",
            "\n",
            "Detected language: bn\n"
          ]
        },
        {
          "output_type": "stream",
          "name": "stderr",
          "text": [
            "/usr/local/lib/python3.10/dist-packages/transformers/generation/utils.py:1353: UserWarning: Using `max_length`'s default (448) to control the generation length. This behaviour is deprecated and will be removed from the config in v5 of Transformers -- we recommend using `max_new_tokens` to control the maximum length of the generation.\n",
            "  warnings.warn(\n"
          ]
        },
        {
          "output_type": "stream",
          "name": "stdout",
          "text": [
            "For Audio Segment 41.mp3\n",
            "নরালে ডিবি ফোন ড্যাইটি ফোট ২৪৬ এইগুলোর ওপরইই কোলগতা সরকের বেশিরভাগ ক্রিমিলার মামলা চলছে। এইসব কিসস ডিল করতে গিয়ে কি রকমের অবস্ট্রকেল ফেস করতে হার আসিকার কি গমভাবে ডিল করতে হয়।\n",
            "\n",
            "Detected language: bn\n"
          ]
        },
        {
          "output_type": "stream",
          "name": "stderr",
          "text": [
            "/usr/local/lib/python3.10/dist-packages/transformers/generation/utils.py:1353: UserWarning: Using `max_length`'s default (448) to control the generation length. This behaviour is deprecated and will be removed from the config in v5 of Transformers -- we recommend using `max_new_tokens` to control the maximum length of the generation.\n",
            "  warnings.warn(\n"
          ]
        },
        {
          "output_type": "stream",
          "name": "stdout",
          "text": [
            "For Audio Segment 42.mp3\n",
            "নির্জান মামলার প্রথম ইউটি হচ্ছে প্রথম ইনিশাল স্রেপ্টারের পুলিশ কেতি সপ্তিকে বড় অবসরকার হলেছে পুলিশ ডিপেন্ট করে আপনার আইয়োকটি। এশিরভাগ ক্ষেত্রে আইয়ো বা ইন্দেস্টিকাইসবিং অফিসে যারা হয় তারা খুক আলো হয়, তারা খুক সুন্ধুর।\n",
            "\n",
            "Detected language: bn\n"
          ]
        },
        {
          "output_type": "stream",
          "name": "stderr",
          "text": [
            "/usr/local/lib/python3.10/dist-packages/transformers/generation/utils.py:1353: UserWarning: Using `max_length`'s default (448) to control the generation length. This behaviour is deprecated and will be removed from the config in v5 of Transformers -- we recommend using `max_new_tokens` to control the maximum length of the generation.\n",
            "  warnings.warn(\n"
          ]
        },
        {
          "output_type": "stream",
          "name": "stdout",
          "text": [
            "For Audio Segment 43.mp3\n",
            "মার্ট ভাগ্যবশতকে যুকিছু মানুষ পড়েই যায় যে দ্বারা খেলে সেটিং দ্যাটার্ক সাইট গার পুলিশের সাথে আওয়ার বৌষে সাধারণত একই ইউজডো বা কামতে নিন্ডক। পুলিশ সাধারণরা বৌষে।\n",
            "\n",
            "Detected language: bn\n"
          ]
        },
        {
          "output_type": "stream",
          "name": "stderr",
          "text": [
            "/usr/local/lib/python3.10/dist-packages/transformers/generation/utils.py:1353: UserWarning: Using `max_length`'s default (448) to control the generation length. This behaviour is deprecated and will be removed from the config in v5 of Transformers -- we recommend using `max_new_tokens` to control the maximum length of the generation.\n",
            "  warnings.warn(\n"
          ]
        },
        {
          "output_type": "stream",
          "name": "stdout",
          "text": [
            "For Audio Segment 44.mp3\n",
            "তারা যদি মনে করে যেহা দেরিজ সাম প্রভল্ম, তালে তারা বিলিংবি উড়ো ইন্ডিস্ট্রিয়ানটা করে দেয় এবং সেক্ষেত্রেই তারা মনে করে এবং ক্লাইন্টর ফিল করে যে যে কাম্পেনসিরিট সামপার্ন পার্ট ফ্রামবার্ডদের গেটিংয়ারেজ।\n",
            "\n",
            "Detected language: bn\n"
          ]
        },
        {
          "output_type": "stream",
          "name": "stderr",
          "text": [
            "/usr/local/lib/python3.10/dist-packages/transformers/generation/utils.py:1353: UserWarning: Using `max_length`'s default (448) to control the generation length. This behaviour is deprecated and will be removed from the config in v5 of Transformers -- we recommend using `max_new_tokens` to control the maximum length of the generation.\n",
            "  warnings.warn(\n"
          ]
        },
        {
          "output_type": "stream",
          "name": "stdout",
          "text": [
            "For Audio Segment 45.mp3\n",
            "সেটা দেন আসেন হচ্ছে বিলের ক্ষেত্রে বিলের ক্ষেত্রে খানেতে হয় যে হয় পুলিশ তা নিজের পাওয়ারটাকে ইউজ করে। অরেলস কোনও অ্যাডভোকের তা নিজের প্রতিশানটাকে শোপার।\n",
            "\n",
            "Detected language: bn\n"
          ]
        },
        {
          "output_type": "stream",
          "name": "stderr",
          "text": [
            "/usr/local/lib/python3.10/dist-packages/transformers/generation/utils.py:1353: UserWarning: Using `max_length`'s default (448) to control the generation length. This behaviour is deprecated and will be removed from the config in v5 of Transformers -- we recommend using `max_new_tokens` to control the maximum length of the generation.\n",
            "  warnings.warn(\n"
          ]
        },
        {
          "output_type": "stream",
          "name": "stdout",
          "text": [
            "For Audio Segment 46.mp3\n",
            "কাম্প্রেন যখন কোন অ্যাডভোকেটে কাম্প্রেন যখন কোন সিনিয়র অ্যাডভোকেটকে দাঁড়া করায় তো সিনিয়র অ্যাডভোকেটে পাটটাই হচ্ছে বিল অপস্থা। তার ক্যাড্ভেলেটা অথাটাই বেশি জুগিয়ারের দাঁড়ালে পালেন সেটা একটা অবস্থানেকে স্ববীপানেকে কর\n",
            "\n",
            "Detected language: bn\n"
          ]
        },
        {
          "output_type": "stream",
          "name": "stderr",
          "text": [
            "/usr/local/lib/python3.10/dist-packages/transformers/generation/utils.py:1353: UserWarning: Using `max_length`'s default (448) to control the generation length. This behaviour is deprecated and will be removed from the config in v5 of Transformers -- we recommend using `max_new_tokens` to control the maximum length of the generation.\n",
            "  warnings.warn(\n"
          ]
        },
        {
          "output_type": "stream",
          "name": "stdout",
          "text": [
            "For Audio Segment 47.mp3\n",
            "সাকরেও যে আপনার যদি ভেইললের জন্য না হতে হতে প্রমধিন আপনার জুনিয়াদেরকে ইউজ করলে আপনার বেইল পাওয়ার চানসকর। ওখানে একটা সিনিয়ার ইথাকবে সিনিয়ার মানি আপনার একটা ফাইন্যান্সিয়াল ইকস্টাকর। এটার জুনিয়ার যা ফিজনে সিনিয়াতার বেশিটায়।\n",
            "\n",
            "Detected language: bn\n"
          ]
        },
        {
          "output_type": "stream",
          "name": "stderr",
          "text": [
            "/usr/local/lib/python3.10/dist-packages/transformers/generation/utils.py:1353: UserWarning: Using `max_length`'s default (448) to control the generation length. This behaviour is deprecated and will be removed from the config in v5 of Transformers -- we recommend using `max_new_tokens` to control the maximum length of the generation.\n",
            "  warnings.warn(\n"
          ]
        },
        {
          "output_type": "stream",
          "name": "stdout",
          "text": [
            "For Audio Segment 48.mp3\n",
            "দেন থাকে জাজেজ জাজেজদেরও কিছু অ্যানিমোসিটি থাকে তারা অড্রী প্রিন্টার মাইট থাকে যে স্পেসিভিকিছু কেতে আমি বেল দেবার। উপা বেল দেব। কৃণিজান মেটারেসে বেইলটাই শক্তকে মেই ইমপর্টেন কেন এটা ইনস্টেন্ট একটা ক্রিবলো।\n",
            "\n",
            "Detected language: bn\n"
          ]
        },
        {
          "output_type": "stream",
          "name": "stderr",
          "text": [
            "/usr/local/lib/python3.10/dist-packages/transformers/generation/utils.py:1353: UserWarning: Using `max_length`'s default (448) to control the generation length. This behaviour is deprecated and will be removed from the config in v5 of Transformers -- we recommend using `max_new_tokens` to control the maximum length of the generation.\n",
            "  warnings.warn(\n"
          ]
        },
        {
          "output_type": "stream",
          "name": "stdout",
          "text": [
            "For Audio Segment 49.mp3\n",
            "ইনস্টিন্ড একটা অর্ডার পাবে, ট্রায়েজ চলবে পাঁচ বছর চার বছর সহজ যেটা হবে ট্রায়েজ শেষ হবে ততোজনিয়াতি ম্যাডের করে কারে কাটে এই মুমান্ডে যখন নামাটে শুরু হয়ে তেকে বেলটা ইমকট কিন্ত উঠেকেছব থেকে বড় হার্ট কৃনিকার্ড।\n",
            "\n",
            "Detected language: bn\n"
          ]
        },
        {
          "output_type": "stream",
          "name": "stderr",
          "text": [
            "/usr/local/lib/python3.10/dist-packages/transformers/generation/utils.py:1353: UserWarning: Using `max_length`'s default (448) to control the generation length. This behaviour is deprecated and will be removed from the config in v5 of Transformers -- we recommend using `max_new_tokens` to control the maximum length of the generation.\n",
            "  warnings.warn(\n"
          ]
        },
        {
          "output_type": "stream",
          "name": "stdout",
          "text": [
            "For Audio Segment 50.mp3\n",
            "একটা পণ্ড টাইমে আমরা শুনলাও হই আবট বিস্ক্রেপেন্সি যেখানে পুলিশ এর গোপারেশন নির্বালিক যেহুতু অন্ধ আদোসাইট অবধেছেন।\n",
            "\n",
            "Detected language: bn\n"
          ]
        },
        {
          "output_type": "stream",
          "name": "stderr",
          "text": [
            "/usr/local/lib/python3.10/dist-packages/transformers/generation/utils.py:1353: UserWarning: Using `max_length`'s default (448) to control the generation length. This behaviour is deprecated and will be removed from the config in v5 of Transformers -- we recommend using `max_new_tokens` to control the maximum length of the generation.\n",
            "  warnings.warn(\n"
          ]
        },
        {
          "output_type": "stream",
          "name": "stdout",
          "text": [
            "For Audio Segment 51.mp3\n",
            "অনেতর্য অন্য ডিরেকটিভ সুলিশ রয়েজ দিনই কাজ গুচি। কোনিজেদের ইক্সাম্পেস করে ইনসিডেন ধরে একটু বোঝানে যেত্রদের কি রকমের এই প্রবেলমসগুলো ফিস কর্থাবেথার পুস্তকর সুবিত হত।\n",
            "\n",
            "Detected language: en\n",
            "For Audio Segment 52.mp3\n",
            " Thank you.\n",
            "\n",
            "Detected language: bn\n"
          ]
        },
        {
          "output_type": "stream",
          "name": "stderr",
          "text": [
            "/usr/local/lib/python3.10/dist-packages/transformers/generation/utils.py:1353: UserWarning: Using `max_length`'s default (448) to control the generation length. This behaviour is deprecated and will be removed from the config in v5 of Transformers -- we recommend using `max_new_tokens` to control the maximum length of the generation.\n",
            "  warnings.warn(\n"
          ]
        },
        {
          "output_type": "stream",
          "name": "stdout",
          "text": [
            "For Audio Segment 53.mp3\n",
            "উইখাই আমরা ইমিদ সেন্সর করে মিনিজের অধিমাটিক করেছেন কোগের কনকাতা এরা মোড়ো এরা কিছু হয়েছিল এসালক কর্কাতার করেছেন, কোগের তাতে কিছু পুলিস অফিসেজ উন্গর্ক ছিল, এছারও বাইরো কিছু উন্গর্ক ছিল।\n",
            "\n",
            "Detected language: bn\n"
          ]
        },
        {
          "output_type": "stream",
          "name": "stderr",
          "text": [
            "/usr/local/lib/python3.10/dist-packages/transformers/generation/utils.py:1353: UserWarning: Using `max_length`'s default (448) to control the generation length. This behaviour is deprecated and will be removed from the config in v5 of Transformers -- we recommend using `max_new_tokens` to control the maximum length of the generation.\n",
            "  warnings.warn(\n"
          ]
        },
        {
          "output_type": "stream",
          "name": "stdout",
          "text": [
            "For Audio Segment 54.mp3\n",
            "শেখানের তে যে রকমান্দের ইছিলেন, আমরা সব পার্টিদেরকী রিপ্রজাতি করেছিলেন, শেখানের উন্পর্ক বইছিল যে যারা অফিসেস যারা ইকগুল তাদেরকে তারা কোনওভাবি এক করবে না, চারবে না, বেল দেবে না, ড্যাকপাসিড ফাই। তার পরে নেই শ্রেষ ছিল।\n",
            "\n",
            "Detected language: bn\n"
          ]
        },
        {
          "output_type": "stream",
          "name": "stderr",
          "text": [
            "/usr/local/lib/python3.10/dist-packages/transformers/generation/utils.py:1353: UserWarning: Using `max_length`'s default (448) to control the generation length. This behaviour is deprecated and will be removed from the config in v5 of Transformers -- we recommend using `max_new_tokens` to control the maximum length of the generation.\n",
            "  warnings.warn(\n"
          ]
        },
        {
          "output_type": "stream",
          "name": "stdout",
          "text": [
            "For Audio Segment 55.mp3\n",
            "এবার এখনও দি বেল পাইন দেজ বুক যে শক্তি হয়েছিল প্রাইনার সেটা বলিনা ভারেও স্টিনভিনিকু স্টেন্ডা পররাট লাইনস।\n",
            "\n",
            "Detected language: en\n",
            "For Audio Segment 56.mp3\n",
            " Thank you sir. Moving to the next question. Could you describe the role of ethics and professionalism that play in legal profession? Aarida, kyaon ho bata lawyer ke impact koi?\n",
            "\n",
            "Detected language: en\n",
            "For Audio Segment 57.mp3\n",
            " ok they come ethics there's a fine line between illegal and unethical i'm ready to go to Beshar's do MUSIC unethical\n",
            "\n",
            "Detected language: bn\n"
          ]
        },
        {
          "output_type": "stream",
          "name": "stderr",
          "text": [
            "/usr/local/lib/python3.10/dist-packages/transformers/generation/utils.py:1353: UserWarning: Using `max_length`'s default (448) to control the generation length. This behaviour is deprecated and will be removed from the config in v5 of Transformers -- we recommend using `max_new_tokens` to control the maximum length of the generation.\n",
            "  warnings.warn(\n"
          ]
        },
        {
          "output_type": "stream",
          "name": "stdout",
          "text": [
            "For Audio Segment 58.mp3\n",
            "অবসৈত উচিত নয় যে আনিক্ষেল খাওয়া দরকার করু কারও কারও তারা সিটিউয়েশন সুইচ ডিমান্স যেই কখনও কখনও নিজের প্লাইন দির জন্য তুনে হতে পারো কারও অবসৈতামার ডিসপ্রিশনের ওপর এবং তামার ইএর ওপরে দিবারে পেকেছেন।\n",
            "\n",
            "Detected language: hi\n"
          ]
        },
        {
          "output_type": "stream",
          "name": "stderr",
          "text": [
            "/usr/local/lib/python3.10/dist-packages/transformers/generation/utils.py:1353: UserWarning: Using `max_length`'s default (448) to control the generation length. This behaviour is deprecated and will be removed from the config in v5 of Transformers -- we recommend using `max_new_tokens` to control the maximum length of the generation.\n",
            "  warnings.warn(\n"
          ]
        },
        {
          "output_type": "stream",
          "name": "stdout",
          "text": [
            "For Audio Segment 59.mp3\n",
            "হেভিং সেট দ্যাব। ইসলাই যে কিছি না কিছু কোই করবেন। হেভিং সেট দ্যাব। তিসলাই যে কিছি না কবি কোই ওয়ান্ড কেজ কিছু কয়েন্টে আসে যে আদা সাইট হয়তো এমনকাছে কিছু করবে করবে করবে করবে করবে করবে করবে করবে করবে করবে করবে করবে করে করে করে কর�\n",
            "\n",
            "Detected language: bn\n"
          ]
        },
        {
          "output_type": "stream",
          "name": "stderr",
          "text": [
            "/usr/local/lib/python3.10/dist-packages/transformers/generation/utils.py:1353: UserWarning: Using `max_length`'s default (448) to control the generation length. This behaviour is deprecated and will be removed from the config in v5 of Transformers -- we recommend using `max_new_tokens` to control the maximum length of the generation.\n",
            "  warnings.warn(\n"
          ]
        },
        {
          "output_type": "stream",
          "name": "stdout",
          "text": [
            "For Audio Segment 60.mp3\n",
            "এটা সোজাভাবে লিগেল সেন্সে কোথাও থিকে আমরা বের করতে পারছে। তো যেরকম হয় মাঝামাঝি যে আমরা জানি যাহাত মারেটটা কিছু স্টেপস হলে আমাদের ফেবারে আসবে। তো আদাসাইট ইসে মাঝান্তি হাহত সকালগে আমাদের পরেকে করেছে।\n",
            "\n",
            "Detected language: bn\n"
          ]
        },
        {
          "output_type": "stream",
          "name": "stderr",
          "text": [
            "/usr/local/lib/python3.10/dist-packages/transformers/generation/utils.py:1353: UserWarning: Using `max_length`'s default (448) to control the generation length. This behaviour is deprecated and will be removed from the config in v5 of Transformers -- we recommend using `max_new_tokens` to control the maximum length of the generation.\n",
            "  warnings.warn(\n"
          ]
        },
        {
          "output_type": "stream",
          "name": "stdout",
          "text": [
            "For Audio Segment 61.mp3\n",
            "আনে থিকে লবসি কার মাটমাটির লিকার, একদম ছোট সেন্সে, আমাদের নিজেদের অনেই ম্যাটরি থাকে যামলে জানি এম্যাটরি কিছুকে উক্তেপার করে, ক্লাইন্টের অনেকই আমাদেরকে বলেন যে লম্বা চালাও।\n",
            "\n",
            "Detected language: bn\n"
          ]
        },
        {
          "output_type": "stream",
          "name": "stderr",
          "text": [
            "/usr/local/lib/python3.10/dist-packages/transformers/generation/utils.py:1353: UserWarning: Using `max_length`'s default (448) to control the generation length. This behaviour is deprecated and will be removed from the config in v5 of Transformers -- we recommend using `max_new_tokens` to control the maximum length of the generation.\n",
            "  warnings.warn(\n"
          ]
        },
        {
          "output_type": "stream",
          "name": "stdout",
          "text": [
            "For Audio Segment 62.mp3\n",
            "আমাদের পার্টিশনের কিছু ম্যাটেজে এরা বলেই গেছে যে দশ বছর চালান, আমাক ছেলে বড় হলে টাকা পাবে ততমম কিনে নিতে পারবে অন্য পার্টা। তাজনার দশ বছর চালান, তো তার জন্য আনি থিকালিই হয় টাইম করান ও শরীর খারাপ আছে হয় তসে প্রেজেন্টার সাক্রান।\n",
            "\n",
            "Detected language: bn\n"
          ]
        },
        {
          "output_type": "stream",
          "name": "stderr",
          "text": [
            "/usr/local/lib/python3.10/dist-packages/transformers/generation/utils.py:1353: UserWarning: Using `max_length`'s default (448) to control the generation length. This behaviour is deprecated and will be removed from the config in v5 of Transformers -- we recommend using `max_new_tokens` to control the maximum length of the generation.\n",
            "  warnings.warn(\n"
          ]
        },
        {
          "output_type": "stream",
          "name": "stdout",
          "text": [
            "For Audio Segment 63.mp3\n",
            "প্রেজেন্ট নেই তার শরীর হারাপ বলে দেওয়া হল। রিপোর্ট আসেন কনটেক্ট করায় যায় কোনও কাবে একটা ইক্ষিয়ে দেওয়া হল। ক্রিমিলম্যান্টের যেতে তার ওরেন্ড হয়তবে এই চেতা শরীর হারাপ দেখিয়ে তার ওরেন্ড রিকল করিয়ে দেওয়া হল।\n",
            "\n",
            "Detected language: bn\n"
          ]
        },
        {
          "output_type": "stream",
          "name": "stderr",
          "text": [
            "/usr/local/lib/python3.10/dist-packages/transformers/generation/utils.py:1353: UserWarning: Using `max_length`'s default (448) to control the generation length. This behaviour is deprecated and will be removed from the config in v5 of Transformers -- we recommend using `max_new_tokens` to control the maximum length of the generation.\n",
            "  warnings.warn(\n"
          ]
        },
        {
          "output_type": "stream",
          "name": "stdout",
          "text": [
            "For Audio Segment 64.mp3\n",
            "তাকে ভাইসিগুলো তখনই ইউজায় বেশিরভাগ ক্ষেতরে যে হয়তাই গদমি কন্ডেতে আছে আর কিছু কোনও উপায় নির্জ করে। এছাড়া আনির্থিকেল হওয়ার জন্য কানে উকিনরা কোনদিন চায়না বা ইতে আমাদের জাইবুলের ইমেজ ক্যারি করতে বায়।\n",
            "\n",
            "Detected language: bn\n"
          ]
        },
        {
          "output_type": "stream",
          "name": "stderr",
          "text": [
            "/usr/local/lib/python3.10/dist-packages/transformers/generation/utils.py:1353: UserWarning: Using `max_length`'s default (448) to control the generation length. This behaviour is deprecated and will be removed from the config in v5 of Transformers -- we recommend using `max_new_tokens` to control the maximum length of the generation.\n",
            "  warnings.warn(\n"
          ]
        },
        {
          "output_type": "stream",
          "name": "stdout",
          "text": [
            "For Audio Segment 65.mp3\n",
            "এই সব ডিলি মার্চ এই থাকেল ডিলি মার্চ একমাতি ন্যাভিকেট গিয়ে একটা লয়ের একটি স্বকেল ডিলি মার্চ একটি ন্যাভিকেট করতে গিয়ে একটা লয়ের একটি স্বকেল স্বকেল একটি নেভিকেট করতে গিয়ে একটি লয়ের একটি করেছেন করেছেন করেছেন করেছেন করেছেন কর\n",
            "\n",
            "Detected language: en\n",
            "For Audio Segment 66.mp3\n",
            " What is the other end of the facing and become lawyer? What does he face?\n",
            "\n",
            "Detected language: bn\n"
          ]
        },
        {
          "output_type": "stream",
          "name": "stderr",
          "text": [
            "/usr/local/lib/python3.10/dist-packages/transformers/generation/utils.py:1353: UserWarning: Using `max_length`'s default (448) to control the generation length. This behaviour is deprecated and will be removed from the config in v5 of Transformers -- we recommend using `max_new_tokens` to control the maximum length of the generation.\n",
            "  warnings.warn(\n"
          ]
        },
        {
          "output_type": "stream",
          "name": "stdout",
          "text": [
            "For Audio Segment 67.mp3\n",
            "সিরকমভাবে, দেখন এই জিজ্জিগুলো জিজ্জিগুলো লিগিয়ে থাকে এগুলো কিছুত অ্যাডাভাদের পার্সনার লাইফে দেখ এফেক্ট থাকে একটা। যি কখনো মনে হয়েছে ঠিকা চেপই নিজের জন্য হয়তকিছে জিজ্জ প্যানকেলেট।\n",
            "\n",
            "Detected language: bn\n"
          ]
        },
        {
          "output_type": "stream",
          "name": "stderr",
          "text": [
            "/usr/local/lib/python3.10/dist-packages/transformers/generation/utils.py:1353: UserWarning: Using `max_length`'s default (448) to control the generation length. This behaviour is deprecated and will be removed from the config in v5 of Transformers -- we recommend using `max_new_tokens` to control the maximum length of the generation.\n",
            "  warnings.warn(\n"
          ]
        },
        {
          "output_type": "stream",
          "name": "stdout",
          "text": [
            "For Audio Segment 68.mp3\n",
            "ক্ষুব একটা এতে আমরা গ্রহণভাবে করি না কানা এই এথিক্যাল ডিলেমাসগুলা আমরা ট্রাইকো অবারেড অল্ডিটাই আমরা কোনও দিন অ্যাকটিভির ধারে কাছে যেতে চাই না। যদি কিছু থাকে জেরাও মালের কিছুদিন আগিক্ষতা কালকি আমরা কিছুটিতে আমরা কিছেন কিছেন কিছেন \n",
            "\n",
            "Detected language: bn\n"
          ]
        },
        {
          "output_type": "stream",
          "name": "stderr",
          "text": [
            "/usr/local/lib/python3.10/dist-packages/transformers/generation/utils.py:1353: UserWarning: Using `max_length`'s default (448) to control the generation length. This behaviour is deprecated and will be removed from the config in v5 of Transformers -- we recommend using `max_new_tokens` to control the maximum length of the generation.\n",
            "  warnings.warn(\n"
          ]
        },
        {
          "output_type": "stream",
          "name": "stdout",
          "text": [
            "For Audio Segment 69.mp3\n",
            "তো আমরা একজন প্লাইন ডেইজ ছিলেন যে তার কিছু অর্ডার চাই বিহাইন দিসিং তিনি ভোটে অ্যাপিয়ার করে না ভেজত থেকে বেরা। তো আমরা স্ট্রেটাভাবে বিডিনাইট। যা কিন্টি উনিভোলব ইন দোজ কাইন জার থিকিছে তুই ট্রাইড অ্যাট অ্যাকটিভি হিয়ে বাট কাঁ গরীতি \n",
            "\n",
            "Detected language: ne\n"
          ]
        },
        {
          "output_type": "stream",
          "name": "stderr",
          "text": [
            "/usr/local/lib/python3.10/dist-packages/transformers/generation/utils.py:1353: UserWarning: Using `max_length`'s default (448) to control the generation length. This behaviour is deprecated and will be removed from the config in v5 of Transformers -- we recommend using `max_new_tokens` to control the maximum length of the generation.\n",
            "  warnings.warn(\n"
          ]
        },
        {
          "output_type": "stream",
          "name": "stdout",
          "text": [
            "For Audio Segment 70.mp3\n",
            "তিনি হয় সেকৃতির দেন ডিভাইন করে সিটুয়েশন অপরিতীক যদি মুজের ক্লাইন্টের জন্য এবং মনহে জাস্ট্রিফার দেন মিফিলব গুড অপর্টা হচ্ছেল যদি মনহে যান জাস্ট্রিফারের তা লেডাক ইকিনটি ফিলুন থাকবে কার সিটুয়েশন করে সবসময়।\n",
            "\n",
            "Detected language: en\n",
            "For Audio Segment 71.mp3\n",
            " Now we would really like to know how does the knowledge that some person have actually committed the crime versus the knowledge that somebody is actually innocent but has been accused of a thing.\n",
            "\n",
            "Detected language: bn\n"
          ]
        },
        {
          "output_type": "stream",
          "name": "stderr",
          "text": [
            "/usr/local/lib/python3.10/dist-packages/transformers/generation/utils.py:1353: UserWarning: Using `max_length`'s default (448) to control the generation length. This behaviour is deprecated and will be removed from the config in v5 of Transformers -- we recommend using `max_new_tokens` to control the maximum length of the generation.\n",
            "  warnings.warn(\n"
          ]
        },
        {
          "output_type": "stream",
          "name": "stdout",
          "text": [
            "For Audio Segment 72.mp3\n",
            "যদিস নলেজ চেইন্স তাপা স্যাপসন অধ্যাকে সাটার লয়ের ক্ষেত্রে। যদি আমরা জানিত কেউ একটি হোস্ট। একজন সত্যিকারের গ্র্যামেডিউস কাউজ করেছেন হিজ বিনেকইউজ আজ সামবটি কিউজ হান।\n",
            "\n",
            "Detected language: bn\n"
          ]
        },
        {
          "output_type": "stream",
          "name": "stderr",
          "text": [
            "/usr/local/lib/python3.10/dist-packages/transformers/generation/utils.py:1353: UserWarning: Using `max_length`'s default (448) to control the generation length. This behaviour is deprecated and will be removed from the config in v5 of Transformers -- we recommend using `max_new_tokens` to control the maximum length of the generation.\n",
            "  warnings.warn(\n"
          ]
        },
        {
          "output_type": "stream",
          "name": "stdout",
          "text": [
            "For Audio Segment 73.mp3\n",
            "যেভাবেই হোক জাজকে কানভেন্স করা যদি নিজের করা না থাকে এই কানভেন্স এই এই জাজ সামানে সবই এত থাকে যেভাবেই হোক জাজকে কানভেন্স করা যদি নিজের ক্ষণকা না থাকে অ্যাকটিভিলি সিকআউট সামমান হুকেন কানভেন্স এই জাজ সিনিয়ার হোক জাজকে কানভেন্স এই\n",
            "\n",
            "Detected language: bn\n"
          ]
        },
        {
          "output_type": "stream",
          "name": "stderr",
          "text": [
            "/usr/local/lib/python3.10/dist-packages/transformers/generation/utils.py:1353: UserWarning: Using `max_length`'s default (448) to control the generation length. This behaviour is deprecated and will be removed from the config in v5 of Transformers -- we recommend using `max_new_tokens` to control the maximum length of the generation.\n",
            "  warnings.warn(\n"
          ]
        },
        {
          "output_type": "stream",
          "name": "stdout",
          "text": [
            "For Audio Segment 74.mp3\n",
            "জুনিয়ার হোক যেই হোক নাগানে যেখান থেকি হোক নাগানের পুরো অ্যাকটিভ রোলেতে আমরা ফুল মুডেতে যাই যে হেলিক করতেন। এবার যাকাই জানি যেকে অভিছু করেছে এবং সে অ্যাকিউজড অ্যাকচেরি। আমরা সেটা অবশ্যই ডিসই পোলিনালককে পিকিবিট্রু আজ।\n",
            "\n",
            "Detected language: bn\n"
          ]
        },
        {
          "output_type": "stream",
          "name": "stderr",
          "text": [
            "/usr/local/lib/python3.10/dist-packages/transformers/generation/utils.py:1353: UserWarning: Using `max_length`'s default (448) to control the generation length. This behaviour is deprecated and will be removed from the config in v5 of Transformers -- we recommend using `max_new_tokens` to control the maximum length of the generation.\n",
            "  warnings.warn(\n"
          ]
        },
        {
          "output_type": "stream",
          "name": "stdout",
          "text": [
            "For Audio Segment 75.mp3\n",
            "যেহেতু আমরা জানি যেহেছে বিন নো ওয়াট লোকস মে একটি কোন কোন থাকা সেগুলিক আটেনি কোষ্ট প্রান্টের জানাটি তাকে যাকারা পারা যে পাচানে। যেহেতু আমরা জানি যেও করেছে বি নো ওয়াট লোককস মে একসিস্ট। কোন কোন থাকা সেগরামের ইকোসে। অ্যাট অ্যা�\n",
            "\n",
            "Detected language: bn\n"
          ]
        },
        {
          "output_type": "stream",
          "name": "stderr",
          "text": [
            "/usr/local/lib/python3.10/dist-packages/transformers/generation/utils.py:1353: UserWarning: Using `max_length`'s default (448) to control the generation length. This behaviour is deprecated and will be removed from the config in v5 of Transformers -- we recommend using `max_new_tokens` to control the maximum length of the generation.\n",
            "  warnings.warn(\n"
          ]
        },
        {
          "output_type": "stream",
          "name": "stdout",
          "text": [
            "For Audio Segment 76.mp3\n",
            "আমাদের পারস্পেক্টি বা আমাদের পার্সেপশন তার প্রতিকী সেটা আমরা যজ নয় ফ্যাকট আইন সার্কাম সেন্সের উপর যথসাহেব যা জাজমেন্ট দেবে সেটা তা জাসটিসার। এতেই আমাদের কাজ প্রফেশনারি যেহেতু শুধু এটাকে ডিল করা আমরা প্রফেশনারি ওইটু কুইতে।\n",
            "\n",
            "Detected language: bn\n"
          ]
        },
        {
          "output_type": "stream",
          "name": "stderr",
          "text": [
            "/usr/local/lib/python3.10/dist-packages/transformers/generation/utils.py:1353: UserWarning: Using `max_length`'s default (448) to control the generation length. This behaviour is deprecated and will be removed from the config in v5 of Transformers -- we recommend using `max_new_tokens` to control the maximum length of the generation.\n",
            "  warnings.warn(\n"
          ]
        },
        {
          "output_type": "stream",
          "name": "stdout",
          "text": [
            "For Audio Segment 77.mp3\n",
            "চেষ্টা করি যদি এর মাঝখান থেকে পারা যায় তাকে যদি কিছু ভার জ্যাস্টিস করান। ধরনা হয়ত কিছু ক্ষেত্রে ডাওরি বা মুভব পেটানার মামলে আমরা অধরটাও আগিউ করিনা অ্যামাউন্ড অফ মেন্ডেনেস করানো। যানা তার ওয়াইফের প্রতি তার চার।\n",
            "\n",
            "Detected language: bn\n"
          ]
        },
        {
          "output_type": "stream",
          "name": "stderr",
          "text": [
            "/usr/local/lib/python3.10/dist-packages/transformers/generation/utils.py:1353: UserWarning: Using `max_length`'s default (448) to control the generation length. This behaviour is deprecated and will be removed from the config in v5 of Transformers -- we recommend using `max_new_tokens` to control the maximum length of the generation.\n",
            "  warnings.warn(\n"
          ]
        },
        {
          "output_type": "stream",
          "name": "stdout",
          "text": [
            "For Audio Segment 78.mp3\n",
            "যে অবাং ডেটা দিচের মেন্টানের ভার্ক অবসরই আমরা চেষতারগরি তাকে জিল থেকে আটকান্যর জন্য তাকে ভাসিতে যাওয়ার করে নামাদের। যখন এই সব জায়গার নিজেদা প্রস্নার গাইলুজ থাকে একদিন প্রফেশনার একটার জায়গার থাকে।\n",
            "\n",
            "Detected language: bn\n"
          ]
        },
        {
          "output_type": "stream",
          "name": "stderr",
          "text": [
            "/usr/local/lib/python3.10/dist-packages/transformers/generation/utils.py:1353: UserWarning: Using `max_length`'s default (448) to control the generation length. This behaviour is deprecated and will be removed from the config in v5 of Transformers -- we recommend using `max_new_tokens` to control the maximum length of the generation.\n",
            "  warnings.warn(\n"
          ]
        },
        {
          "output_type": "stream",
          "name": "stdout",
          "text": [
            "For Audio Segment 79.mp3\n",
            "এই জয়গার তখন ডিস্টেস হয়ে যায় তখন এটা লয়ের ক্ষেত্রে সিজিনিস টাকে ডিল করা কি রকম যাবে যাবে থাকে। ভালের একটি একটি প্রথম থাকে যাকে যখন নাগালের তৈরী করা হয়েছে সিলিবাজ থেকে সুরকুরণ, কোর্সপার থেকে সুরকুরণ আর ট্র্যাক্টিকালেই।\n",
            "\n",
            "Detected language: bn\n"
          ]
        },
        {
          "output_type": "stream",
          "name": "stderr",
          "text": [
            "/usr/local/lib/python3.10/dist-packages/transformers/generation/utils.py:1353: UserWarning: Using `max_length`'s default (448) to control the generation length. This behaviour is deprecated and will be removed from the config in v5 of Transformers -- we recommend using `max_new_tokens` to control the maximum length of the generation.\n",
            "  warnings.warn(\n"
          ]
        },
        {
          "output_type": "stream",
          "name": "stdout",
          "text": [
            "For Audio Segment 80.mp3\n",
            "সুপ্রামন্ত্র এই করামে ছিল এই পয়েন্টগুলো নির্দি করাতেন যে এই থিকসার লিয়ালিটির সাথে একা লয়ের যে প্রফেশনালিজম সবথেকে বড় ম্যাটার করে। অনেছ অবার আগে আছে যে প্রিবিলিজ ম্যাটাজনোস। অ্যাকিউজ যদি একটিরেজি সাথাই করেছে করেছে।\n",
            "\n",
            "Detected language: bn\n"
          ]
        },
        {
          "output_type": "stream",
          "name": "stderr",
          "text": [
            "/usr/local/lib/python3.10/dist-packages/transformers/generation/utils.py:1353: UserWarning: Using `max_length`'s default (448) to control the generation length. This behaviour is deprecated and will be removed from the config in v5 of Transformers -- we recommend using `max_new_tokens` to control the maximum length of the generation.\n",
            "  warnings.warn(\n"
          ]
        },
        {
          "output_type": "stream",
          "name": "stdout",
          "text": [
            "For Audio Segment 81.mp3\n",
            "অফলেন্ডার হয়েও থাকে, মিকেনার ডিসক্টোস দ্বু এমিওয়ান নর্ডিম্যান্ড ও ইউইয়র ১৯ আমিলিমেমের। তো আমাদের পয়েন্টা গর্ভাবেই তৈরি করাত হয় যে তোমার যাই ভবনের জন্য ইউন্ড নর্দিজাজ। তোমার কাজের ফ্যাক্ট অ্যান লো যা আর সেটাকে সেটাকে কর�\n",
            "\n",
            "Detected language: bn\n"
          ]
        },
        {
          "output_type": "stream",
          "name": "stderr",
          "text": [
            "/usr/local/lib/python3.10/dist-packages/transformers/generation/utils.py:1353: UserWarning: Using `max_length`'s default (448) to control the generation length. This behaviour is deprecated and will be removed from the config in v5 of Transformers -- we recommend using `max_new_tokens` to control the maximum length of the generation.\n",
            "  warnings.warn(\n"
          ]
        },
        {
          "output_type": "stream",
          "name": "stdout",
          "text": [
            "For Audio Segment 82.mp3\n",
            "মানুষ খুন করা ইজানে অফেন্সি যা মার সবাই আমরা যান কোন সার্কানসেন্সিত অফেন্সিক। আমি জানিল ওকটা খুন করেছে কিন্তু সে কি একজনি খুন করেছে দায়ে পড়ে নাকি সেই কোল্ড ব্লার্ডের মারার। সিক্লামার্টার করে প্রত্যেকটা ক্ষেত্রে।\n",
            "\n",
            "Detected language: bn\n"
          ]
        },
        {
          "output_type": "stream",
          "name": "stderr",
          "text": [
            "/usr/local/lib/python3.10/dist-packages/transformers/generation/utils.py:1353: UserWarning: Using `max_length`'s default (448) to control the generation length. This behaviour is deprecated and will be removed from the config in v5 of Transformers -- we recommend using `max_new_tokens` to control the maximum length of the generation.\n",
            "  warnings.warn(\n"
          ]
        },
        {
          "output_type": "stream",
          "name": "stdout",
          "text": [
            "For Audio Segment 83.mp3\n",
            "আমাদের ভাগ্য ভালো যে ওষ্টিম বাংলায়াতেই ইউনিহুত্ত ঐ রকম ধরনের ম্যাটর আসেন আমাদের ক্যাথে এতটা বেশি দিলেমাদের ভরতে হবে। কোলগাত শহরের খেতে গ্রুপিক ওইসাইডের করেকে করেকে করেকে করেকে করেকে ভিকাম আসহ জুপি বা ওইসাইইডের করেকে করেক\n",
            "\n",
            "Detected language: bn\n"
          ]
        },
        {
          "output_type": "stream",
          "name": "stderr",
          "text": [
            "/usr/local/lib/python3.10/dist-packages/transformers/generation/utils.py:1353: UserWarning: Using `max_length`'s default (448) to control the generation length. This behaviour is deprecated and will be removed from the config in v5 of Transformers -- we recommend using `max_new_tokens` to control the maximum length of the generation.\n",
            "  warnings.warn(\n"
          ]
        },
        {
          "output_type": "stream",
          "name": "stdout",
          "text": [
            "For Audio Segment 84.mp3\n",
            "এই সাপ্সান্তিক জাসরেস্টা অনেকটি অলাদা ও দিল্লাও সিস্টেন ক্রিলন জাসরেসিত দিলেলা আলাদা অনেক প্রের আনেকটি। সিম লব রসিডিয়াস ফলেও কার সাপচাইনটি জাসরেস্টির অনেকটি আলাদা উষেটা তাদের করে। এখানেতে আলাদা হবে ডিম করায় জন্মেন।\n",
            "\n",
            "Detected language: bn\n"
          ]
        },
        {
          "output_type": "stream",
          "name": "stderr",
          "text": [
            "/usr/local/lib/python3.10/dist-packages/transformers/generation/utils.py:1353: UserWarning: Using `max_length`'s default (448) to control the generation length. This behaviour is deprecated and will be removed from the config in v5 of Transformers -- we recommend using `max_new_tokens` to control the maximum length of the generation.\n",
            "  warnings.warn(\n"
          ]
        },
        {
          "output_type": "stream",
          "name": "stdout",
          "text": [
            "For Audio Segment 85.mp3\n",
            "হাওডিগুই জেনারেলি নিলবাদগুলোকে নেওয়ার জন্য কোনও দিকসরা থর দিকদের ভাইতর আমাক ক্ষেত্রেও। হাওডিগুই জেনারেলি নিলবাদসের স্কাল থেকে অফিসে যতক্ষ নাচির আচির বাড়িগীর গীর্গিত দেখে।\n",
            "\n",
            "Detected language: ne\n"
          ]
        },
        {
          "output_type": "stream",
          "name": "stderr",
          "text": [
            "/usr/local/lib/python3.10/dist-packages/transformers/generation/utils.py:1353: UserWarning: Using `max_length`'s default (448) to control the generation length. This behaviour is deprecated and will be removed from the config in v5 of Transformers -- we recommend using `max_new_tokens` to control the maximum length of the generation.\n",
            "  warnings.warn(\n"
          ]
        },
        {
          "output_type": "stream",
          "name": "stdout",
          "text": [
            "For Audio Segment 86.mp3\n",
            "আমন কখনও কোনও হয় যে জিনিস্তা ভোলা গেলো না এন তেন ক্ষেডেন্সম।\n",
            "\n",
            "Detected language: hi\n"
          ]
        },
        {
          "output_type": "stream",
          "name": "stderr",
          "text": [
            "/usr/local/lib/python3.10/dist-packages/transformers/generation/utils.py:1353: UserWarning: Using `max_length`'s default (448) to control the generation length. This behaviour is deprecated and will be removed from the config in v5 of Transformers -- we recommend using `max_new_tokens` to control the maximum length of the generation.\n",
            "  warnings.warn(\n"
          ]
        },
        {
          "output_type": "stream",
          "name": "stdout",
          "text": [
            "For Audio Segment 87.mp3\n",
            "হাউ হাউ ইজ দ্যাঁট কি রকম কি হার\n",
            "\n",
            "Detected language: bn\n"
          ]
        },
        {
          "output_type": "stream",
          "name": "stderr",
          "text": [
            "/usr/local/lib/python3.10/dist-packages/transformers/generation/utils.py:1353: UserWarning: Using `max_length`'s default (448) to control the generation length. This behaviour is deprecated and will be removed from the config in v5 of Transformers -- we recommend using `max_new_tokens` to control the maximum length of the generation.\n",
            "  warnings.warn(\n"
          ]
        },
        {
          "output_type": "stream",
          "name": "stdout",
          "text": [
            "For Audio Segment 88.mp3\n",
            "ডাজমে বিকান সাথিং এক্সামশনার যে থেকে যাবে বছরের পর বছরে হার্ন করবে। হ্যান যদি কোনও বিলিংলি কোনও ইনোসেইন্ট হয়ত যদি জেলে যায় আমার ইয়েতে এবং আন্দুজ্জ করলাম না ইচ্ছা করে সেক্ষেত্রে হয়ত হন।\n",
            "\n",
            "Detected language: bn\n"
          ]
        },
        {
          "output_type": "stream",
          "name": "stderr",
          "text": [
            "/usr/local/lib/python3.10/dist-packages/transformers/generation/utils.py:1353: UserWarning: Using `max_length`'s default (448) to control the generation length. This behaviour is deprecated and will be removed from the config in v5 of Transformers -- we recommend using `max_new_tokens` to control the maximum length of the generation.\n",
            "  warnings.warn(\n"
          ]
        },
        {
          "output_type": "stream",
          "name": "stdout",
          "text": [
            "For Audio Segment 89.mp3\n",
            "ইফাই গিবাই বেশ তারপরেও কিছু না হয় আমার হাতে না থাকে আই হ্যান্ডিড ওভার প্রসাম্মান এলস লাইক হাইকোর্টস প্রিম কোর্ট প্যানা শেখানে থাকেছে। আমি আমার পারটা করেছে। অনিফায়াম কনফিরেন্ডি আমি আমার পুরোটা করেছে দেন লেছে।\n",
            "\n",
            "Detected language: en\n",
            "For Audio Segment 90.mp3\n",
            " Okay sir, what is your attitude or perception over the social, was the perception jai social world ar vapare, was that affected by your profession? How is your attitude to\n",
            "\n",
            "Detected language: hi\n"
          ]
        },
        {
          "output_type": "stream",
          "name": "stderr",
          "text": [
            "/usr/local/lib/python3.10/dist-packages/transformers/generation/utils.py:1353: UserWarning: Using `max_length`'s default (448) to control the generation length. This behaviour is deprecated and will be removed from the config in v5 of Transformers -- we recommend using `max_new_tokens` to control the maximum length of the generation.\n",
            "  warnings.warn(\n"
          ]
        },
        {
          "output_type": "stream",
          "name": "stdout",
          "text": [
            "For Audio Segment 91.mp3\n",
            "প্রথাপশিন টুয়ার্স সোসেল ওর্ড অ্যাফেক্টেড বাইয়র প্রফেশার।\n",
            "\n",
            "Detected language: bn\n"
          ]
        },
        {
          "output_type": "stream",
          "name": "stderr",
          "text": [
            "/usr/local/lib/python3.10/dist-packages/transformers/generation/utils.py:1353: UserWarning: Using `max_length`'s default (448) to control the generation length. This behaviour is deprecated and will be removed from the config in v5 of Transformers -- we recommend using `max_new_tokens` to control the maximum length of the generation.\n",
            "  warnings.warn(\n"
          ]
        },
        {
          "output_type": "stream",
          "name": "stdout",
          "text": [
            "For Audio Segment 92.mp3\n",
            "কুজে কুজে কুজে বলতে কার। ডেই সেট যে সোশিয়াল বল্ডে প্রত্যক্তার মানুষের তাই কেউ ডারেকরি পুরোটা তা রিবিল করে না কিছুটা বলে এর সমস্যা হচ্ছে যে তাঁর জিজিস্টা বলে আর জিজিস্টা আন্ন সুহিংসেই খানেতে মুঠামুকে একে ধরো।\n",
            "\n",
            "Detected language: bn\n"
          ]
        },
        {
          "output_type": "stream",
          "name": "stderr",
          "text": [
            "/usr/local/lib/python3.10/dist-packages/transformers/generation/utils.py:1353: UserWarning: Using `max_length`'s default (448) to control the generation length. This behaviour is deprecated and will be removed from the config in v5 of Transformers -- we recommend using `max_new_tokens` to control the maximum length of the generation.\n",
            "  warnings.warn(\n"
          ]
        },
        {
          "output_type": "stream",
          "name": "stdout",
          "text": [
            "For Audio Segment 93.mp3\n",
            "লোকজনের ওপর বিশ্বাসরা প্রথম থাকে না, ইতেলা একটি ও এসেই বলে যেহাই তুমি আর বল জানা তোমার জনের করে দিতে বা রিবা আকমার দরকার হলে বলে তামি এনে দেবো ছোট ছোট জিনিস হলো। বিশ্বাসরা না, যনি তুমি আদও আন বেকে না, কেনা নামরা যানি যে তোমার বলবে তু\n",
            "\n",
            "Detected language: bn\n"
          ]
        },
        {
          "output_type": "stream",
          "name": "stderr",
          "text": [
            "/usr/local/lib/python3.10/dist-packages/transformers/generation/utils.py:1353: UserWarning: Using `max_length`'s default (448) to control the generation length. This behaviour is deprecated and will be removed from the config in v5 of Transformers -- we recommend using `max_new_tokens` to control the maximum length of the generation.\n",
            "  warnings.warn(\n"
          ]
        },
        {
          "output_type": "stream",
          "name": "stdout",
          "text": [
            "For Audio Segment 94.mp3\n",
            "যাদিন করে হলেন দাদা মনেনি আপনি পরে দিকছি। এই রঙ ছোট ছোট একটা অ্যাসপ্রেক্ষিকে বন্ধু হোক, বাড়ির লোকজনি হোক বা যেখানে হিয়ে থাকোক কিছু কিছু জায়গের থাকেই যে নাই অর্ষাটা থাকেন এক করে। আমি হতে যাকে চিনি না জাই না বাবহেন।\n",
            "\n",
            "Detected language: bn\n"
          ]
        },
        {
          "output_type": "stream",
          "name": "stderr",
          "text": [
            "/usr/local/lib/python3.10/dist-packages/transformers/generation/utils.py:1353: UserWarning: Using `max_length`'s default (448) to control the generation length. This behaviour is deprecated and will be removed from the config in v5 of Transformers -- we recommend using `max_new_tokens` to control the maximum length of the generation.\n",
            "  warnings.warn(\n"
          ]
        },
        {
          "output_type": "stream",
          "name": "stdout",
          "text": [
            "For Audio Segment 95.mp3\n",
            "আমি হাতু মনে করলা নেটা সার্টিন ক্যারেক্টার বা ক্যারেক্টার টাইকটা কথো পরেদিন দেখোষে ভুগলে গেছে। এটা এই থাকে গ্রেগুলারের সমস্যা যি তুমি কাকে বিশ্বাস করবে আর কার ওপরে তুমি বসাকরে কারে।\n",
            "\n",
            "Detected language: bn\n"
          ]
        },
        {
          "output_type": "stream",
          "name": "stderr",
          "text": [
            "/usr/local/lib/python3.10/dist-packages/transformers/generation/utils.py:1353: UserWarning: Using `max_length`'s default (448) to control the generation length. This behaviour is deprecated and will be removed from the config in v5 of Transformers -- we recommend using `max_new_tokens` to control the maximum length of the generation.\n",
            "  warnings.warn(\n"
          ]
        },
        {
          "output_type": "stream",
          "name": "stdout",
          "text": [
            "For Audio Segment 96.mp3\n",
            "সোশান লাইফটা ভর্সা দিবের কি লাইফতো ও ওর্কলাইফ মধ্যে পর্ব ক্ষণটা ম্যাটার করে তিমার প্রাসান লাইফটা এফেক্ট বর্ষে অনেকটা এই সুটা একটা বড় হয়ে।\n",
            "\n",
            "Detected language: bn\n"
          ]
        },
        {
          "output_type": "stream",
          "name": "stderr",
          "text": [
            "/usr/local/lib/python3.10/dist-packages/transformers/generation/utils.py:1353: UserWarning: Using `max_length`'s default (448) to control the generation length. This behaviour is deprecated and will be removed from the config in v5 of Transformers -- we recommend using `max_new_tokens` to control the maximum length of the generation.\n",
            "  warnings.warn(\n"
          ]
        },
        {
          "output_type": "stream",
          "name": "stdout",
          "text": [
            "For Audio Segment 97.mp3\n",
            "তবে আমি কুবেটটা সোশেলিয়া একটি মানুষ নিয়ে খুবই ইন্টোবার টাইপের মানুষ তো লোকজনের সাথে অতোটা আওয়ামার গিয়ে থাকে নিয়ে প্রার ঐতন্য ট্রাসকিসুটা অনেক বেশি এতে থাকে। লোকজন কিবোলছে আর কিয়ে। নানা লোকজন যতার শো করে একচলিতারা সরাও নয়।\n",
            "\n",
            "Detected language: bn\n"
          ]
        },
        {
          "output_type": "stream",
          "name": "stderr",
          "text": [
            "/usr/local/lib/python3.10/dist-packages/transformers/generation/utils.py:1353: UserWarning: Using `max_length`'s default (448) to control the generation length. This behaviour is deprecated and will be removed from the config in v5 of Transformers -- we recommend using `max_new_tokens` to control the maximum length of the generation.\n",
            "  warnings.warn(\n"
          ]
        },
        {
          "output_type": "stream",
          "name": "stdout",
          "text": [
            "For Audio Segment 98.mp3\n",
            "সে আপনা গগ লাইফ আর প্রফেশারেন লাইফ কিংব ইন্টারপ্রেশনের লেশিনসিং এই ব্যালেন্সটা স্ট্যাবলিস করতে ইজিনিসটা মেন্টেন করতে কিছি সংস্থা সঙ্গীন হতায় কীভাবে ডিল করেন ছিকিকে।\n",
            "\n",
            "Detected language: bn\n"
          ]
        },
        {
          "output_type": "stream",
          "name": "stderr",
          "text": [
            "/usr/local/lib/python3.10/dist-packages/transformers/generation/utils.py:1353: UserWarning: Using `max_length`'s default (448) to control the generation length. This behaviour is deprecated and will be removed from the config in v5 of Transformers -- we recommend using `max_new_tokens` to control the maximum length of the generation.\n",
            "  warnings.warn(\n"
          ]
        },
        {
          "output_type": "stream",
          "name": "stdout",
          "text": [
            "For Audio Segment 99.mp3\n",
            "এই প্রথম যাপস প্রেন্সকেলস যেই আমি এগরাও ফলো করু তাতে প্রথম সমাসের যে করে করে করে করে করে করে করে করে করে করে করে করে করে করে করে করে করে করে করে করে করে করে করে করে করে করে করে করে করে করে করে করে করে করে করে করে করে করে কর\n",
            "\n",
            "Detected language: bn\n"
          ]
        },
        {
          "output_type": "stream",
          "name": "stderr",
          "text": [
            "/usr/local/lib/python3.10/dist-packages/transformers/generation/utils.py:1353: UserWarning: Using `max_length`'s default (448) to control the generation length. This behaviour is deprecated and will be removed from the config in v5 of Transformers -- we recommend using `max_new_tokens` to control the maximum length of the generation.\n",
            "  warnings.warn(\n"
          ]
        },
        {
          "output_type": "stream",
          "name": "stdout",
          "text": [
            "For Audio Segment 100.mp3\n",
            "প্রচুর কাজ রাত্ত্বের বারটার পর একটার পর মাঝরের যখন তখন ২৪ ভান্ডার। আওয়ার ইটি ছিল ওয়ার ক্লাইভ পাসার্ন লাইফ আপ করার জন্য এরা সার্টিন টাইমের পর আমি আর কাজে থাকে। এসরার প্রথম অবশ্যালে প্রচুর ক্লায়েন সার্থেই যারা সমস্যা হয়ে রাত্তে �\n",
            "\n",
            "Detected language: bn\n"
          ]
        },
        {
          "output_type": "stream",
          "name": "stderr",
          "text": [
            "/usr/local/lib/python3.10/dist-packages/transformers/generation/utils.py:1353: UserWarning: Using `max_length`'s default (448) to control the generation length. This behaviour is deprecated and will be removed from the config in v5 of Transformers -- we recommend using `max_new_tokens` to control the maximum length of the generation.\n",
            "  warnings.warn(\n"
          ]
        },
        {
          "output_type": "stream",
          "name": "stdout",
          "text": [
            "For Audio Segment 101.mp3\n",
            "সেকেতর আমি অন্য কাউকে দিয়ে হ্যান্ডওকার করেছেন যে দেখা করেছেন যানা আমি নিজের পাসনই যেতাগ্রহ এথস মাইন প্রিমসভাল যে আমি উইটাইম রামান বাড়িতে দিচেক বাড়িক লোকজন যারা হয়েছে তাদের কেতেজিকে না এই কাজুনেন করছি তাদের জন্য আরে।\n",
            "\n",
            "Detected language: bn\n"
          ]
        },
        {
          "output_type": "stream",
          "name": "stderr",
          "text": [
            "/usr/local/lib/python3.10/dist-packages/transformers/generation/utils.py:1353: UserWarning: Using `max_length`'s default (448) to control the generation length. This behaviour is deprecated and will be removed from the config in v5 of Transformers -- we recommend using `max_new_tokens` to control the maximum length of the generation.\n",
            "  warnings.warn(\n"
          ]
        },
        {
          "output_type": "stream",
          "name": "stdout",
          "text": [
            "For Audio Segment 102.mp3\n",
            "যে টাকা আসবে ভারিতেই যা রামান জেপ থাকা একটি তৈটা একটি। এছাড়া থাকে যেহেতুই ভাগতা আছে। কিছু অনেক কাজী হয়ে যে ছেড়া দিকা বাইরের কাজ থাক গরুণ বা কিছু হাই ডিমার্ডিং কাজ থাকবে যিগুলো অনেক বেশি সময়ে লাগে অনেক।\n",
            "\n",
            "Detected language: bn\n"
          ]
        },
        {
          "output_type": "stream",
          "name": "stderr",
          "text": [
            "/usr/local/lib/python3.10/dist-packages/transformers/generation/utils.py:1353: UserWarning: Using `max_length`'s default (448) to control the generation length. This behaviour is deprecated and will be removed from the config in v5 of Transformers -- we recommend using `max_new_tokens` to control the maximum length of the generation.\n",
            "  warnings.warn(\n"
          ]
        },
        {
          "output_type": "stream",
          "name": "stdout",
          "text": [
            "For Audio Segment 103.mp3\n",
            "প্রশিকান্ড লাগবে। প্রশিকান্ড দিতে হয় তালে আমার অবশ্যই পাল্চনের উপর অনেকটাই হ্যাম্পার হয় পালোনার টাইনটা হ্যাম্পার হয়। প্রশিকান্ড আমি কিছুই জিনিস থাকিতে হেনামে অবয়েড করে এক যাকরে। ঐ ব্যাল্সা মেন্ডিন করার চল। আরকাছেই ব্যালে��\n",
            "\n",
            "Detected language: bn\n"
          ]
        },
        {
          "output_type": "stream",
          "name": "stderr",
          "text": [
            "/usr/local/lib/python3.10/dist-packages/transformers/generation/utils.py:1353: UserWarning: Using `max_length`'s default (448) to control the generation length. This behaviour is deprecated and will be removed from the config in v5 of Transformers -- we recommend using `max_new_tokens` to control the maximum length of the generation.\n",
            "  warnings.warn(\n"
          ]
        },
        {
          "output_type": "stream",
          "name": "stdout",
          "text": [
            "For Audio Segment 104.mp3\n",
            "খারাপ লাগে মনে হায়ে যেন করতেই বা তাম হয়ে তো।\n",
            "\n",
            "Detected language: bn\n"
          ]
        },
        {
          "output_type": "stream",
          "name": "stderr",
          "text": [
            "/usr/local/lib/python3.10/dist-packages/transformers/generation/utils.py:1353: UserWarning: Using `max_length`'s default (448) to control the generation length. This behaviour is deprecated and will be removed from the config in v5 of Transformers -- we recommend using `max_new_tokens` to control the maximum length of the generation.\n",
            "  warnings.warn(\n"
          ]
        },
        {
          "output_type": "stream",
          "name": "stdout",
          "text": [
            "For Audio Segment 105.mp3\n",
            "পরের মমেন্টে রিয়েলা স্কুটিতে সবকিছু সবসমার পাওয়া যায়। কিছু যিনি সবস আমার ছাড়াত্বা কিছু পেত্রেকে। কিছু অল-এবট ব্যাডনস। তুমি সবকিছু যদি চাওয়ার চেষ্টা করব ক্রেকে করবেই কাটির দেওয়ার। করে করে হয়েছে।\n",
            "\n",
            "Detected language: en\n",
            "For Audio Segment 106.mp3\n",
            " What are the general methods that you use for relaxation? What are your general methods? I use the Kolkpugha series.\n",
            "\n",
            "Detected language: hi\n"
          ]
        },
        {
          "output_type": "stream",
          "name": "stderr",
          "text": [
            "/usr/local/lib/python3.10/dist-packages/transformers/generation/utils.py:1353: UserWarning: Using `max_length`'s default (448) to control the generation length. This behaviour is deprecated and will be removed from the config in v5 of Transformers -- we recommend using `max_new_tokens` to control the maximum length of the generation.\n",
            "  warnings.warn(\n"
          ]
        },
        {
          "output_type": "stream",
          "name": "stdout",
          "text": [
            "For Audio Segment 107.mp3\n",
            "আপার কোনও ক্রনিকেট মেডিকেশিন আছে তোনও ক্রনিকেট ডিসোডা গ্যাস্ট্রিক রিলেটের কোনও সাবসেন ডিপেনডেন্স কিংবা ইস্কিউকেও জেনারেলি প্রসাবার্কার্কার্কার্কার্কার্কার্কার্কারেকে কেনারেকে কেনারেকে প্রসাবারে�কে কেকে�কেকে�কে\n",
            "\n",
            "Detected language: bn\n"
          ]
        },
        {
          "output_type": "stream",
          "name": "stderr",
          "text": [
            "/usr/local/lib/python3.10/dist-packages/transformers/generation/utils.py:1353: UserWarning: Using `max_length`'s default (448) to control the generation length. This behaviour is deprecated and will be removed from the config in v5 of Transformers -- we recommend using `max_new_tokens` to control the maximum length of the generation.\n",
            "  warnings.warn(\n"
          ]
        },
        {
          "output_type": "stream",
          "name": "stdout",
          "text": [
            "For Audio Segment 108.mp3\n",
            "সাপসেন্স ডিভে ডিপেন্ডেন্স কিংবা কোনও এবংর গ্যাস্টর ইন্জাস্টারের মধ্যে ক্রোনিক ডিসিজেজ আপনি বর্কস করেছে ভিনা উইকুল নেজেন। ভার্কস জেনার অসুজ থাকে ভারে এই জেজ ইলেটে ডামি প্রসেনের সাথে।\n",
            "\n",
            "Detected language: bn\n"
          ]
        },
        {
          "output_type": "stream",
          "name": "stderr",
          "text": [
            "/usr/local/lib/python3.10/dist-packages/transformers/generation/utils.py:1353: UserWarning: Using `max_length`'s default (448) to control the generation length. This behaviour is deprecated and will be removed from the config in v5 of Transformers -- we recommend using `max_new_tokens` to control the maximum length of the generation.\n",
            "  warnings.warn(\n"
          ]
        },
        {
          "output_type": "stream",
          "name": "stdout",
          "text": [
            "For Audio Segment 109.mp3\n",
            "সাজস্ট্রেন্সের ওপর একই বলেন ডিপেনডেন্সি না ডিপেনডেন্সি ওরগণে লোজন ইউজ করে যেরকম সবাই সবকাজ কিছু করে ভারে তাই ছাড়া কাজ করতে পারণাটাই কারো কিছুই একটি কিরকমে সাজস্টেন্সের খুবই কিরেজগাজি কিরেজগাজি কিরেজগাজি কিরেজগাজি কিরেজগাজি \n",
            "\n",
            "Detected language: bn\n"
          ]
        },
        {
          "output_type": "stream",
          "name": "stderr",
          "text": [
            "/usr/local/lib/python3.10/dist-packages/transformers/generation/utils.py:1353: UserWarning: Using `max_length`'s default (448) to control the generation length. This behaviour is deprecated and will be removed from the config in v5 of Transformers -- we recommend using `max_new_tokens` to control the maximum length of the generation.\n",
            "  warnings.warn(\n"
          ]
        },
        {
          "output_type": "stream",
          "name": "stdout",
          "text": [
            "For Audio Segment 110.mp3\n",
            "প্রত্যকে বেশি আমাদের লাইন্তে ইউজাই অ্যালোকোহল সবসময় সব জায়গাতেই বেশি একটি ট্রাডিশনাল একটা সাবস্টেন্স এটা সবসময় বেশি ইউজাই করা অনেক এই লোকজন ফেবারেভেল টুবার্জিস অ্যানিচ লিগাজস।\n",
            "\n",
            "Detected language: bn\n"
          ]
        },
        {
          "output_type": "stream",
          "name": "stderr",
          "text": [
            "/usr/local/lib/python3.10/dist-packages/transformers/generation/utils.py:1353: UserWarning: Using `max_length`'s default (448) to control the generation length. This behaviour is deprecated and will be removed from the config in v5 of Transformers -- we recommend using `max_new_tokens` to control the maximum length of the generation.\n",
            "  warnings.warn(\n"
          ]
        },
        {
          "output_type": "stream",
          "name": "stdout",
          "text": [
            "For Audio Segment 111.mp3\n",
            "এই ছাড়াও আমাদের যেহেতু ভারতীয় কালচার একটা আচ্ছিত শেখায়তে কেনাবিস্ত ইউস করে পিপলিউ নোমার বাববদেস কারুর রত সংস্যা হয় না যারা ইউস করে তারা নিজেদের মধ্যে থাকে বিকাজিতাটা। এছাড়া আরো প্রচিনেশা আছে বার খুক করেছে।\n",
            "\n",
            "Detected language: bn\n"
          ]
        },
        {
          "output_type": "stream",
          "name": "stderr",
          "text": [
            "/usr/local/lib/python3.10/dist-packages/transformers/generation/utils.py:1353: UserWarning: Using `max_length`'s default (448) to control the generation length. This behaviour is deprecated and will be removed from the config in v5 of Transformers -- we recommend using `max_new_tokens` to control the maximum length of the generation.\n",
            "  warnings.warn(\n"
          ]
        },
        {
          "output_type": "stream",
          "name": "stdout",
          "text": [
            "For Audio Segment 112.mp3\n",
            "ক্রম ইউজে সরাহাত খুব একশর মধ্যাহত একজন দুজন ডাইপে কার নরমাল ফোসেল লেকটার স্যাম্পেল যদি আপনি নেন তারা যে ধরনের সাবসেন্স হেবিউজ করতে পারে সইই সেই জিনিসগুলি খানাকিরি।\n",
            "\n",
            "Detected language: en\n",
            "For Audio Segment 113.mp3\n",
            " It's nothing extra. It's nothing extra. It's nothing extra. As a lawyer, do you feel that a profession, comparing profession to profession, advocacy profession, alcohol, kimbo...\n",
            "\n",
            "Detected language: bn\n"
          ]
        },
        {
          "output_type": "stream",
          "name": "stderr",
          "text": [
            "/usr/local/lib/python3.10/dist-packages/transformers/generation/utils.py:1353: UserWarning: Using `max_length`'s default (448) to control the generation length. This behaviour is deprecated and will be removed from the config in v5 of Transformers -- we recommend using `max_new_tokens` to control the maximum length of the generation.\n",
            "  warnings.warn(\n"
          ]
        },
        {
          "output_type": "stream",
          "name": "stdout",
          "text": [
            "For Audio Segment 114.mp3\n",
            "সার্স্টেন্সেস ইউজ কম্প্যাটিগ্রি বেশি কিংবা কম হয়। ইজ্জাক্ত বলতেও আর এখানের ক্ষেত্রে পশ্চিম মংলাও নয় কোলকাতা এরিয়া রাসপাষ্ট মেঙ্গ হতেই। আইটি সেক্টার ব্যাঙ্গেলরোধে যেটা কর্মে হতেই পেনেছেন।\n",
            "\n",
            " \n",
            "  So could you please describe a typical day in the life of a lawyer? এবার সত্তার প্রধান দিকে আকল্যাওয়ান করেন যে কি হওয়া করতে কি ইনতি। ইসাবেজ এই রাফর আমাদের একটা লিস থাকবো। যে এভিডি একটা মামলা আছে করতে অনেকটি সকালেতে প্রথম আমাদের ইহচ্ছে যে কোনও কম্প্রিকেশন সারাইইস করেছে। এই বড় কমলিয়েশন্স এইগুলি হয় যাজছায় ঐদিংকে বসছেন। প্রথম হাসার। যাজছায় বসবেন না মুহার্ভোয়াস আছে নফটো অ্যাটেন্ডাসে এগুলির রেগগুলির একটা থাকে। এর পরাসে লিগেল কমটিকেশন্স। আমরা হয়তো কিছু স্ট্রেডিজি প্ল্যান করয়েছে। সাবমেশনস আছে কিছু লোপয়েন্স আছে সেকুল সাবমেশন করলেন কার তারপর জানা গেল সেগুলো অ্যাক্লিকিভাবে হচ্ছে না কার কোজ দেফেন্স অফ ইন্টারপ্রেটেশন। দ্যাথার প্রভ্লেম ভিচার রাইজেস একটি মোমেন্ট পিনিট ডিসাইড সামথিক অ্যাড দিমোমেন্ট কুই � তামাদের রিসেন্ট এখানা যেকম আছে যে কর্তেতে মামলা হয় চিক্যান্সিলেশন অফ ভেলের জন্য তামার স্র্যাটিস ছিল যে ফোন নাইনডিএটি মামলা হয়েছবানে বায়েলেন্স আগেন্স দ্য বয়। তুষ সেখানে কোনও আয়োর কোনও অ্যাডবেজ কর্নো রিপোর্ট বাট। যাদশায় ক্ষারকে এদিলেন যে না যেহেতু এরা মাঙি রিকাভারির একটা জায়গা আছে তো বিধাও উপানে রিকাভারি করলে তবে ইয়াটনাকে বেল দেওয়া যায় তো এটা লিগেল কাম্বিয়েশন হঠাৎ করা হয়েছে। তো এরকম প্রত্যক্ষা মেটার প্রত্যকদিন সকালগার একটি। তো এই কামলিকেশনসগুলো প্রথমে ফাস্ট আফিজ আরাদর্শের আগে আমরা যতটা পারা যাক করেন, কোটে আসি, স্টেটস নিরেগুলির গিয়েতে মামলা হয় যে রকম হয়, দেন সেকেটা আফটা আমলের থাকে কানফেরেন্সী। এই ছাড়াও আমাদের থাকে নিজেদের চেম্বারি ওয়ার কাওয়ার সাকে উইডিস বা উইকেন্সিতে চেম্বারি ওয়ার কাওয়ার থাকে উইডিস বা উইকেন্সিতে চেম্বারি হয় সকালেই বা দুপুরে করা হয়। কোনও সিনিয়ারদের চেম্বারিতে আনাদের মিট করার। টিককাল ডিকুডি তাই চলার। আউট অফ অল দিস ওয়াট দ্য মুটিভাইট শিল অগ্রাস্ট। বইতিবালা বলতেই পার চৌক্তিগত হচ্ছে যে পয়েছাটা ম্যাটার করা অনেক বেশি। আইনেতে লোকেদের ভাবে যাহাতো উকিলতের অনেক বেশি ফিস চার্জ করা যাপার তিপিকেলি যদি কেউ একজন এই লাইনে থাকে যি ধরনের রিস্ক নেওয়া থাকে রেপুটেশনার ডিস। এখানাতে নিজেদের রেপুটেশন ডামরা একটা প্রেডস্টালে শ্যান্ড করছি এটা ব্র্যান্ড ভ্য যার উপর ম্যাজিস্ট্রেট বাজাজ বিশ্বাস করছে দেহে ফিজ কবি হেফ দেহ রেপুকেশার। এনিহন কেন গুয়ান সাবমিউট বিফর রোকর্ড, কাটক নাওয়া ভিজাই সেটাজের রেপুকেশন অরোগোড। তার পুরো নেগেটিভ অ্যাডভাস এফেক্টা আমাদের উপরান। যত স্ট্রিক্ষার হওয়া যত অ্যাডভাস কমেন্ট হওয়া সেটা আমাদের উপরান। কিছু ভাল হবে সেটা ক্লাইন্টের লাভাবে সেখানে শুধু আমাদের নামটাওই যে সাবমিশান করেছেও ইকটুকুতিই থেকে যায়। তার ববেশি  ঐ রেপুটেশন রিস্কেট জেনার্টা ফাইন্যান্সেল গেইন্স থাকি যার জন্য সেটাও এটা বিষয় মডিভিশন থাকি। এছাড়া আরিকটা থাকি যে কিভিকেলি সাধারণত সব মানুষের কেবেবলিটি নয় সূত্র করা বা টাইডোগে। যেমন অনেকি থাকে যে ধানতে জন্য কিছু মাসারি এশশি ব্যক্তাই যে একজন প্লাইন্টেশেন তারওই কিবল তার ওয়াইফের রিলেটিভিদের সাথে সমস্যারিত ফোন নাইন্টিই এটিরি মামলা বাড়তে এখানে পেস্টারেও কিছুলাই কিছেন কিছেন কিছেন কিছেন কিছেন কিছেন কিছে যে হই রিলেটিভরা নিউ সামন অফ পাওয়ার এমএলি এইয়েতু বেইল রিজেক্টরেত। ঐ কাপেল যারা ঐ মুমেন্টেদে অফেনসাভার মুমেন্টেদে ছিল না তারা এক মাসের ওপর আই বাইরেক পালিয়ে বেঁধি। তাদের এরা ছবাচরে বাচ্চা ছিল তাকে যে কেমামেন্টে অ্যারেস্টরের হাইকোর্টে দিয়ে উকিলের কাছে গেছিল সে এমন সাবমিশন করেছে হাইকোর্টো খানাদের ক্যান্সার্ক করে তাদের কে একটা কিছু দেওয়া আমনে এই রকম ধরণের আরকি যে ইয়ে থাকে লিটিকেন সা� সারাদের একটা হেলপার্ড এটা হোকেট মডিভিশন হিসাবে কাজ করেন। এছাড়া একটা থাকে যে ছাড়াও কারও লোকের থাকে যে ভাওয়ার থাকবি রেকুডেশন থাকে স্থাকে এটি তাঁই কিল বায়ানভোকের দেয়া ইয়ে থাকে স্টেটার সাকে। পুসিগুলো সম্পটা নিহেই একসাথে করে।  Okay sir, thank you. Sir what motivated you in coming in this line of now? chemical এমন কিছু গতে যায় যিভি আমি নিজের মালিক নিজেই হবো। একেই কেন কো সামথিং ফরমাইসেল নট ওর্প সামান এন্স। আমার ফ্যামিলি বলতে আমার দুই জেনারেশন আগে কিছু অ্যাডভুকেস ছিলেন, তার এডা লেগেসি ছিল তাদের কার কিছেন। তেন খানেতে আমার অ্যাডারেক্টে ছিল যে এমন একটি জিসাস এটামার আইকেন আর্ন মানি আর্ন রেসফেক ডেন হেভার টাইমফর মাইসাক। দ্যাকাও মাই বিগেজ মডিভিশন এই লাইনে আসা যায়।  Yes sir. Okay. Okay sir. Could you describe what impact does high profile cases have on criminal lawyers and how do they handle such cases, pressure of such cases? নিয়ো ডিটিস কনফিডেন্সিয়াল, ইটিস অনুলি ফর ইউসফিন একাডেমিক প্রকোসেস। নিহন, এই প্রেসারগুলো একচলিই মনে হার প্রেসার কাঠন ঐ লেভেল অফ ম্যাটার আপনি সামার্কার্ক করেছেন করেছেন করেছেন করেছেন করেছেন করেছেন করেছেন করেছেন করেছেন করেছে যখন ডিন করছেন, তো ইহা অন্ডি হবা স্রং বেইস স্রং কানিকশন্স। পার্টিকুলির যতক্ষণ না আপনার নিজের কানিকশনের উপর ভয় হচ্ছে বা কোন ডাউক হচ্ছে। তার তখন প্রেশারটা ম্যাটর করেন যাকানা ইসলাইক আর রেগলের ডি অফ লাইফ। রেগলোর ওয়ার্কডিয়া ফরাজ। এই ম্যাটরটা হয়তো মিডিয়ার কাছে বা অডিনের প্রাসেন্স কাছে মনে হতে বাড়েই সাইপ প্রফাইল ভার্ক অথিল অ্যাডি এন্ড অফ দিক ডি অ্যাটা পাওরফিড প্রাস� ইউজস কোচ্ছে কেটারা নেগেটিভ গেম করার তানুকরাই তাইই করে হিসে ফেজিকেল হোক, পলিকেল হোক কি ফাইনেশিয়ার ইতাই মিসিউজ অফ পাওর অ্যাবিউস অফ পাওর সেজে ধরানো দেরি হত। আমাদের চেষ্টা থাকে যে অবসরই আদের ক্লাইন্ডি এতুহাই প্রফাইড তাদের কাজের দ� ডেস্টিমেশন যেটা আচে বা তাদের যে ইচ্ছাটা আছে সেটা দেওয়া বা তিনি প্রসেস ক্রিমিনাল লরটার এরকমভাবেই তৈরি আমাদের এখানে যে জিনিসটা অনেকটা ডাইলুটেট হয়ে যে আপনার যদি বলতে চায় যে পানিসমেন। কজান এফেক যেটা এফেকটা যেটা আসবে এই হাইপ্রফাইল কিসগুলি যারা হ্যান্ডেল করে তাদের মিন ডার্গেটা হয় পানিসমেন্টা পুরোরটাকে সাইট না করা তারা ধরেই তাদের ইটাজে ডায়ুলিউড করে তেওয়ার পিছকা। যে হ্যাক তোকটা গুল করেছে প্রাই। ভার্সে আইনা পেই করছে তার জন্য আমাদের হিসাবটা ইংলার একলিপি পেইঙ থুদা কোর্টস, পেইঙ থুড পেনেলটিস, ফাইনস, নিজেদের পয়সা খরচ করে পুলিসকে দিচ্ছে, যাকিই দিচ্ছে, উঁকিলকে দিচে পয়সা তার লস হচ্ছে। সেটা তার লস তার এক ধর্ম পেয়েমের। এফেক্টা গ্রহণ হয় না কিছুই থাকে যেখানে মানে সত্যিই জেই লাভাবে কিছুটি থাকে যেখানে মানে সত্যিই জেই লাভাবে কিছুটি কিছুটি কিছুটি কিছুটি কিছুটি কিছেন কিছেন কিছেন কিছেন কিছেন কিছেন কিছেন কিছেন কিছেন কিছেন কিছেন কিছেন কিছেন কিছেন কি� এরাও অন্য মোমেন্টে অনেকটা বেশি এখাই করতে পারে। এরাও অন্ডিকে স্বীত থাকে এসেকিলো ডিল করবার জন্য নগর্ম নর্মাল ওয়ার্ক লাইকটিস অন্য অন্য করেকেন গেটপিজ, পার্টিজ অন্য আদিতিক। এগুগুগুগুগুগুগুগুগুগুগুগুগুগুগুগুগুগুগুগুগুগুগুগুগুগুগুগুগুগুগুগুগুগুগুগুগুগুগুগুগুগুগুগুগুগুগুগুগুগুগুগুগুগুগুগুগুগুগুগুগুগুগুগুগুগুগুগুগুগুগুগুগুগুগুগুগুগুগুগুগুগুগুগুগুগুগুগুগুগুগুগুগুগুগুগুগুগুগুগুগুগুগুগুগুগুগুগুগুগুগ সেগুলো আলাদা কার ড্যাথস প্রফেশন আছে আসান লাইফেতে ওরকম উপনোভাবে হ্যামবার পায়ানে। ও ওইফ্যাক্ট ডাসিট হাভ করে। ফেক বলতে দেখুনি লাইনে থাকতে মেন্টাল বা ইন্টাল। ইমোশনাল এফেক যদি কিছু বলতে যান, সেগুলো গ্রথম থেকে হলে ড্যাম্পেন্ট হয়ে যায়। এত ধরনের লোকজনের কাম্প্লিন্সাকে কি কিবলো কিছুটারা হুমারিকের ওপর কিছুটা ফেক্ত চলেই যায়। কুডিও ডেসক্রাইভ  For us, what common types of cases do criminal lawyers generally encounter? What type of cases do criminal lawyers encounter? Criminal cases place to place is different. Same as shop. কলকাতা শহরের ক্ষেত্রে ফাইন্যাশিয়াল হোয়াইট ফলার্ট লাইন ডু কলার্ট ক্র্যাইনশিগ্লো বেশিয়ার ভায়েলেন্ট ট্রাইক কম মানে মার্ক পিট ক্ষুণ খারাভে। ক্ষুণ খারাই মার্ডার মনে আমরা লাস্ট দুতিন বছরে পাঁচটাকি ছড়া মার্ডার ট্রাট। কমপ্যারেডিবলি শিয়ালদার্থে যদি আপনি যান লাশ পাঁচ বছর বারটা রোগবর গেছে আলিপুরে গেলে মোটামুটি ৫০৬ রোগ। রিলাডিবলি প্লেস্টুপ্লেস বিফের করে। আপনি যদি নদন শ্রীদ থেই যান রাজিলিং সাইন। তালে উপানাথে আপনার অ্যাসল্ড ভায়েলিন ক্রাইমস আর এনডিপিএস মানে নার্কোটিক্স এর মামলা বেশি থাকবে। বর্ডার এডিয়াতে যাবেন কাস্টামসের মার্কার থাকবে। তো কুর্গাদা শহরের ক্ষেত্রে পাটিকুলেরটি এই মুক্তিফি। পোট বেন্ডি ৪০৬ বেসিকেলি রিয়েল স্টেটি এই টাকা নিয়েছে, পালিয়ে গেছে, চিটিং ফর্জারির মামলা এই ধরনেরগুলো আরির সাথে একারা মুক্ত নেখন আসছে অনেক বেশিয়া মহকে সবেছে ফোন নাইঙ্গিলিটি বিভোর্স ডিভি। ভেসিরভাগ ক্ষেত্রে এগুলো তিকারের গিয়াস গানে একজন কম্প্লিন্স আছে এগুলো মাতা স্বাতাই ডায়ালামিন ট্রেন্ড আছে যে কিছু আপনার কি বলে ফলসক্লিন্সর ভুগসে। নরালে ডিবি ফোন ড্যাইটি ফোট ২৪৬ এইগুলোর ওপরইই কোলগতা সরকের বেশিরভাগ ক্রিমিলার মামলা চলছে। এইসব কিসস ডিল করতে গিয়ে কি রকমের অবস্ট্রকেল ফেস করতে হার আসিকার কি গমভাবে ডিল করতে হয়। নির্জান মামলার প্রথম ইউটি হচ্ছে প্রথম ইনিশাল স্রেপ্টারের পুলিশ কেতি সপ্তিকে বড় অবসরকার হলেছে পুলিশ ডিপেন্ট করে আপনার আইয়োকটি। এশিরভাগ ক্ষেত্রে আইয়ো বা ইন্দেস্টিকাইসবিং অফিসে যারা হয় তারা খুক আলো হয়, তারা খুক সুন্ধুর। মার্ট ভাগ্যবশতকে যুকিছু মানুষ পড়েই যায় যে দ্বারা খেলে সেটিং দ্যাটার্ক সাইট গার পুলিশের সাথে আওয়ার বৌষে সাধারণত একই ইউজডো বা কামতে নিন্ডক। পুলিশ সাধারণরা বৌষে। তারা যদি মনে করে যেহা দেরিজ সাম প্রভল্ম, তালে তারা বিলিংবি উড়ো ইন্ডিস্ট্রিয়ানটা করে দেয় এবং সেক্ষেত্রেই তারা মনে করে এবং ক্লাইন্টর ফিল করে যে যে কাম্পেনসিরিট সামপার্ন পার্ট ফ্রামবার্ডদের গেটিংয়ারেজ। সেটা দেন আসেন হচ্ছে বিলের ক্ষেত্রে বিলের ক্ষেত্রে খানেতে হয় যে হয় পুলিশ তা নিজের পাওয়ারটাকে ইউজ করে। অরেলস কোনও অ্যাডভোকের তা নিজের প্রতিশানটাকে শোপার। কাম্প্রেন যখন কোন অ্যাডভোকেটে কাম্প্রেন যখন কোন সিনিয়র অ্যাডভোকেটকে দাঁড়া করায় তো সিনিয়র অ্যাডভোকেটে পাটটাই হচ্ছে বিল অপস্থা। তার ক্যাড্ভেলেটা অথাটাই বেশি জুগিয়ারের দাঁড়ালে পালেন সেটা একটা অবস্থানেকে স্ববীপানেকে কর সাকরেও যে আপনার যদি ভেইললের জন্য না হতে হতে প্রমধিন আপনার জুনিয়াদেরকে ইউজ করলে আপনার বেইল পাওয়ার চানসকর। ওখানে একটা সিনিয়ার ইথাকবে সিনিয়ার মানি আপনার একটা ফাইন্যান্সিয়াল ইকস্টাকর। এটার জুনিয়ার যা ফিজনে সিনিয়াতার বেশিটায়। দেন থাকে জাজেজ জাজেজদেরও কিছু অ্যানিমোসিটি থাকে তারা অড্রী প্রিন্টার মাইট থাকে যে স্পেসিভিকিছু কেতে আমি বেল দেবার। উপা বেল দেব। কৃণিজান মেটারেসে বেইলটাই শক্তকে মেই ইমপর্টেন কেন এটা ইনস্টেন্ট একটা ক্রিবলো। ইনস্টিন্ড একটা অর্ডার পাবে, ট্রায়েজ চলবে পাঁচ বছর চার বছর সহজ যেটা হবে ট্রায়েজ শেষ হবে ততোজনিয়াতি ম্যাডের করে কারে কাটে এই মুমান্ডে যখন নামাটে শুরু হয়ে তেকে বেলটা ইমকট কিন্ত উঠেকেছব থেকে বড় হার্ট কৃনিকার্ড। একটা পণ্ড টাইমে আমরা শুনলাও হই আবট বিস্ক্রেপেন্সি যেখানে পুলিশ এর গোপারেশন নির্বালিক যেহুতু অন্ধ আদোসাইট অবধেছেন। অনেতর্য অন্য ডিরেকটিভ সুলিশ রয়েজ দিনই কাজ গুচি। কোনিজেদের ইক্সাম্পেস করে ইনসিডেন ধরে একটু বোঝানে যেত্রদের কি রকমের এই প্রবেলমসগুলো ফিস কর্থাবেথার পুস্তকর সুবিত হত।  Thank you. উইখাই আমরা ইমিদ সেন্সর করে মিনিজের অধিমাটিক করেছেন কোগের কনকাতা এরা মোড়ো এরা কিছু হয়েছিল এসালক কর্কাতার করেছেন, কোগের তাতে কিছু পুলিস অফিসেজ উন্গর্ক ছিল, এছারও বাইরো কিছু উন্গর্ক ছিল। শেখানের তে যে রকমান্দের ইছিলেন, আমরা সব পার্টিদেরকী রিপ্রজাতি করেছিলেন, শেখানের উন্পর্ক বইছিল যে যারা অফিসেস যারা ইকগুল তাদেরকে তারা কোনওভাবি এক করবে না, চারবে না, বেল দেবে না, ড্যাকপাসিড ফাই। তার পরে নেই শ্রেষ ছিল। এবার এখনও দি বেল পাইন দেজ বুক যে শক্তি হয়েছিল প্রাইনার সেটা বলিনা ভারেও স্টিনভিনিকু স্টেন্ডা পররাট লাইনস।  Thank you sir. Moving to the next question. Could you describe the role of ethics and professionalism that play in legal profession? Aarida, kyaon ho bata lawyer ke impact koi?  ok they come ethics there's a fine line between illegal and unethical i'm ready to go to Beshar's do MUSIC unethical অবসৈত উচিত নয় যে আনিক্ষেল খাওয়া দরকার করু কারও কারও তারা সিটিউয়েশন সুইচ ডিমান্স যেই কখনও কখনও নিজের প্লাইন দির জন্য তুনে হতে পারো কারও অবসৈতামার ডিসপ্রিশনের ওপর এবং তামার ইএর ওপরে দিবারে পেকেছেন। হেভিং সেট দ্যাব। ইসলাই যে কিছি না কিছু কোই করবেন। হেভিং সেট দ্যাব। তিসলাই যে কিছি না কবি কোই ওয়ান্ড কেজ কিছু কয়েন্টে আসে যে আদা সাইট হয়তো এমনকাছে কিছু করবে করবে করবে করবে করবে করবে করবে করবে করবে করবে করবে করবে করে করে করে কর� এটা সোজাভাবে লিগেল সেন্সে কোথাও থিকে আমরা বের করতে পারছে। তো যেরকম হয় মাঝামাঝি যে আমরা জানি যাহাত মারেটটা কিছু স্টেপস হলে আমাদের ফেবারে আসবে। তো আদাসাইট ইসে মাঝান্তি হাহত সকালগে আমাদের পরেকে করেছে। আনে থিকে লবসি কার মাটমাটির লিকার, একদম ছোট সেন্সে, আমাদের নিজেদের অনেই ম্যাটরি থাকে যামলে জানি এম্যাটরি কিছুকে উক্তেপার করে, ক্লাইন্টের অনেকই আমাদেরকে বলেন যে লম্বা চালাও। আমাদের পার্টিশনের কিছু ম্যাটেজে এরা বলেই গেছে যে দশ বছর চালান, আমাক ছেলে বড় হলে টাকা পাবে ততমম কিনে নিতে পারবে অন্য পার্টা। তাজনার দশ বছর চালান, তো তার জন্য আনি থিকালিই হয় টাইম করান ও শরীর খারাপ আছে হয় তসে প্রেজেন্টার সাক্রান। প্রেজেন্ট নেই তার শরীর হারাপ বলে দেওয়া হল। রিপোর্ট আসেন কনটেক্ট করায় যায় কোনও কাবে একটা ইক্ষিয়ে দেওয়া হল। ক্রিমিলম্যান্টের যেতে তার ওরেন্ড হয়তবে এই চেতা শরীর হারাপ দেখিয়ে তার ওরেন্ড রিকল করিয়ে দেওয়া হল। তাকে ভাইসিগুলো তখনই ইউজায় বেশিরভাগ ক্ষেতরে যে হয়তাই গদমি কন্ডেতে আছে আর কিছু কোনও উপায় নির্জ করে। এছাড়া আনির্থিকেল হওয়ার জন্য কানে উকিনরা কোনদিন চায়না বা ইতে আমাদের জাইবুলের ইমেজ ক্যারি করতে বায়। এই সব ডিলি মার্চ এই থাকেল ডিলি মার্চ একমাতি ন্যাভিকেট গিয়ে একটা লয়ের একটি স্বকেল ডিলি মার্চ একটি ন্যাভিকেট করতে গিয়ে একটা লয়ের একটি স্বকেল স্বকেল একটি নেভিকেট করতে গিয়ে একটি লয়ের একটি করেছেন করেছেন করেছেন করেছেন করেছেন কর  What is the other end of the facing and become lawyer? What does he face? সিরকমভাবে, দেখন এই জিজ্জিগুলো জিজ্জিগুলো লিগিয়ে থাকে এগুলো কিছুত অ্যাডাভাদের পার্সনার লাইফে দেখ এফেক্ট থাকে একটা। যি কখনো মনে হয়েছে ঠিকা চেপই নিজের জন্য হয়তকিছে জিজ্জ প্যানকেলেট। ক্ষুব একটা এতে আমরা গ্রহণভাবে করি না কানা এই এথিক্যাল ডিলেমাসগুলা আমরা ট্রাইকো অবারেড অল্ডিটাই আমরা কোনও দিন অ্যাকটিভির ধারে কাছে যেতে চাই না। যদি কিছু থাকে জেরাও মালের কিছুদিন আগিক্ষতা কালকি আমরা কিছুটিতে আমরা কিছেন কিছেন কিছেন  তো আমরা একজন প্লাইন ডেইজ ছিলেন যে তার কিছু অর্ডার চাই বিহাইন দিসিং তিনি ভোটে অ্যাপিয়ার করে না ভেজত থেকে বেরা। তো আমরা স্ট্রেটাভাবে বিডিনাইট। যা কিন্টি উনিভোলব ইন দোজ কাইন জার থিকিছে তুই ট্রাইড অ্যাট অ্যাকটিভি হিয়ে বাট কাঁ গরীতি  তিনি হয় সেকৃতির দেন ডিভাইন করে সিটুয়েশন অপরিতীক যদি মুজের ক্লাইন্টের জন্য এবং মনহে জাস্ট্রিফার দেন মিফিলব গুড অপর্টা হচ্ছেল যদি মনহে যান জাস্ট্রিফারের তা লেডাক ইকিনটি ফিলুন থাকবে কার সিটুয়েশন করে সবসময়।  Now we would really like to know how does the knowledge that some person have actually committed the crime versus the knowledge that somebody is actually innocent but has been accused of a thing. যদিস নলেজ চেইন্স তাপা স্যাপসন অধ্যাকে সাটার লয়ের ক্ষেত্রে। যদি আমরা জানিত কেউ একটি হোস্ট। একজন সত্যিকারের গ্র্যামেডিউস কাউজ করেছেন হিজ বিনেকইউজ আজ সামবটি কিউজ হান। যেভাবেই হোক জাজকে কানভেন্স করা যদি নিজের করা না থাকে এই কানভেন্স এই এই জাজ সামানে সবই এত থাকে যেভাবেই হোক জাজকে কানভেন্স করা যদি নিজের ক্ষণকা না থাকে অ্যাকটিভিলি সিকআউট সামমান হুকেন কানভেন্স এই জাজ সিনিয়ার হোক জাজকে কানভেন্স এই জুনিয়ার হোক যেই হোক নাগানে যেখান থেকি হোক নাগানের পুরো অ্যাকটিভ রোলেতে আমরা ফুল মুডেতে যাই যে হেলিক করতেন। এবার যাকাই জানি যেকে অভিছু করেছে এবং সে অ্যাকিউজড অ্যাকচেরি। আমরা সেটা অবশ্যই ডিসই পোলিনালককে পিকিবিট্রু আজ। যেহেতু আমরা জানি যেহেছে বিন নো ওয়াট লোকস মে একটি কোন কোন থাকা সেগুলিক আটেনি কোষ্ট প্রান্টের জানাটি তাকে যাকারা পারা যে পাচানে। যেহেতু আমরা জানি যেও করেছে বি নো ওয়াট লোককস মে একসিস্ট। কোন কোন থাকা সেগরামের ইকোসে। অ্যাট অ্যা� আমাদের পারস্পেক্টি বা আমাদের পার্সেপশন তার প্রতিকী সেটা আমরা যজ নয় ফ্যাকট আইন সার্কাম সেন্সের উপর যথসাহেব যা জাজমেন্ট দেবে সেটা তা জাসটিসার। এতেই আমাদের কাজ প্রফেশনারি যেহেতু শুধু এটাকে ডিল করা আমরা প্রফেশনারি ওইটু কুইতে। চেষ্টা করি যদি এর মাঝখান থেকে পারা যায় তাকে যদি কিছু ভার জ্যাস্টিস করান। ধরনা হয়ত কিছু ক্ষেত্রে ডাওরি বা মুভব পেটানার মামলে আমরা অধরটাও আগিউ করিনা অ্যামাউন্ড অফ মেন্ডেনেস করানো। যানা তার ওয়াইফের প্রতি তার চার। যে অবাং ডেটা দিচের মেন্টানের ভার্ক অবসরই আমরা চেষতারগরি তাকে জিল থেকে আটকান্যর জন্য তাকে ভাসিতে যাওয়ার করে নামাদের। যখন এই সব জায়গার নিজেদা প্রস্নার গাইলুজ থাকে একদিন প্রফেশনার একটার জায়গার থাকে। এই জয়গার তখন ডিস্টেস হয়ে যায় তখন এটা লয়ের ক্ষেত্রে সিজিনিস টাকে ডিল করা কি রকম যাবে যাবে থাকে। ভালের একটি একটি প্রথম থাকে যাকে যখন নাগালের তৈরী করা হয়েছে সিলিবাজ থেকে সুরকুরণ, কোর্সপার থেকে সুরকুরণ আর ট্র্যাক্টিকালেই। সুপ্রামন্ত্র এই করামে ছিল এই পয়েন্টগুলো নির্দি করাতেন যে এই থিকসার লিয়ালিটির সাথে একা লয়ের যে প্রফেশনালিজম সবথেকে বড় ম্যাটার করে। অনেছ অবার আগে আছে যে প্রিবিলিজ ম্যাটাজনোস। অ্যাকিউজ যদি একটিরেজি সাথাই করেছে করেছে। অফলেন্ডার হয়েও থাকে, মিকেনার ডিসক্টোস দ্বু এমিওয়ান নর্ডিম্যান্ড ও ইউইয়র ১৯ আমিলিমেমের। তো আমাদের পয়েন্টা গর্ভাবেই তৈরি করাত হয় যে তোমার যাই ভবনের জন্য ইউন্ড নর্দিজাজ। তোমার কাজের ফ্যাক্ট অ্যান লো যা আর সেটাকে সেটাকে কর� মানুষ খুন করা ইজানে অফেন্সি যা মার সবাই আমরা যান কোন সার্কানসেন্সিত অফেন্সিক। আমি জানিল ওকটা খুন করেছে কিন্তু সে কি একজনি খুন করেছে দায়ে পড়ে নাকি সেই কোল্ড ব্লার্ডের মারার। সিক্লামার্টার করে প্রত্যেকটা ক্ষেত্রে। আমাদের ভাগ্য ভালো যে ওষ্টিম বাংলায়াতেই ইউনিহুত্ত ঐ রকম ধরনের ম্যাটর আসেন আমাদের ক্যাথে এতটা বেশি দিলেমাদের ভরতে হবে। কোলগাত শহরের খেতে গ্রুপিক ওইসাইডের করেকে করেকে করেকে করেকে করেকে ভিকাম আসহ জুপি বা ওইসাইইডের করেকে করেক এই সাপ্সান্তিক জাসরেস্টা অনেকটি অলাদা ও দিল্লাও সিস্টেন ক্রিলন জাসরেসিত দিলেলা আলাদা অনেক প্রের আনেকটি। সিম লব রসিডিয়াস ফলেও কার সাপচাইনটি জাসরেস্টির অনেকটি আলাদা উষেটা তাদের করে। এখানেতে আলাদা হবে ডিম করায় জন্মেন। হাওডিগুই জেনারেলি নিলবাদগুলোকে নেওয়ার জন্য কোনও দিকসরা থর দিকদের ভাইতর আমাক ক্ষেত্রেও। হাওডিগুই জেনারেলি নিলবাদসের স্কাল থেকে অফিসে যতক্ষ নাচির আচির বাড়িগীর গীর্গিত দেখে। আমন কখনও কোনও হয় যে জিনিস্তা ভোলা গেলো না এন তেন ক্ষেডেন্সম। হাউ হাউ ইজ দ্যাঁট কি রকম কি হার ডাজমে বিকান সাথিং এক্সামশনার যে থেকে যাবে বছরের পর বছরে হার্ন করবে। হ্যান যদি কোনও বিলিংলি কোনও ইনোসেইন্ট হয়ত যদি জেলে যায় আমার ইয়েতে এবং আন্দুজ্জ করলাম না ইচ্ছা করে সেক্ষেত্রে হয়ত হন। ইফাই গিবাই বেশ তারপরেও কিছু না হয় আমার হাতে না থাকে আই হ্যান্ডিড ওভার প্রসাম্মান এলস লাইক হাইকোর্টস প্রিম কোর্ট প্যানা শেখানে থাকেছে। আমি আমার পারটা করেছে। অনিফায়াম কনফিরেন্ডি আমি আমার পুরোটা করেছে দেন লেছে।  Okay sir, what is your attitude or perception over the social, was the perception jai social world ar vapare, was that affected by your profession? How is your attitude to প্রথাপশিন টুয়ার্স সোসেল ওর্ড অ্যাফেক্টেড বাইয়র প্রফেশার। কুজে কুজে কুজে বলতে কার। ডেই সেট যে সোশিয়াল বল্ডে প্রত্যক্তার মানুষের তাই কেউ ডারেকরি পুরোটা তা রিবিল করে না কিছুটা বলে এর সমস্যা হচ্ছে যে তাঁর জিজিস্টা বলে আর জিজিস্টা আন্ন সুহিংসেই খানেতে মুঠামুকে একে ধরো। লোকজনের ওপর বিশ্বাসরা প্রথম থাকে না, ইতেলা একটি ও এসেই বলে যেহাই তুমি আর বল জানা তোমার জনের করে দিতে বা রিবা আকমার দরকার হলে বলে তামি এনে দেবো ছোট ছোট জিনিস হলো। বিশ্বাসরা না, যনি তুমি আদও আন বেকে না, কেনা নামরা যানি যে তোমার বলবে তু যাদিন করে হলেন দাদা মনেনি আপনি পরে দিকছি। এই রঙ ছোট ছোট একটা অ্যাসপ্রেক্ষিকে বন্ধু হোক, বাড়ির লোকজনি হোক বা যেখানে হিয়ে থাকোক কিছু কিছু জায়গের থাকেই যে নাই অর্ষাটা থাকেন এক করে। আমি হতে যাকে চিনি না জাই না বাবহেন। আমি হাতু মনে করলা নেটা সার্টিন ক্যারেক্টার বা ক্যারেক্টার টাইকটা কথো পরেদিন দেখোষে ভুগলে গেছে। এটা এই থাকে গ্রেগুলারের সমস্যা যি তুমি কাকে বিশ্বাস করবে আর কার ওপরে তুমি বসাকরে কারে। সোশান লাইফটা ভর্সা দিবের কি লাইফতো ও ওর্কলাইফ মধ্যে পর্ব ক্ষণটা ম্যাটার করে তিমার প্রাসান লাইফটা এফেক্ট বর্ষে অনেকটা এই সুটা একটা বড় হয়ে। তবে আমি কুবেটটা সোশেলিয়া একটি মানুষ নিয়ে খুবই ইন্টোবার টাইপের মানুষ তো লোকজনের সাথে অতোটা আওয়ামার গিয়ে থাকে নিয়ে প্রার ঐতন্য ট্রাসকিসুটা অনেক বেশি এতে থাকে। লোকজন কিবোলছে আর কিয়ে। নানা লোকজন যতার শো করে একচলিতারা সরাও নয়। সে আপনা গগ লাইফ আর প্রফেশারেন লাইফ কিংব ইন্টারপ্রেশনের লেশিনসিং এই ব্যালেন্সটা স্ট্যাবলিস করতে ইজিনিসটা মেন্টেন করতে কিছি সংস্থা সঙ্গীন হতায় কীভাবে ডিল করেন ছিকিকে। এই প্রথম যাপস প্রেন্সকেলস যেই আমি এগরাও ফলো করু তাতে প্রথম সমাসের যে করে করে করে করে করে করে করে করে করে করে করে করে করে করে করে করে করে করে করে করে করে করে করে করে করে করে করে করে করে করে করে করে করে করে করে করে করে করে কর প্রচুর কাজ রাত্ত্বের বারটার পর একটার পর মাঝরের যখন তখন ২৪ ভান্ডার। আওয়ার ইটি ছিল ওয়ার ক্লাইভ পাসার্ন লাইফ আপ করার জন্য এরা সার্টিন টাইমের পর আমি আর কাজে থাকে। এসরার প্রথম অবশ্যালে প্রচুর ক্লায়েন সার্থেই যারা সমস্যা হয়ে রাত্তে � সেকেতর আমি অন্য কাউকে দিয়ে হ্যান্ডওকার করেছেন যে দেখা করেছেন যানা আমি নিজের পাসনই যেতাগ্রহ এথস মাইন প্রিমসভাল যে আমি উইটাইম রামান বাড়িতে দিচেক বাড়িক লোকজন যারা হয়েছে তাদের কেতেজিকে না এই কাজুনেন করছি তাদের জন্য আরে। যে টাকা আসবে ভারিতেই যা রামান জেপ থাকা একটি তৈটা একটি। এছাড়া থাকে যেহেতুই ভাগতা আছে। কিছু অনেক কাজী হয়ে যে ছেড়া দিকা বাইরের কাজ থাক গরুণ বা কিছু হাই ডিমার্ডিং কাজ থাকবে যিগুলো অনেক বেশি সময়ে লাগে অনেক। প্রশিকান্ড লাগবে। প্রশিকান্ড দিতে হয় তালে আমার অবশ্যই পাল্চনের উপর অনেকটাই হ্যাম্পার হয় পালোনার টাইনটা হ্যাম্পার হয়। প্রশিকান্ড আমি কিছুই জিনিস থাকিতে হেনামে অবয়েড করে এক যাকরে। ঐ ব্যাল্সা মেন্ডিন করার চল। আরকাছেই ব্যালে�� খারাপ লাগে মনে হায়ে যেন করতেই বা তাম হয়ে তো। পরের মমেন্টে রিয়েলা স্কুটিতে সবকিছু সবসমার পাওয়া যায়। কিছু যিনি সবস আমার ছাড়াত্বা কিছু পেত্রেকে। কিছু অল-এবট ব্যাডনস। তুমি সবকিছু যদি চাওয়ার চেষ্টা করব ক্রেকে করবেই কাটির দেওয়ার। করে করে হয়েছে।  What are the general methods that you use for relaxation? What are your general methods? I use the Kolkpugha series. আপার কোনও ক্রনিকেট মেডিকেশিন আছে তোনও ক্রনিকেট ডিসোডা গ্যাস্ট্রিক রিলেটের কোনও সাবসেন ডিপেনডেন্স কিংবা ইস্কিউকেও জেনারেলি প্রসাবার্কার্কার্কার্কার্কার্কার্কার্কারেকে কেনারেকে কেনারেকে প্রসাবারে�কে কেকে�কেকে�কে সাপসেন্স ডিভে ডিপেন্ডেন্স কিংবা কোনও এবংর গ্যাস্টর ইন্জাস্টারের মধ্যে ক্রোনিক ডিসিজেজ আপনি বর্কস করেছে ভিনা উইকুল নেজেন। ভার্কস জেনার অসুজ থাকে ভারে এই জেজ ইলেটে ডামি প্রসেনের সাথে। সাজস্ট্রেন্সের ওপর একই বলেন ডিপেনডেন্সি না ডিপেনডেন্সি ওরগণে লোজন ইউজ করে যেরকম সবাই সবকাজ কিছু করে ভারে তাই ছাড়া কাজ করতে পারণাটাই কারো কিছুই একটি কিরকমে সাজস্টেন্সের খুবই কিরেজগাজি কিরেজগাজি কিরেজগাজি কিরেজগাজি কিরেজগাজি  প্রত্যকে বেশি আমাদের লাইন্তে ইউজাই অ্যালোকোহল সবসময় সব জায়গাতেই বেশি একটি ট্রাডিশনাল একটা সাবস্টেন্স এটা সবসময় বেশি ইউজাই করা অনেক এই লোকজন ফেবারেভেল টুবার্জিস অ্যানিচ লিগাজস। এই ছাড়াও আমাদের যেহেতু ভারতীয় কালচার একটা আচ্ছিত শেখায়তে কেনাবিস্ত ইউস করে পিপলিউ নোমার বাববদেস কারুর রত সংস্যা হয় না যারা ইউস করে তারা নিজেদের মধ্যে থাকে বিকাজিতাটা। এছাড়া আরো প্রচিনেশা আছে বার খুক করেছে। ক্রম ইউজে সরাহাত খুব একশর মধ্যাহত একজন দুজন ডাইপে কার নরমাল ফোসেল লেকটার স্যাম্পেল যদি আপনি নেন তারা যে ধরনের সাবসেন্স হেবিউজ করতে পারে সইই সেই জিনিসগুলি খানাকিরি।  It's nothing extra. It's nothing extra. It's nothing extra. As a lawyer, do you feel that a profession, comparing profession to profession, advocacy profession, alcohol, kimbo... সার্স্টেন্সেস ইউজ কম্প্যাটিগ্রি বেশি কিংবা কম হয়। ইজ্জাক্ত বলতেও আর এখানের ক্ষেত্রে পশ্চিম মংলাও নয় কোলকাতা এরিয়া রাসপাষ্ট মেঙ্গ হতেই। আইটি সেক্টার ব্যাঙ্গেলরোধে যেটা কর্মে হতেই পেনেছেন। \n"
          ]
        }
      ]
    },
    {
      "cell_type": "code",
      "source": [
        "import json\n",
        "with open('result.json', 'w') as fp:\n",
        "    json.dump(all_result, fp)"
      ],
      "metadata": {
        "id": "L_7PA2tYmVRE"
      },
      "execution_count": null,
      "outputs": []
    },
    {
      "cell_type": "markdown",
      "source": [
        "#Read the Result File"
      ],
      "metadata": {
        "id": "3zedgw4Hlgny"
      }
    },
    {
      "cell_type": "code",
      "source": [
        "result_file_path = '/content/audio/result.json'\n",
        "f = open(result_file_path) \n",
        "data = json.load(f)\n",
        "\n",
        "print(f\"Keys are {data.keys()}\")"
      ],
      "metadata": {
        "colab": {
          "base_uri": "https://localhost:8080/"
        },
        "id": "88MlSgvPdw0Q",
        "outputId": "1fc3d87d-c55d-427c-f580-866596a4533e"
      },
      "execution_count": null,
      "outputs": [
        {
          "output_type": "stream",
          "name": "stdout",
          "text": [
            "Keys are dict_keys(['Advocate_1.mp3', 'Advocate_2.mp3'])\n"
          ]
        }
      ]
    },
    {
      "cell_type": "markdown",
      "source": [
        "# Transcript"
      ],
      "metadata": {
        "id": "2OK5NmJUl2Vo"
      }
    },
    {
      "cell_type": "code",
      "source": [
        "data['Advocate_1.mp3']"
      ],
      "metadata": {
        "colab": {
          "base_uri": "https://localhost:8080/",
          "height": 1000
        },
        "id": "yxkTRTCZd0Wv",
        "outputId": "d94df830-a98d-46c2-863f-e4a52f5481a6"
      },
      "execution_count": null,
      "outputs": [
        {
          "output_type": "execute_result",
          "data": {
            "text/plain": [
              "\"  Okay, so could you please describe me a typical day in the life of a lawyer and the aspects of your work that you find most rewarding in this profession.  See, for me, for any lawyer, a person comes to a lawyer, whenever he or she is in a problem, that problem can be...  Whatever it could be, the nature of the problem is different. But it can be civil in nature, it can be criminal in nature or it can be corporate in nature. So, obviously, the charge of fees is very low.  for doing our legal work. But the most rewarding part is when I give relief to a client and he comes and appreciates about, okay sir, thank you.  I was stuck with this job for a long time after coming to U.N. and got the job solved. So this is, fees is obviously, that is, you are practicing.  That is your income, that is your bread and butter. The fees, your bread and butter comes from the fees you get from your clients. But the reward is when the token of appreciation is the main reward of all. To me, I want to know about other people.  But to me, I think slightly lesser fees and more appreciation is, for me, it's a better reward than the fees.  to know about this but what do you think is the general rewarding part for general lawyers like other lawyers that you have seen the facts then you'll see that if a guru senior  There are many awards. These are the best advocate award from ZEE.  of the year from UAP Anandu and I. That is really a proud moment for me also for my fellow advocates getting re-vibrated like this. But, mostly...  these awards, these are actually gimmicks. The award, for me the award must be emotionally innocent.  The token of appreciation is, I think to me, more than a memento coming from Z or from every corner. Anyways, maybe if you get me wrong that I didn't get these awards, that's why I'm saying like...  this but someday I get the words my review will be the same that's very insightful you know true coming to that like what  It made you first so interested about pursuing this career in law. What motivates you to coming back to this field and continue working in this field day in and day out?  So, the law of the land is the constitution of India. So, constitution is ruling over all the laws. If any new law is implemented or before constitution there are many laws.  like the IPC, CPC, these laws were transformed properly. They are coming from 1800, 19th century, 20th century laws. But the Constitution came into force in the year 1950.  So according to the Constitution, whatever law is a bad law which has been enforced previously, these laws get repealed.  contrary to the constitution of India. And any new law after the constitution came forth, whatever law is getting enacted, new laws are getting enacted, new statutory laws or rules, that must  be binding to the constitution and that should not be derogatory or conferring to the constitution of India. So here comes the main part. Your main question  I am asking, answering the question, what made me keen to pursue my career in God? See, all the people of India, each and every...  All machine government, machine everything, they are bound by law. So, and law comes from the sources of law, different religion, custom, judicial precedence.  These are all our sources of Law. So, Society is regulated by Law. There are many Laws that are evil for the Society. Where for the Society? Maximum the Custody.  customary laws, religious laws, sometimes not all the laws, some parts of the legal system which needs amendment and the constitution has provisions for amendment.  So it depends on the lawyer, on advocates or lawyers to take up the problems of society to in court to the court of law. May it be high courts and...  Supreme Court has the power to make amendments to the laws. So if there is a grave issue in society, that can only be changed by law. For example, I am saying...  I'm sure you have heard about Nirbhaya case, right? Absolutely. There were many changes, many amendments in criminal law, constitutional law, after the Nirbhaya case. So, laws...  which are protective towards women, were all amended the punishments for violating a woman's modesty. That decreed the women's modesty.  of punishment has been changed. There are many amendments like section 354 to section 370 that is concerned about rape. Many amendments have been made.  assure better protection for the women in the eyes of love. So there are many instances like this. But this is the thing. Just for example, I placed this incident as many of you.  know about this incident. So, I think as a lawyer, I can help the society get better and better divided.  amendments in law or new enactments. New enactments are not in the hands of an advocate but whatever is bad in law can be changed. Whatever is not there but should have been there can come through an advocate.  and that is, that has a direct effect on the society, which is developmental in nature.  That's well understood. Could you describe of any such high impact or high profile cases that impacted the criminal life?  lawyers and how did you handle the pressure and scrutiny that is associated with these cases. Like you know the impact that high profile cases have on criminal lawyers.  what that impacts, how that impacts a lawyer.  proper reference, the case number or the name of any such persons who are associated with this case. I will tell you the incident.  This was the early years of my practice. A 21 year old girl came to me.  And she wanted me to file a case against one accused person. She lives in a...  She is a dancer and her friends and her dance group.  to practice dancing lessons in the ground floor of her house. It's a house, it's not a flat, it's a house, home house. So there was a room, I don't know where it was, I don't  or whatever, lives in a slum nearby. He needs to regularly come to near the window and moves to uplift the windows.  his Longyuan master bait, looking at them. So many a times, the girl has come from the local pool station, many a times she has come  One day, around 1 pm in the night, a friend of her came to the house and she was  came to her house and she was leaving around 1 a.m. in the night. So this girl came out to see her off. At that time this guy was there.  and pulled down the top of this girl and beat her just above the areola of the nipple area of her breasts.  Not a normal diet. He exerted enough pressure to properly make her bleed.  She came to me, I sent her to the government hospital to take out a medical. We went to the local play station. Fire launched a complaint which was later treated as an air fire. And this accused person...  This accused person doesn't come from any political background. I don't know. Maybe I'm wrong. But he's not anyone who's powerful or weak.  which leaves in a storm and he is just wandering here and there, 50's in girls, I know. I was the defector. আই অবস্ট ফর দিফার্কটি কমপ্লেনেন দ্য গোয়ালাইমার টেকমার নিয়ে নিকল্যান্ট। আই দ্য ফরস্ট ডেট অফিরেন আই স্টুট হেতমাই ফর দিফার্কটি কমপ্লেন্ট একান দ্য বিউল্ভাস রিজেক।  And there was a date given by the judge on three, four days for police custody and after three, four days of police custody, the next day it was there. On that date...  Senior Advocate standing on behalf of that accused person Who has high level political post in West Bengal  So, when I was standing for the de facto and again the bail was rejected, he called me through his PA and he said,  ask me to step down from the matter ask me whatever money I want he will give me but I should step down from the matter so if this is the scenario involved  A goon lives in a slum, is biting a 21 years old girl in her breast so badly that made her bleed. And this guy masturbating in front of the... দেন দিন দিন দিন দিন দিন দিন দিন দিন দিন দিন দিন দিন সিনিয়র অ্যাডভোকেট হাই কটিকার ইনফ্রেন্সন হিউ অসু হোলস অন্য অধ্যাপটিকার হিউ সুসু আইটন মোয়াবহ্ন হিউ সুহোলস।  powerful post in the ruling political party. So after that I didn't step down. My father is an ACP.  and he was in charge of that area's local police station. So this advocate, politician, whatever you call him, he called my dad and asked me, asked us to...  If I want to step down in starting career, it's career will get ruined. So these type of threats I have received but nonetheless I have always stuck to my point.  I fought for that, in due course of law, that person got bail. But after that, this person has still, till now, has not disturbed my client ever again. I don't know what he is doing with other people.  My client, this incident never happened. Well, first of all, thank you for so elaborately providing us the information. It was really very insightful. So, what is the problem?  What effect did this have on you man? This entire thing at the beginning of your career facing such people and such threats What impact this has had on you?  For me, it was very difficult because I know in our courts there is a very powerful influence of the political system.  political parties as there are unions everywhere. Even in lower court, there are different unions.  The problem is that I am not associated with any of these unions. And I know that if one union is against me, the opposition unions won't stand with me. Because I don't go in the rallies.  involved. I don't cast my vote for anyone. I don't attend their parties. I don't make any donations to them. Obviously there was a security threat because I live with my family, my parents, my mom.  on my dad. But most precisely I was very much worried that whether I could stand in the court of law after this and...  I can't continue my practice in that court. But I never lost faith in myself. Why was that? Because I know there will be...  members of the bar the ruling party will come in the middle of will snatch my clients or they will take steps and reject my  Bar environment. There are many threats of a lawyer in a lawyer's place in the starting ages. Is this common? No, it's not common because there are very few people who stand against corruption.  It's like, okay this is happening, this is just goes to the floor. If the powerful people are not liking this move of yours, and even they are offering you cash, take it and just let it be.  There has always been people who have always stood with whatever is right against corruption. And that's why out of all these corrupted people...  corruption in every government machinery. State is running, the country is moving. There are people, there are not one, two, there are many people actually.  standing against corruption, standing against the wrong deeds that is happening in society. And that's why the society as a structure, it's still in the run.  there is a goal.  describe for me the common type of cases that criminal lawyer typically work on. The common challenges and obstacles that they face in their cases and it would be better if you could explain us with an example.  or an incident, it would be beneficial for us to understand as we are not related to the field directly. See, normal criminal cases... Suppose...  All these cases are available. They are very less struggling getting bails in these sort of cases. But cases which have sections  The punishment of fates is more than seven months. These are hard to take care of. On these kind of matters, it is hard to take care of.  what we need to do in the end is we go through a case diary a total case and find out the loopholes of the prosecution prosecution, see এই চেনাভিক বার্সনের হিউমেন বিহান দেয়ার হিউমেন হেরাজ এভিভাগ। যেভাগর আই আম ডুয়েন হানের প্রশানে সাথ করেন। না আই না কারেন অলবেজ না অলবেজ করেন। মোহিউমেন বিহিউন হানবেজ হানবেজ করেন। তাই ওই হিউমেন হেরাজ।  in each and every step of every person's life. So in this case, we first try to find out the new foods. And as...  It is not just an actual interview I am giving. In female cases, mainly what you call setting. Setting is very important.  You need to know the setting to get your client out of it. There are various steps, various positions with whom you have to get associated.  In the previous criminal cases, a former defence lawyer has to go through this setting or jack, whatever you call it. And then, if you are an eminent lawyer, you have to go through this setting or jack, whatever you call it.  find out loopholes then generally if the lawyer can find the loophole of the lacunas of the prosecution they won't go for setting they just go for a quote and  blow their voices and get the judge, convince the judge to get his client out on bail. But when you know your client has done the misdeeds, then you have to go for the setting.  So what are the challenges that are involved in such cases? Seems very interesting.  So now, the problem is that there will be some of your clients who will not keep up to their commitment.  certain post holders who might not keep the comment. This doesn't happen every time. 20% cases keep these at... okay this will happen.  It's a, what you call, bad debt, you can call if you are doing a business. You know 20% is your bad debt and this is the same in our profession also. You know, 100% commitment. There are people who are doing business.  will fail to commit. They will commit and they will fail. So in these cases, this commitment failure can be done by your client. It can come from the...  Post holders. So, you have to balance it. How does this make you feel when such commitments are violated and sealed? In that moment,  It's not easy, okay? First, the first thing is that you get tensed. And the main thing about that moment is you should not take any decision at all.  that point of time. What I have learnt from this, previously I was like, oh, this happened, so let's go like this, because whatever good thing has happened, good thing means any positive thing. For me, getting...  or AP Stoughton bill is a positive thing. For the prosecution extending his custody is a positive thing.  First thing you need to have is a calm mind. A calm mind has the power to think. A disturbed mind. A mind which is filled with agony is not.  going to help you with any solutions. So first thing is that you need to get calm, not give any further comments to anyone at that point of time. Sit still, think and then...  Take your next move. I think decisions that are taken... Decisions that are taken...  Now, hustle is... generally it goes negative on you. কমনি ইন লিগেল ফিড নিয়র্ক পার্সনালাইফ ও গেঁপ গোছো ব্যাড প্যাচিস কাট ওই ওকানী এইগানী এক্সাইপমেন্ট।  All wrong decisions you take. So sit still, calmly think, take your time. Think and take the decision.  I think both ways. If I do this, this is my next step. This is the pose that is going to happen. These are the pons. If I take that position, the second time will be. Then this is my pons, this is my pose.  And then we have to take out from both the steps. We have to take one step, right? Plan A or Plan B.  There cannot be something in the middle. You have to take plan A or plan B. You have to think wisely. If I take plan A, the poos are 60%, cons are 40%. Plan B, poos 70%, cons 30%. Take plan B.  And if it's the opposite, then take time. It's simple. This is not about the legal field. In your personal life also, I think you should apply this. Never take...  any decisions in anxiety. Without giving any direct references. Trials can be speedy, decisions can never be speedy.  Without giving any direct references or calling out on somebody, will you be able to give us a call?  was an example where such challenges had to be faced and how this had to be dealt with obstructions that came and... See I told you about the previous case in the court and then I am...okay, shall I give...  So, there was a scam that was taking place for years and years. A person was scamming, I am not taking the name.  A person was scamming people on the name of giving jobs on aviation sectors.  They give trainings for that, they charge tuition fees or whatever you call it and they give placements. So this person, we opened three, four companies.  like Franklin and other names but it was all sham okay. He was taking money from different people.  The fee structure was not definite. If she understood that, okay, this person can give 6 lakhs, he is taking 6 lakhs, oh, this person can give 1.5 lakhs, so he is giving 1.5 lakhs. Oh, you are giving 1.5 lakhs? Okay.  There won't be a cabin here. It will be that brown stuff, brown stuff as a loader. There are different jobs in, nature of jobs in airline sector, aviation sector.  boarding pass that the people who give you the boarding pass or print the boarding pass and all that. There are many conveyors, belt rehab people. So people who  shift your luggage from the airplane after you land to the converse belt. So there are many ground jobs in aviation sector as well as cabin queue and there are many others.  So this person was taking money from people and In the case after six months of Failing we get a job  get a job there, get a job in Air India, different aviation companies. What happened is that he was doing this with thousands of people from all over India.  scam people, the scam worth is more than 5000 crores. And this person was very well connected with the ruling party, MLAMP's and other senior members of the party.  and senior members of the ruling political party. In his office he has pictures, big photographs, wall photographs of big powerful political parties.  patience of the ruling government. And what Mr.K did, he gave an appointment later, forging eritage.  years later had and gave a job to a person. It was mentioned that he will get 35,000 rupees a month and his posting was given to Bangalore. So obviously that person went.  to Bangalore to join having got the appointment letter he went to Air India and Bangalore to report. They told him that no this is not  sent to you by us. There is a forced letterhead and we have not given you any job. So, we see that there an appointment is given, a deference number is given the letterhead.  The reference number was not matching so it was understood that it was a forged apartment letter. Air India back then was not in any tie up with Tata. So it was a public service.  sector, aviation company. So this person has forced a valuable document of the central government. Thank you.  to that sham aviation company and told that he will file a case, lodge a case against the same, if the money for training is not returned. He started threatening.  I will get you more if you don't know. See, I am roaming around with this kind of people. They come to my office, I have photographs with them, and I have a very good liaison. And obviously, this person calls the political leaders in any of the countries.  all the occasions events of the aviation companies, sham aviation companies so these people got a trip this happened with more than five  out of which 200 of them mastered the courage to come to a lawyer. They came to me. I filed a case, I filed a complaint and he was doing all the transactions.  from nearby High Court areas. But his office was insolvent. But whatever transactions were made was done from High Court, not High Court, A.D.  the previous nearby high court bank should put that area. First of all the police denied the property. We had all the documents. We went to the court. We have the position of 1-2-3-6-1-2 under CRPC.  If the police station is not taking the complaint, go to the deputy commissioner of that division. If after giving the letter, within one week, no action is taken by the DC also, the deputy commissioner.  Then you can come to the code after one week and file a petition under Section 12 business positive of CRPC to move to a positive report. And the magistrate, he has the right to give an order with a given direction.  to the office of interest of the local police station to lodge an FIR. So this is how we got that FIR lodged and as there were sections of forgery, forgery of valuable document that is relating to the central government of India.  The Central Government of India's letterhead was forged. Signatures were forged. There were the sections 467, 468, 471 of Indian Penal Code, 1860. All of them were attracted.  and these sections are non-believable in nature and they are not magister tribal, they are sessions tribal in nature and the punishment for them is 10 years, that is above the surveillance.  So these are heinous crimes. So police had to arrest them. And after arrest, you understand that the police were also on the influence of the interest persons. On the.  So first they demanded for 7 days police custody query. After 7 days, they again paid for 7 days police custody query.  After one day, the accused person submitted a... filed a put-up petition before the court and they removed bail. So the CD was... the case study was called for by the court in the past.  the police station was called for. In that I.O. of that case, he had demanded 7 days PC player one day prior to this day. And on that day, he came over the PC player.  JC player, he didn't want PC. After one day, although 7 days was granted by the court, after one day he came out and said, okay I have nothing more to investigate, I don't pay for PC, you can take the decision.  Nothing is found. So after having all the whole documents, after seizing all the whole documents, some of the queries got induced by the address person.  I remember 200 clients, 500 thousand, 1500 units. So, I didn't take the money all by myself.  I talked to my fellow advocates. Then 30 of us stood against that other person. Then we wrote a, we sent emails and...  direct letters to the Commissioner of Police, Calcutta, who joined C.P. Crime, to ACP, ARS, DD section. All crime police personnel  who have the right to take up the matter from the local piers to the DD section. DD section is actually appropriate for this type of cases.  Then the judge also understood that there is something, there is some calculation between the local police and the accused person. These accused persons all don't know that.  He made someone take my phone number, put my phone number on the court, call me and drive at night and threatened, come to my house and murder all my family members.  I am blessed that I belong to a police family. My father is an ACP. I will stay in the police quarters. We have high security systems here. And there are security persons also.  So I knew that whatever threats he gives, in reality he can't do anything about it. Then this call, my automatic call recording is very much fun. So I just...  send the records through mail to CP, to Joint Civic Crime, to the police, to the ACARS DD section, and another to the Home Minister and the PMO Office. অন্ধার নেকজিল অফ দ্য কেইস রিপ্রেড ফর চেঞ্জ অফায়ু অ্যাড কোল ফর দ্য অফসার ইনিচরিত কনসার্ন ইস। বর দ্য সেম অডে।  and then the matter was taken from them and was given to, appointed to DD, DDT Reuben, Department of Larabasa.  person returned all the money. I had 200 kinds. Each and every person got their money refunded. Though it's causal, it's not just cheating. So after some days he got bail.  And after seeing this case, it was a landmark case. People from all over India came to Kolkata. This news was published in national news channels. এন দে আগেন হাইল দ্য কেস ভার্সিন গড় বেইল আপড়া টুডেস আগেন হিগর আরেস্টের অন্য স্ট্রীল নাওয়া হেজিন জুডিশিয়াল কাসেল। সো ইহাকুর থেকদাব তাঁর স্ট্যাপ ওই রেসিথ রেডস। স্থট ইজি ইজিবার থ্রেটওয়ার্ক অ্যাডভোকেট অ্যাডভোকেট আজ জিমুন পাওয়ার্স। ভিআরডিএ এলএলবি আয়ার এলএলবিগ্রী।  LLB is Bachelor in Legislation, Bachelor in Laws. So we have the right to protect the legislation and the laws for the state. So I would...  Ask all my fellow advocates, my juniors, my senior learners, senior advocates, who never ever refrain from the stand we have taken. If you have taken a stand, you have committed to a client,  Then move forward. Nothing can beat you. Be strong, be brave. Reason. How does this impact you mentally? How?  get from this. So with you, obviously this was disturbing. You know, our profession, what happens is that we are everyday going to so much.  What do you call garbage? Our mind gets filled with garbage. When you come home, your personal life gets a laugh. A huge laugh.  Because with that kind of mindset, when you are returning, first of all, when you return home, maximum persons go to sleep height. Even my family members go out. The normal routine apart from all that.  not even Sundays, Sundays we have conferences one morning, then we have to have a party, socks like, sort of things like that. So we have very less time for our personal life. But what I try to maintain is when I return home.  I just... Before entering my flat or my residence, I just put all of it outside the door.  Whatever I went through the day, all of it I put it outside the door and enter my room. Where I am a normal person, not an advocate, not dealing with this, this, that, this, the sufferings of other people.  See, it's a human mind. It's very hard to control the emotional quotient of your mind. Emotional quotient and it's very hard to difficult. It's easy to difficult to your body but it's very hard to difficult to your mind.  You keep control over your mind all the time. But I think we should make the difference, we should cut the line between our personal and professional life.  you will see that advocates, they have the most of divorce cases. You can see that most of advocates have divorce cases. This is the reason why.  Because the professional aspect is so stern in nature that follows you to your personal life and sometimes it completely destroys your brain.  So, there you should try to keep and maintain a balance between them. That is very important. So, what I do is, if I enter the door of my residence, I try to...  I keep all of it on the outside wall, outside my door and then put my feet inside. How do you do that? Seems very... See, see, first, first, it was very difficult for me.  But then you have to train your mind. You should have 10 minutes, 15 minutes for yourself in the night. You should think about what you did before you came. How you were better than yesterday.  This is not only for our mission, this is for all people to do. How are you better than us? Not economically, I am not talking about that personally. See you.  If you have degrees, if you have knowledge, people call you a very knowledgeable person, a mechanical person. Nothing is yours, okay? Even your body is not yours. This is all accumulation.  Whatever is inside your brain, it is all accumulation, it's not yours. What's yours is your soul. And if you can connect your soul to your mind, then you can...  You can do it. You will have the power to separate that power of life and your personal life whenever you enter into it. So, all the power of mind. And it needs time.  and training both. Could you describe the role that ethics and professionalism play in the legal profession? Absolutely. See, whenever you are in a legal profession, you are in a legal profession.  I don't know about other universities, I am from Papadum University. In our 10th Semester we had a paper of advocates and what we were talking about is ethics, professional ethics.  In that survey, we learned about professional ethics and there is an enactment for advocates at 1861. We have to follow all the norms and regulations and sections that is inside that enactment. There are advocate  Act and we have to follow and abide by all these rules and regulations.  Because we take oaths that we will never ever get detrimental to or contradictory to the advocates themselves to this mission ethics.  There is a subject of professional ethics in our curriculum, the law of our curriculum. So, yes, there are ethics and professional ethics actually that we have to abide by while we are practicing or we are working, whatever we are doing.  whether we are in corporate law, whatever we are into, but we have to follow these ethics, the rules, the laws, the norms that an accident should follow.  How does this impact you? Actually, this is, see, an advocate. Advocates...  receives a lot of provocations. But I think these advocates act, this binds advocates who stay in a position  is not contrary to the functional ethics. Because we are very strict if there is a misconduct or misuse of the power or anything contrary to the...  rules and acts against the professional ethics, the bar license gets cancelled. At times, you can get imprisoned for doing the same.  So, what are the most common ethical delights? \""
            ],
            "application/vnd.google.colaboratory.intrinsic+json": {
              "type": "string"
            }
          },
          "metadata": {},
          "execution_count": 126
        }
      ]
    },
    {
      "cell_type": "code",
      "source": [
        "result['Advocate_2.mp3']"
      ],
      "metadata": {
        "colab": {
          "base_uri": "https://localhost:8080/",
          "height": 1000
        },
        "id": "M4D2ZavTWL64",
        "outputId": "341e5712-4ad9-4b91-d830-011d5c1ab00d"
      },
      "execution_count": null,
      "outputs": [
        {
          "output_type": "execute_result",
          "data": {
            "text/plain": [
              "\"  So could you please describe a typical day in the life of a lawyer? এবার সত্তার প্রধান দিকে আকল্যাওয়ান করেন যে কি হওয়া করতে কি ইনতি। ইসাবেজ এই রাফর আমাদের একটা লিস থাকবো। যে এভিডি একটা মামলা আছে করতে অনেকটি সকালেতে প্রথম আমাদের ইহচ্ছে যে কোনও কম্প্রিকেশন সারাইইস করেছে। এই বড় কমলিয়েশন্স এইগুলি হয় যাজছায় ঐদিংকে বসছেন। প্রথম হাসার। যাজছায় বসবেন না মুহার্ভোয়াস আছে নফটো অ্যাটেন্ডাসে এগুলির রেগগুলির একটা থাকে। এর পরাসে লিগেল কমটিকেশন্স। আমরা হয়তো কিছু স্ট্রেডিজি প্ল্যান করয়েছে। সাবমেশনস আছে কিছু লোপয়েন্স আছে সেকুল সাবমেশন করলেন কার তারপর জানা গেল সেগুলো অ্যাক্লিকিভাবে হচ্ছে না কার কোজ দেফেন্স অফ ইন্টারপ্রেটেশন। দ্যাথার প্রভ্লেম ভিচার রাইজেস একটি মোমেন্ট পিনিট ডিসাইড সামথিক অ্যাড দিমোমেন্ট কুই � তামাদের রিসেন্ট এখানা যেকম আছে যে কর্তেতে মামলা হয় চিক্যান্সিলেশন অফ ভেলের জন্য তামার স্র্যাটিস ছিল যে ফোন নাইনডিএটি মামলা হয়েছবানে বায়েলেন্স আগেন্স দ্য বয়। তুষ সেখানে কোনও আয়োর কোনও অ্যাডবেজ কর্নো রিপোর্ট বাট। যাদশায় ক্ষারকে এদিলেন যে না যেহেতু এরা মাঙি রিকাভারির একটা জায়গা আছে তো বিধাও উপানে রিকাভারি করলে তবে ইয়াটনাকে বেল দেওয়া যায় তো এটা লিগেল কাম্বিয়েশন হঠাৎ করা হয়েছে। তো এরকম প্রত্যক্ষা মেটার প্রত্যকদিন সকালগার একটি। তো এই কামলিকেশনসগুলো প্রথমে ফাস্ট আফিজ আরাদর্শের আগে আমরা যতটা পারা যাক করেন, কোটে আসি, স্টেটস নিরেগুলির গিয়েতে মামলা হয় যে রকম হয়, দেন সেকেটা আফটা আমলের থাকে কানফেরেন্সী। এই ছাড়াও আমাদের থাকে নিজেদের চেম্বারি ওয়ার কাওয়ার সাকে উইডিস বা উইকেন্সিতে চেম্বারি ওয়ার কাওয়ার থাকে উইডিস বা উইকেন্সিতে চেম্বারি হয় সকালেই বা দুপুরে করা হয়। কোনও সিনিয়ারদের চেম্বারিতে আনাদের মিট করার। টিককাল ডিকুডি তাই চলার। আউট অফ অল দিস ওয়াট দ্য মুটিভাইট শিল অগ্রাস্ট। বইতিবালা বলতেই পার চৌক্তিগত হচ্ছে যে পয়েছাটা ম্যাটার করা অনেক বেশি। আইনেতে লোকেদের ভাবে যাহাতো উকিলতের অনেক বেশি ফিস চার্জ করা যাপার তিপিকেলি যদি কেউ একজন এই লাইনে থাকে যি ধরনের রিস্ক নেওয়া থাকে রেপুটেশনার ডিস। এখানাতে নিজেদের রেপুটেশন ডামরা একটা প্রেডস্টালে শ্যান্ড করছি এটা ব্র্যান্ড ভ্য যার উপর ম্যাজিস্ট্রেট বাজাজ বিশ্বাস করছে দেহে ফিজ কবি হেফ দেহ রেপুকেশার। এনিহন কেন গুয়ান সাবমিউট বিফর রোকর্ড, কাটক নাওয়া ভিজাই সেটাজের রেপুকেশন অরোগোড। তার পুরো নেগেটিভ অ্যাডভাস এফেক্টা আমাদের উপরান। যত স্ট্রিক্ষার হওয়া যত অ্যাডভাস কমেন্ট হওয়া সেটা আমাদের উপরান। কিছু ভাল হবে সেটা ক্লাইন্টের লাভাবে সেখানে শুধু আমাদের নামটাওই যে সাবমিশান করেছেও ইকটুকুতিই থেকে যায়। তার ববেশি  ঐ রেপুটেশন রিস্কেট জেনার্টা ফাইন্যান্সেল গেইন্স থাকি যার জন্য সেটাও এটা বিষয় মডিভিশন থাকি। এছাড়া আরিকটা থাকি যে কিভিকেলি সাধারণত সব মানুষের কেবেবলিটি নয় সূত্র করা বা টাইডোগে। যেমন অনেকি থাকে যে ধানতে জন্য কিছু মাসারি এশশি ব্যক্তাই যে একজন প্লাইন্টেশেন তারওই কিবল তার ওয়াইফের রিলেটিভিদের সাথে সমস্যারিত ফোন নাইন্টিই এটিরি মামলা বাড়তে এখানে পেস্টারেও কিছুলাই কিছেন কিছেন কিছেন কিছেন কিছেন কিছেন কিছে যে হই রিলেটিভরা নিউ সামন অফ পাওয়ার এমএলি এইয়েতু বেইল রিজেক্টরেত। ঐ কাপেল যারা ঐ মুমেন্টেদে অফেনসাভার মুমেন্টেদে ছিল না তারা এক মাসের ওপর আই বাইরেক পালিয়ে বেঁধি। তাদের এরা ছবাচরে বাচ্চা ছিল তাকে যে কেমামেন্টে অ্যারেস্টরের হাইকোর্টে দিয়ে উকিলের কাছে গেছিল সে এমন সাবমিশন করেছে হাইকোর্টো খানাদের ক্যান্সার্ক করে তাদের কে একটা কিছু দেওয়া আমনে এই রকম ধরণের আরকি যে ইয়ে থাকে লিটিকেন সা� সারাদের একটা হেলপার্ড এটা হোকেট মডিভিশন হিসাবে কাজ করেন। এছাড়া একটা থাকে যে ছাড়াও কারও লোকের থাকে যে ভাওয়ার থাকবি রেকুডেশন থাকে স্থাকে এটি তাঁই কিল বায়ানভোকের দেয়া ইয়ে থাকে স্টেটার সাকে। পুসিগুলো সম্পটা নিহেই একসাথে করে।  Thank you. What motivated you in coming in this line of... I have come to a specific motivation in Sri Lanka. It's like, I'm a graduation coordinator. এমন কিছু গতে যায় যিভি আমি নিজের মালিক নিজেই হবো। একেই কেন কো সামথিং ফরমাইসেল নট ওর্প সামান এন্স। আমার ফ্যামিলি বলতে আমার দুই জেনারেশন আগে কিছু অ্যাডভুকেস ছিলেন, তার এডা লেগেসি ছিল তাদের কার কিছেন। তেন খানেতে আমার অ্যাডারেক্টে ছিল যে এমন একটি জিসাস এটামার আইকেন আর্ন মানি আর্ন রেসফেক ডেন হেভার টাইমফর মাইসাক। দ্যাকাও মাই বিগেজ মডিভিশন এই লাইনে আসা যায়।  Yes sir. Okay. Okay sir. Could you describe what impact does high profile cases have on criminal lawyers and how do they handle such cases, pressure of such cases? নিয়ো ডিটিস কনফিডেন্সিয়াল, ইটিস অনুলি ফর ইউসফিন একাডেমিক প্রকোসেস। নিহন, এই প্রেসারগুলো একচলিই মনে হার প্রেসার কাঠন ঐ লেভেল অফ ম্যাটার আপনি সামার্কার্ক করেছেন করেছেন করেছেন করেছেন করেছেন করেছেন করেছেন করেছেন করেছেন করেছে যখন ডিন করছেন, তো ইহা অন্ডি হবা স্রং বেইস স্রং কানিকশন্স। পার্টিকুলির যতক্ষণ না আপনার নিজের কানিকশনের উপর ভয় হচ্ছে বা কোন ডাউক হচ্ছে। তার তখন প্রেশারটা ম্যাটর করেন যাকানা ইসলাইক আর রেগলের ডি অফ লাইফ। রেগলোর ওয়ার্কডিয়া ফরাজ। এই ম্যাটরটা হয়তো মিডিয়ার কাছে বা অডিনের প্রাসেন্স কাছে মনে হতে বাড়েই সাইপ প্রফাইল ভার্ক অথিল অ্যাডি এন্ড অফ দিক ডি অ্যাটা পাওরফিড প্রাস� ইউজস কোচ্ছে কেটারা নেগেটিভ গেম করার তানুকরাই তাইই করে হিসে ফেজিকেল হোক, পলিকেল হোক কি ফাইনেশিয়ার ইতাই মিসিউজ অফ পাওর অ্যাবিউস অফ পাওর সেজে ধরানো দেরি হত। আমাদের চেষ্টা থাকে যে অবসরই আদের ক্লাইন্ডি এতুহাই প্রফাইড তাদের কাজের দ� ডেস্টিমেশন যেটা আচে বা তাদের যে ইচ্ছাটা আছে সেটা দেওয়া বা তিনি প্রসেস ক্রিমিনাল লরটার এরকমভাবেই তৈরি আমাদের এখানে যে জিনিসটা অনেকটা ডাইলুটেট হয়ে যে আপনার যদি বলতে চায় যে পানিসমেন। কজান এফেক যেটা এফেকটা যেটা আসবে এই হাইপ্রফাইল কিসগুলি যারা হ্যান্ডেল করে তাদের মিন ডার্গেটা হয় পানিসমেন্টা পুরোরটাকে সাইট না করা তারা ধরেই তাদের ইটাজে ডায়ুলিউড করে তেওয়ার পিছকা। যে হ্যাক তোকটা গুল করেছে প্রাই। ভার্সে আইনা পেই করছে তার জন্য আমাদের হিসাবটা ইংলার একলিপি পেইঙ থুদা কোর্টস, পেইঙ থুড পেনেলটিস, ফাইনস, নিজেদের পয়সা খরচ করে পুলিসকে দিচ্ছে, যাকিই দিচ্ছে, উঁকিলকে দিচে পয়সা তার লস হচ্ছে। সেটা তার লস তার এক ধর্ম পেয়েমের। এফেক্টা গ্রহণ হয় না কিছুই থাকে যেখানে মানে সত্যিই জেই লাভাবে কিছুটি থাকে যেখানে মানে সত্যিই জেই লাভাবে কিছুটি কিছুটি কিছুটি কিছুটি কিছুটি কিছেন কিছেন কিছেন কিছেন কিছেন কিছেন কিছেন কিছেন কিছেন কিছেন কিছেন কিছেন কিছেন কিছেন কি� এরাও অন্য মোমেন্টে অনেকটা বেশি এখাই করতে পারে। এরাও অন্ডিকে স্বীত থাকে এসেকিলো ডিল করবার জন্য নগর্ম নর্মাল ওয়ার্ক লাইকটিস অন্য অন্য করেকেন গেটপিজ, পার্টিজ অন্য আদিতিক। এগুগুগুগুগুগুগুগুগুগুগুগুগুগুগুগুগুগুগুগুগুগুগুগুগুগুগুগুগুগুগুগুগুগুগুগুগুগুগুগুগুগুগুগুগুগুগুগুগুগুগুগুগুগুগুগুগুগুগুগুগুগুগুগুগুগুগুগুগুগুগুগুগুগুগুগুগুগুগুগুগুগুগুগুগুগুগুগুগুগুগুগুগুগুগুগুগুগুগুগুগুগুগুগুগুগুগুগুগুগুগ সেগুলো আলাদা কার ড্যাথস প্রফেশন আছে আসান লাইফেতে ওরকম উপনোভাবে হ্যামবার পায়ানে। ও ওইফ্যাক্ট ডাসিট হাভ করে। ফেক বলতে দেখুনি লাইনে থাকতে মেন্টাল বা ইন্টাল। ইমোশনাল এফেক যদি কিছু বলতে যান, সেগুলো গ্রথম থেকে হলে ড্যাম্পেন্ট হয়ে যায়। এত ধরনের লোকজনের কাম্প্লিন্সাকে কি কিবলো কিছুটারা হুমারিকের ওপর কিছুটা ফেক্ত চলেই যায়। কুডিও ডেসক্রাইভ  For us, what common types of cases do criminal lawyers generally encounter? What type of cases do criminal lawyers encounter? Criminal cases place to place is different. Same as shop. কলকাতা শহরের ক্ষেত্রে ফাইন্যাশিয়াল হোয়াইট ফলার্ট লাইন ডু কলার্ট ক্র্যাইনশিগ্লো বেশিয়ার ভায়েলেন্ট ট্রাইক কম মানে মার্ক পিট ক্ষুণ খারাভে। ক্ষুণ খারাই মার্ডার মনে আমরা লাস্ট দুতিন বছরে পাঁচটাকি ছড়া মার্ডার ট্রাট। কমপ্যারেডিবলি শিয়ালদার্থে যদি আপনি যান লাশ পাঁচ বছর বারটা রোগবর গেছে আলিপুরে গেলে মোটামুটি ৫০৬ রোগ। রিলাডিবলি প্লেস্টুপ্লেস বিফের করে। আপনি যদি নদন শ্রীদ থেই যান রাজিলিং সাইন। তালে উপানাথে আপনার অ্যাসল্ড ভায়েলিন ক্রাইমস আর এনডিপিএস মানে নার্কোটিক্স এর মামলা বেশি থাকবে। বর্ডার এডিয়াতে যাবেন কাস্টামসের মার্কার থাকবে। তো কুর্গাদা শহরের ক্ষেত্রে পাটিকুলেরটি এই মুক্তিফি। পোট বেন্ডি ৪০৬ বেসিকেলি রিয়েল স্টেটি এই টাকা নিয়েছে, পালিয়ে গেছে, চিটিং ফর্জারির মামলা এই ধরনেরগুলো আরির সাথে একারা মুক্ত নেখন আসছে অনেক বেশিয়া মহকে সবেছে ফোন নাইঙ্গিলিটি বিভোর্স ডিভি। ভেসিরভাগ ক্ষেত্রে এগুলো তিকারের গিয়াস গানে একজন কম্প্লিন্স আছে এগুলো মাতা স্বাতাই ডায়ালামিন ট্রেন্ড আছে যে কিছু আপনার কি বলে ফলসক্লিন্সর ভুগসে। নরালে ডিবি ফোন ড্যাইটি ফোট ২৪৬ এইগুলোর ওপরইই কোলগতা সরকের বেশিরভাগ ক্রিমিলার মামলা চলছে। এইসব কিসস ডিল করতে গিয়ে কি রকমের অবস্ট্রকেল ফেস করতে হার আসিকার কি গমভাবে ডিল করতে হয়। নির্জান মামলার প্রথম ইউটি হচ্ছে প্রথম ইনিশাল স্রেপ্টারের পুলিশ কেতি সপ্তিকে বড় অবসরকার হলেছে পুলিশ ডিপেন্ট করে আপনার আইয়োকটি। এশিরভাগ ক্ষেত্রে আইয়ো বা ইন্দেস্টিকাইসবিং অফিসে যারা হয় তারা খুক আলো হয়, তারা খুক সুন্ধুর। মার্ট ভাগ্যবশতকে যুকিছু মানুষ পড়েই যায় যে দ্বারা খেলে সেটিং দ্যাটার্ক সাইট গার পুলিশের সাথে আওয়ার বৌষে সাধারণত একই ইউজডো বা কামতে নিন্ডক। পুলিশ সাধারণরা বৌষে। তারা যদি মনে করে যেহা দেরিজ সাম প্রভল্ম, তালে তারা বিলিংবি উড়ো ইন্ডিস্ট্রিয়ানটা করে দেয় এবং সেক্ষেত্রেই তারা মনে করে এবং ক্লাইন্টর ফিল করে যে যে কাম্পেনসিরিট সামপার্ন পার্ট ফ্রামবার্ডদের গেটিংয়ারেজ। সেটা দেন আসেন হচ্ছে বিলের ক্ষেত্রে বিলের ক্ষেত্রে খানেতে হয় যে হয় পুলিশ তা নিজের পাওয়ারটাকে ইউজ করে। অরেলস কোনও অ্যাডভোকের তা নিজের প্রতিশানটাকে শোপার। কাম্প্রেন যখন কোন অ্যাডভোকেটে কাম্প্রেন যখন কোন সিনিয়র অ্যাডভোকেটকে দাঁড়া করায় তো সিনিয়র অ্যাডভোকেটে পাটটাই হচ্ছে বিল অপস্থা। তার ক্যাড্ভেলেটা অথাটাই বেশি জুগিয়ারের দাঁড়ালে পালেন সেটা একটা অবস্থানেকে স্ববীপানেকে কর সাকরেও যে আপনার যদি ভেইললের জন্য না হতে হতে প্রমধিন আপনার জুনিয়াদেরকে ইউজ করলে আপনার বেইল পাওয়ার চানসকর। ওখানে একটা সিনিয়ার ইথাকবে সিনিয়ার মানি আপনার একটা ফাইন্যান্সিয়াল ইকস্টাকর। এটার জুনিয়ার যা ফিজনে সিনিয়াতার বেশিটায়। দেন থাকে জাজেজ জাজেজদেরও কিছু অ্যানিমোসিটি থাকে তারা অড্রী প্রিন্টার মাইট থাকে যে স্পেসিভিকিছু কেতে আমি বেল দেবার। উপা বেল দেব। কৃণিজান মেটারেসে বেইলটাই শক্তকে মেই ইমপর্টেন কেন এটা ইনস্টেন্ট একটা ক্রিবলো। ইনস্টিন্ড একটা অর্ডার পাবে, ট্রায়েজ চলবে পাঁচ বছর চার বছর সহজ যেটা হবে ট্রায়েজ শেষ হবে ততোজনিয়াতি ম্যাডের করে কারে কাটে এই মুমান্ডে যখন নামাটে শুরু হয়ে তেকে বেলটা ইমকট কিন্ত উঠেকেছব থেকে বড় হার্ট কৃনিকার্ড। একটা পণ্ড টাইমে আমরা শুনলাও হই আবট বিস্ক্রেপেন্সি যেখানে পুলিশ এর গোপারেশন নির্বালিক যেহুতু অন্ধ আদোসাইট অবধেছেন। অনেতর্য অন্য ডিরেকটিভ সুলিশ রয়েজ দিনই কাজ গুচি। কোনিজেদের ইক্সাম্পেস করে ইনসিডেন ধরে একটু বোঝানে যেত্রদের কি রকমের এই প্রবেলমসগুলো ফিস কর্থাবেথার পুস্তকর সুবিত হত।  Thank you. উইখাই আমরা ইমিদ সেন্সর করে মিনিজের অধিমাটিক করেছেন কোগের কনকাতা এরা মোড়ো এরা কিছু হয়েছিল এসালক কর্কাতার করেছেন, কোগের তাতে কিছু পুলিস অফিসেজ উন্গর্ক ছিল, এছারও বাইরো কিছু উন্গর্ক ছিল। শেখানের তে যে রকমান্দের ইছিলেন, আমরা সব পার্টিদেরকী রিপ্রজাতি করেছিলেন, শেখানের উন্পর্ক বইছিল যে যারা অফিসেস যারা ইকগুল তাদেরকে তারা কোনওভাবি এক করবে না, চারবে না, বেল দেবে না, ড্যাকপাসিড ফাই। তার পরে নেই শ্রেষ ছিল। এবার এখনও দি বেল পাইন দেজ বুক যে শক্তি হয়েছিল প্রাইনার সেটা বলিনা ভারেও স্টিনভিনিকু স্টেন্ডা পররাট লাইনস।  Thank you sir. Moving to the next question. Could you describe the role of ethics and professionalism that play in legal profession? Aarida, kyaon ho bata lawyer ke impact koi?  There's a fine line between illegal and unethical. অবসৈত উচিত নয় যে আনিক্ষেল খাওয়া দরকার করু কারও কারও তারা সিটিউয়েশন সুইচ ডিমান্স যেই কখনও কখনও নিজের প্লাইন দির জন্য তুনে হতে পারো কারও অবসৈতামার ডিসপ্রিশনের ওপর এবং তামার ইএর ওপরে দিবারে পেকেছেন। হেভিং সেট দ্যাব। ইসলাই যে কিছি না কিছু কোই করবেন। হেভিং সেট দ্যাব। তিসলাই যে কিছি না কবি কোই ওয়ান্ড কেজ কিছু কয়েন্টে আসে যে আদা সাইট হয়তো এমনকাছে কিছু করবে করবে করবে করবে করবে করবে করবে করবে করবে করবে করবে করবে করে করে করে কর� এটা সোজাভাবে লিগেল সেন্সে কোথাও থিকে আমরা বের করতে পারছে। তো যেরকম হয় মাঝামাঝি যে আমরা জানি যাহাত মারেটটা কিছু স্টেপস হলে আমাদের ফেবারে আসবে। তো আদাসাইট ইসে মাঝান্তি হাহত সকালগে আমাদের পরেকে করেছে। আনে থিকে লবসি কার মাটমাটির লিকার, একদম ছোট সেন্সে, আমাদের নিজেদের অনেই ম্যাটরি থাকে যামলে জানি এম্যাটরি কিছুকে উক্তেপার করে, ক্লাইন্টের অনেকই আমাদেরকে বলেন যে লম্বা চালাও। আমাদের পার্টিশনের কিছু ম্যাটেজে এরা বলেই গেছে যে দশ বছর চালান, আমাক ছেলে বড় হলে টাকা পাবে ততমম কিনে নিতে পারবে অন্য পার্টা। তাজনার দশ বছর চালান, তো তার জন্য আনি থিকালিই হয় টাইম করান ও শরীর খারাপ আছে হয় তসে প্রেজেন্টার সাক্রান। প্রেজেন্ট নেই তার শরীর হারাপ বলে দেওয়া হল। রিপোর্ট আসেন কনটেক্ট করায় যায় কোনও কাবে একটা ইক্ষিয়ে দেওয়া হল। ক্রিমিলম্যান্টের যেতে তার ওরেন্ড হয়তবে এই চেতা শরীর হারাপ দেখিয়ে তার ওরেন্ড রিকল করিয়ে দেওয়া হল। তাকে ভাইসিগুলো তখনই ইউজায় বেশিরভাগ ক্ষেতরে যে হয়তাই গদমি কন্ডেতে আছে আর কিছু কোনও উপায় নির্জ করে। এছাড়া আনির্থিকেল হওয়ার জন্য কানে উকিনরা কোনদিন চায়না বা ইতে আমাদের জাইবুলের ইমেজ ক্যারি করতে বায়। এই সব ডিলি মার্চ এই থাকেল ডিলি মার্চ একমাতি ন্যাভিকেট গিয়ে একটা লয়ের একটি স্বকেল ডিলি মার্চ একটি ন্যাভিকেট করতে গিয়ে একটা লয়ের একটি স্বকেল স্বকেল একটি নেভিকেট করতে গিয়ে একটি লয়ের একটি করেছেন করেছেন করেছেন করেছেন করেছেন কর  What is the other end of the facing and become lawyer? What does he face? সিরকমভাবে, দেখন এই জিজ্জিগুলো জিজ্জিগুলো লিগিয়ে থাকে এগুলো কিছুত অ্যাডাভাদের পার্সনার লাইফে দেখ এফেক্ট থাকে একটা। যি কখনো মনে হয়েছে ঠিকা চেপই নিজের জন্য হয়তকিছে জিজ্জ প্যানকেলেট। ক্ষুব একটা এতে আমরা গ্রহণভাবে করি না কানা এই এথিক্যাল ডিলেমাসগুলা আমরা ট্রাইকো অবারেড অল্ডিটাই আমরা কোনও দিন অ্যাকটিভির ধারে কাছে যেতে চাই না। যদি কিছু থাকে জেরাও মালের কিছুদিন আগিক্ষতা কালকি আমরা কিছুটিতে আমরা কিছেন কিছেন কিছেন  তো আমরা একজন প্লাইন ডেইজ ছিলেন যে তার কিছু অর্ডার চাই বিহাইন দিসিং তিনি ভোটে অ্যাপিয়ার করে না ভেজত থেকে বেরা। তো আমরা স্ট্রেটাভাবে বিডিনাইট। যা কিন্টি উনিভোলব ইন দোজ কাইন জার থিকিছে তুই ট্রাইড অ্যাট অ্যাকটিভি হিয়ে বাট কাঁ গরীতি  তিনি হয় সেকৃতির দেন ডিভাইন করে সিটুয়েশন অপরিতীক যদি মুজের ক্লাইন্টের জন্য এবং মনহে জাস্ট্রিফার দেন মিফিলব গুড অপর্টা হচ্ছেল যদি মনহে যান জাস্ট্রিফারের তা লেডাক ইকিনটি ফিলুন থাকবে কার সিটুয়েশন করে সবসময়।  Now we would really like to know how does the knowledge that some person have actually committed the crime versus the knowledge that somebody is actually innocent but has been accused of a thing. যদিস নলেজ চেইন্স তাপা স্যাপসন অধ্যাকে সাটার লয়ের ক্ষেত্রে। যদি আমরা জানিত কেউ একটি হোস্ট। একজন সত্যিকারের গ্র্যামেডিউস কাউজ করেছেন হিজ বিনেকইউজ আজ সামবটি কিউজ হান। যেভাবেই হোক জাজকে কানভেন্স করা যদি নিজের করা না থাকে এই কানভেন্স এই এই জাজ সামানে সবই এত থাকে যেভাবেই হোক জাজকে কানভেন্স করা যদি নিজের ক্ষণকা না থাকে অ্যাকটিভিলি সিকআউট সামমান হুকেন কানভেন্স এই জাজ সিনিয়ার হোক জাজকে কানভেন্স এই জুনিয়ার হোক যেই হোক নাগানে যেখান থেকি হোক নাগানের পুরো অ্যাকটিভ রোলেতে আমরা ফুল মুডেতে যাই যে হেলিক করতেন। এবার যাকাই জানি যেকে অভিছু করেছে এবং সে অ্যাকিউজড অ্যাকচেরি। আমরা সেটা অবশ্যই ডিসই পোলিনালককে পিকিবিট্রু আজ। যেহেতু আমরা জানি যেহেছে বিন নো ওয়াট লোকস মে একটি কোন কোন থাকা সেগুলিক আটেনি কোষ্ট প্রান্টের জানাটি তাকে যাকারা পারা যে পাচানে। যেহেতু আমরা জানি যেও করেছে বি নো ওয়াট লোককস মে একসিস্ট। কোন কোন থাকা সেগরামের ইকোসে। অ্যাট অ্যা� আমাদের পারস্পেক্টি বা আমাদের পার্সেপশন তার প্রতিকী সেটা আমরা যজ নয় ফ্যাকট আইন সার্কাম সেন্সের উপর যথসাহেব যা জাজমেন্ট দেবে সেটা তা জাসটিসার। এতেই আমাদের কাজ প্রফেশনারি যেহেতু শুধু এটাকে ডিল করা আমরা প্রফেশনারি ওইটু কুইতে। চেষ্টা করি যদি এর মাঝখান থেকে পারা যায় তাকে যদি কিছু ভার জ্যাস্টিস করান। ধরনা হয়ত কিছু ক্ষেত্রে ডাওরি বা মুভব পেটানার মামলে আমরা অধরটাও আগিউ করিনা অ্যামাউন্ড অফ মেন্ডেনেস করানো। যানা তার ওয়াইফের প্রতি তার চার। যে অবাং ডেটা দিচের মেন্টানের ভার্ক অবসরই আমরা চেষতারগরি তাকে জিল থেকে আটকান্যর জন্য তাকে ভাসিতে যাওয়ার করে নামাদের। যখন এই সব জায়গার নিজেদা প্রস্নার গাইলুজ থাকে একদিন প্রফেশনার একটার জায়গার থাকে। এই জয়গার তখন ডিস্টেস হয়ে যায় তখন এটা লয়ের ক্ষেত্রে সিজিনিস টাকে ডিল করা কি রকম যাবে যাবে থাকে। ভালের একটি একটি প্রথম থাকে যাকে যখন নাগালের তৈরী করা হয়েছে সিলিবাজ থেকে সুরকুরণ, কোর্সপার থেকে সুরকুরণ আর ট্র্যাক্টিকালেই। সুপ্রামন্ত্র এই করামে ছিল এই পয়েন্টগুলো নির্দি করাতেন যে এই থিকসার লিয়ালিটির সাথে একা লয়ের যে প্রফেশনালিজম সবথেকে বড় ম্যাটার করে। অনেছ অবার আগে আছে যে প্রিবিলিজ ম্যাটাজনোস। অ্যাকিউজ যদি একটিরেজি সাথাই করেছে করেছে। অফলেন্ডার হয়েও থাকে, মিকেনার ডিসক্টোস দ্বু এমিওয়ান নর্ডিম্যান্ড ও ইউইয়র ১৯ আমিলিমেমের। তো আমাদের পয়েন্টা গর্ভাবেই তৈরি করাত হয় যে তোমার যাই ভবনের জন্য ইউন্ড নর্দিজাজ। তোমার কাজের ফ্যাক্ট অ্যান লো যা আর সেটাকে সেটাকে কর� মানুষ খুন করা ইজানে অফেন্সি যা মার সবাই আমরা যান কোন সার্কানসেন্সিত অফেন্সিক। আমি জানিল ওকটা খুন করেছে কিন্তু সে কি একজনি খুন করেছে দায়ে পড়ে নাকি সেই কোল্ড ব্লার্ডের মারার। সিক্লামার্টার করে প্রত্যেকটা ক্ষেত্রে। আমাদের ভাগ্য ভালো যে ওষ্টিম বাংলায়াতেই ইউনিহুত্ত ঐ রকম ধরনের ম্যাটর আসেন আমাদের ক্যাথে এতটা বেশি দিলেমাদের ভরতে হবে। কোলগাত শহরের খেতে গ্রুপিক ওইসাইডের করেকে করেকে করেকে করেকে করেকে ভিকাম আসহ জুপি বা ওইসাইইডের করেকে করেক এই সাপ্সান্তিক জাসরেস্টা অনেকটি অলাদা ও দিল্লাও সিস্টেন ক্রিলন জাসরেসিত দিলেলা আলাদা অনেক প্রের আনেকটি। সিম লব রসিডিয়াস ফলেও কার সাপচাইনটি জাসরেস্টির অনেকটি আলাদা উষেটা তাদের করে। এখানেতে আলাদা হবে ডিম করায় জন্মেন। হাওডিগুই জেনারেলি নিলবাদগুলোকে নেওয়ার জন্য কোনও দিকসরা থর দিকদের ভাইতর আমাক ক্ষেত্রেও। হাওডিগুই জেনারেলি নিলবাদসের স্কাল থেকে অফিসে যতক্ষ নাচির আচির বাড়িগীর গীর্গিত দেখে। আমন কখনও কোনও হয় যে জিনিস্তা ভোলা গেলো না এন তেন ক্ষেডেন্সম। হাউ হাউ ইজ দ্যাঁট কি রকম কি হার ডাজমে বিকান সাথিং এক্সামশনার যে থেকে যাবে বছরের পর বছরে হার্ন করবে। হ্যান যদি কোনও বিলিংলি কোনও ইনোসেইন্ট হয়ত যদি জেলে যায় আমার ইয়েতে এবং আন্দুজ্জ করলাম না ইচ্ছা করে সেক্ষেত্রে হয়ত হন। ইফাই গিবাই বেশ তারপরেও কিছু না হয় আমার হাতে না থাকে আই হ্যান্ডিড ওভার প্রসাম্মান এলস লাইক হাইকোর্টস প্রিম কোর্ট প্যানা শেখানে থাকেছে। আমি আমার পারটা করেছে। অনিফায়াম কনফিরেন্ডি আমি আমার পুরোটা করেছে দেন লেছে।  Okay sir, what is your attitude or perception over the social, was the perception jai social world ar vapare, was that affected by your profession? How is your attitude to প্রথাপশিন টুয়ার্স সোসেল ওর্ড অ্যাফেক্টেড বাইয়র প্রফেশার। কুজে কুজে কুজে বলতে কার। ডেই সেট যে সোশিয়াল বল্ডে প্রত্যক্তার মানুষের তাই কেউ ডারেকরি পুরোটা তা রিবিল করে না কিছুটা বলে এর সমস্যা হচ্ছে যে তাঁর জিজিস্টা বলে আর জিজিস্টা আন্ন সুহিংসেই খানেতে মুঠামুকে একে ধরো। লোকজনের ওপর বিশ্বাসরা প্রথম থাকে না, ইতেলা একটি ও এসেই বলে যেহাই তুমি আর বল জানা তোমার জনের করে দিতে বা রিবা আকমার দরকার হলে বলে তামি এনে দেবো ছোট ছোট জিনিস হলো। বিশ্বাসরা না, যনি তুমি আদও আন বেকে না, কেনা নামরা যানি যে তোমার বলবে তু যাদিন করে হলেন দাদা মনেনি আপনি পরে দিকছি। এই রঙ ছোট ছোট একটা অ্যাসপ্রেক্ষিকে বন্ধু হোক, বাড়ির লোকজনি হোক বা যেখানে হিয়ে থাকোক কিছু কিছু জায়গের থাকেই যে নাই অর্ষাটা থাকেন এক করে। আমি হতে যাকে চিনি না জাই না বাবহেন। আমি হাতু মনে করলা নেটা সার্টিন ক্যারেক্টার বা ক্যারেক্টার টাইকটা কথো পরেদিন দেখোষে ভুগলে গেছে। এটা এই থাকে গ্রেগুলারের সমস্যা যি তুমি কাকে বিশ্বাস করবে আর কার ওপরে তুমি বসাকরে কারে। সোশান লাইফটা ভর্সা দিবের কি লাইফতো ও ওর্কলাইফ মধ্যে পর্ব ক্ষণটা ম্যাটার করে তিমার প্রাসান লাইফটা এফেক্ট বর্ষে অনেকটা এই সুটা একটা বড় হয়ে। তবে আমি কুবেটটা সোশেলিয়া একটি মানুষ নিয়ে খুবই ইন্টোবার টাইপের মানুষ তো লোকজনের সাথে অতোটা আওয়ামার গিয়ে থাকে নিয়ে প্রার ঐতন্য ট্রাসকিসুটা অনেক বেশি এতে থাকে। লোকজন কিবোলছে আর কিয়ে। নানা লোকজন যতার শো করে একচলিতারা সরাও নয়। সে আপনা গগ লাইফ আর প্রফেশারেন লাইফ কিংব ইন্টারপ্রেশনের লেশিনসিং এই ব্যালেন্সটা স্ট্যাবলিস করতে ইজিনিসটা মেন্টেন করতে কিছি সংস্থা সঙ্গীন হতায় কীভাবে ডিল করেন ছিকিকে। এই প্রথম যাপস প্রেন্সকেলস যেই আমি এগরাও ফলো করু তাতে প্রথম সমাসের যে করে করে করে করে করে করে করে করে করে করে করে করে করে করে করে করে করে করে করে করে করে করে করে করে করে করে করে করে করে করে করে করে করে করে করে করে করে করে কর প্রচুর কাজ রাত্ত্বের বারটার পর একটার পর মাঝরের যখন তখন ২৪ ভান্ডার। আওয়ার ইটি ছিল ওয়ার ক্লাইভ পাসার্ন লাইফ আপ করার জন্য এরা সার্টিন টাইমের পর আমি আর কাজে থাকে। এসরার প্রথম অবশ্যালে প্রচুর ক্লায়েন সার্থেই যারা সমস্যা হয়ে রাত্তে � সেকেতর আমি অন্য কাউকে দিয়ে হ্যান্ডওকার করেছেন যে দেখা করেছেন যানা আমি নিজের পাসনই যেতাগ্রহ এথস মাইন প্রিমসভাল যে আমি উইটাইম রামান বাড়িতে দিচেক বাড়িক লোকজন যারা হয়েছে তাদের কেতেজিকে না এই কাজুনেন করছি তাদের জন্য আরে। যে টাকা আসবে ভারিতেই যা রামান জেপ থাকা একটি তৈটা একটি। এছাড়া থাকে যেহেতুই ভাগতা আছে। কিছু অনেক কাজী হয়ে যে ছেড়া দিকা বাইরের কাজ থাক গরুণ বা কিছু হাই ডিমার্ডিং কাজ থাকবে যিগুলো অনেক বেশি সময়ে লাগে অনেক। প্রশিকান্ড লাগবে। প্রশিকান্ড দিতে হয় তালে আমার অবশ্যই পাল্চনের উপর অনেকটাই হ্যাম্পার হয় পালোনার টাইনটা হ্যাম্পার হয়। প্রশিকান্ড আমি কিছুই জিনিস থাকিতে হেনামে অবয়েড করে এক যাকরে। ঐ ব্যাল্সা মেন্ডিন করার চল। আরকাছেই ব্যালে�� খারাপ লাগে মনে হায়ে যেন করতেই বা তাম হয়ে তো। পরের মমেন্টে রিয়েলা স্কুটিতে সবকিছু সবসমার পাওয়া যায়। কিছু যিনি সবস আমার ছাড়াত্বা কিছু পেত্রেকে। কিছু অল-এবট ব্যাডনস। তুমি সবকিছু যদি চাওয়ার চেষ্টা করব ক্রেকে করবেই কাটির দেওয়ার। করে করে হয়েছে।  What are the general methods that you use for relaxation? What are your general methods? I use the Kolkpugha series. আপার কোনও ক্রনিকেট মেডিকেশিন আছে তোনও ক্রনিকেট ডিসোডা গ্যাস্ট্রিক রিলেটের কোনও সাবসেন ডিপেনডেন্স কিংবা ইস্কিউকেও জেনারেলি প্রসাবার্কার্কার্কার্কার্কার্কার্কার্কারেকে কেনারেকে কেনারেকে প্রসাবারে�কে কেকে�কেকে�কে সাপসেন্স ডিভে ডিপেন্ডেন্স কিংবা কোনও এবংর গ্যাস্টর ইন্জাস্টারের মধ্যে ক্রোনিক ডিসিজেজ আপনি বর্কস করেছে ভিনা উইকুল নেজেন। ভার্কস জেনার অসুজ থাকে ভারে এই জেজ ইলেটে ডামি প্রসেনের সাথে। সাজস্ট্রেন্সের ওপর একই বলেন ডিপেনডেন্সি না ডিপেনডেন্সি ওরগণে লোজন ইউজ করে যেরকম সবাই সবকাজ কিছু করে ভারে তাই ছাড়া কাজ করতে পারণাটাই কারো কিছুই একটি কিরকমে সাজস্টেন্সের খুবই কিরেজগাজি কিরেজগাজি কিরেজগাজি কিরেজগাজি কিরেজগাজি  প্রত্যকে বেশি আমাদের লাইন্তে ইউজাই অ্যালোকোহল সবসময় সব জায়গাতেই বেশি একটি ট্রাডিশনাল একটা সাবস্টেন্স এটা সবসময় বেশি ইউজাই করা অনেক এই লোকজন ফেবারেভেল টুবার্জিস অ্যানিচ লিগাজস। এই ছাড়াও আমাদের যেহেতু ভারতীয় কালচার একটা আচ্ছিত শেখায়তে কেনাবিস্ত ইউস করে পিপলিউ নোমার বাববদেস কারুর রত সংস্যা হয় না যারা ইউস করে তারা নিজেদের মধ্যে থাকে বিকাজিতাটা। এছাড়া আরো প্রচিনেশা আছে বার খুক করেছে। ক্রম ইউজে সরাহাত খুব একশর মধ্যাহত একজন দুজন ডাইপে কার নরমাল ফোসেল লেকটার স্যাম্পেল যদি আপনি নেন তারা যে ধরনের সাবসেন্স হেবিউজ করতে পারে সইই সেই জিনিসগুলি খানাকিরি।  It's nothing extra. It's nothing extra. It's nothing extra. As a lawyer, do you feel that a profession, comparing profession to profession, advocacy profession, alcohol, kimbo... সার্স্টেন্সেস ইউজ কম্প্যাটিগ্রি বেশি কিংবা কম হয়। ইজ্জাক্ত বলতেও আর এখানের ক্ষেত্রে পশ্চিম মংলাও নয় কোলকাতা এরিয়া রাসপাষ্ট মেঙ্গ হতেই। আইটি সেক্টার ব্যাঙ্গেলরোধে যেটা কর্মে হতেই পেনেছেন। \""
            ],
            "application/vnd.google.colaboratory.intrinsic+json": {
              "type": "string"
            }
          },
          "metadata": {},
          "execution_count": 120
        }
      ]
    },
    {
      "cell_type": "code",
      "source": [
        "import os\n",
        "import glob\n",
        "\n",
        "files = glob.glob('/content/audio/Advocate_1/*')\n",
        "for f in files:\n",
        "    os.remove(f)"
      ],
      "metadata": {
        "id": "Pb1HirnRTCU8"
      },
      "execution_count": null,
      "outputs": []
    }
  ]
}