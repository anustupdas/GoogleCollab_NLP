{
  "nbformat": 4,
  "nbformat_minor": 0,
  "metadata": {
    "colab": {
      "provenance": [],
      "include_colab_link": true
    },
    "kernelspec": {
      "name": "python3",
      "display_name": "Python 3"
    },
    "language_info": {
      "name": "python"
    }
  },
  "cells": [
    {
      "cell_type": "markdown",
      "metadata": {
        "id": "view-in-github",
        "colab_type": "text"
      },
      "source": [
        "<a href=\"https://colab.research.google.com/github/anustupdas/GoogleCollab_NLP/blob/main/ExtractSpeechFromAudio.ipynb\" target=\"_parent\"><img src=\"https://colab.research.google.com/assets/colab-badge.svg\" alt=\"Open In Colab\"/></a>"
      ]
    },
    {
      "cell_type": "code",
      "metadata": {
        "id": "QXSGveoyG-7d"
      },
      "source": [
        "import json"
      ],
      "execution_count": null,
      "outputs": []
    },
    {
      "cell_type": "code",
      "metadata": {
        "colab": {
          "base_uri": "https://localhost:8080/"
        },
        "id": "IyLhuf3MC9Rk",
        "outputId": "3b02fe52-a849-46ca-aad7-69a4b1e8f5a6"
      },
      "source": [
        "from google.colab import drive\n",
        "drive.mount('/content/gdrive')"
      ],
      "execution_count": null,
      "outputs": [
        {
          "output_type": "stream",
          "name": "stdout",
          "text": [
            "Mounted at /content/gdrive\n"
          ]
        }
      ]
    },
    {
      "cell_type": "code",
      "metadata": {
        "colab": {
          "base_uri": "https://localhost:8080/"
        },
        "id": "k12qgefjDE1m",
        "outputId": "f75dbf2f-8f20-456a-91ef-203f720eb4d6"
      },
      "source": [
        "cd gdrive/MyDrive/transcript/"
      ],
      "execution_count": null,
      "outputs": [
        {
          "output_type": "stream",
          "name": "stdout",
          "text": [
            "/content/gdrive/MyDrive/transcript\n"
          ]
        }
      ]
    },
    {
      "cell_type": "code",
      "source": [
        "!ls"
      ],
      "metadata": {
        "colab": {
          "base_uri": "https://localhost:8080/"
        },
        "id": "IEoiSkTPj6n8",
        "outputId": "c8eb07e9-33ee-403a-95ed-f88867257c8f"
      },
      "execution_count": null,
      "outputs": [
        {
          "output_type": "stream",
          "name": "stdout",
          "text": [
            " 20200522T000000_decoder_en-bb-v1.0.model\n",
            "'2021-09-17 - NOS Journaal S223E27 - NOS Journaal.json'\n",
            "'2021-09-18 - Kassa S19E25 - Kassa (medium) [61466251e27c34.52272380].json'\n",
            "'2021-09-21 - Hart van Nederland - Late Editie - seizoen 2021 aflevering 264 - KIJK (large) [614af2e133ff06.19269856].json'\n",
            "'2021-09-22 - Hart van Nederland - Ochtend Editie - seizoen 2021 aflevering 3700.json'\n",
            "'2021-10-03 - NOS Studio Sport Eredivisie S32E24 - NOS Studio Sport Eredivisie.json'\n",
            "'2021-10-03 - NOS Studio Sport S48E35 - NOS Studio Sport.json'\n",
            "'2021-10-12 - Hart van Nederland - Late Editie - seizoen 2021 aflevering 285 - KIJK.json'\n",
            "'2021-10-14 - NOS Journaal S190E205 - NOS Journaal.json'\n",
            " 2022_02_01_vi_vandaag.json\n",
            " 2022_02_01_vi_vandaag.wav\n",
            " aljazeera_5th_july.json\n",
            " aljazeera_5th_july.wav\n",
            " battle_of_the_bands_01_22.json\n",
            " battle_of_the_bands_01_22.wav\n",
            " BBCNews_july_2nd_2.json\n",
            " BBCNews_july_2nd_2.wav\n",
            " decoder_nl.model\n",
            " Hart_van_Nederland_Late_Editie_S2023E66.json\n",
            " Hart_van_Nederland_Late_Editie_S2023E66.wav\n",
            " hlf8_01_27.json\n",
            " hlf8_01_27.wav\n",
            " hlf8_01_28.json\n",
            " hlf8_01_28.wav\n",
            " hlf8_12_20.json\n",
            " hlf8_12_20.wav\n",
            "'Nightly News Full Broadcast - June 20-23FLlDtBDjA.json'\n",
            "'Nightly News Full Broadcast - June 20-23FLlDtBDjA.wav'\n",
            " shownieuws_01_26.wav\n",
            " shownieuws_01_27.wav\n",
            " shownnieuws_01_26.json\n",
            " shownnieuws_01_27.json\n",
            " spraaklab_online_v2\n",
            " studio_sport_football_1.wav\n",
            " tmp.wav\n",
            " tmp.xml\n",
            " vrt-journaal.json\n"
          ]
        }
      ]
    },
    {
      "cell_type": "code",
      "metadata": {
        "id": "GIeSBOsDDaRW"
      },
      "source": [
        "!chmod +x spraaklab_online_v2"
      ],
      "execution_count": null,
      "outputs": []
    },
    {
      "cell_type": "code",
      "metadata": {
        "id": "Yc8miKPMDkm0"
      },
      "source": [
        "!./spraaklab_online_v2 --model decoder_nl.model --audio studio_sport_football_1.wav --xml > tmp.xml"
      ],
      "execution_count": null,
      "outputs": []
    },
    {
      "cell_type": "code",
      "metadata": {
        "id": "8k9AmQUfD6ze"
      },
      "source": [
        "FILE_NAME = \"studio_sport_football_1\"\n",
        "\n",
        "with open(\"tmp.xml\", 'r') as f:\n",
        "    xmlfile = f.readlines()\n",
        "\n",
        "speech_annotations = []\n",
        "for line in xmlfile:\n",
        "    if line.startswith(\"      <word\"):\n",
        "        annotation = dict()\n",
        "        _, word, start, end, conf = line.strip().split(' ')\n",
        "        annotation[\"term\"] = word.replace('wordID=', '').replace('\"', '')\n",
        "        annotation[\"start\"] = float(start.replace('beginTime=', '').replace('\"', ''))*1000\n",
        "        annotation[\"end\"] = float(end.replace('endTime=', '').replace('\"', ''))*1000\n",
        "        annotation[\"metadata\"] = dict()\n",
        "        speech_annotations.append(annotation)\n",
        "\n",
        "with open(f\"{FILE_NAME}.json\", 'w+') as f:\n",
        "    json.dump(speech_annotations, f)"
      ],
      "execution_count": null,
      "outputs": []
    },
    {
      "cell_type": "code",
      "metadata": {
        "id": "OjjhRVXqG7M7"
      },
      "source": [
        "import datetime"
      ],
      "execution_count": null,
      "outputs": []
    },
    {
      "cell_type": "code",
      "source": [
        "  \"chapters\": [\n",
        "    {\n",
        "      \"start\": 2000,\n",
        "      \"end\": 327300\n",
        "    },\n",
        "    {\n",
        "      \"start\": 327300,\n",
        "      \"end\": 552690\n",
        "    },\n",
        "    {\n",
        "      \"start\": 552690,\n",
        "      \"end\": 1107550\n",
        "    },\n",
        "    {\n",
        "      \"start\": 1107550,\n",
        "      \"end\": 1296080\n",
        "    },\n",
        "    {\n",
        "      \"start\": 1296080,\n",
        "      \"end\": 1587410\n",
        "    }"
      ],
      "metadata": {
        "id": "63b-q3-qsrg-"
      },
      "execution_count": null,
      "outputs": []
    },
    {
      "cell_type": "code",
      "source": [
        "print(str(datetime.timedelta(seconds=327)))\n",
        "print(str(datetime.timedelta(seconds=552)))\n",
        "print(str(datetime.timedelta(seconds=1107)))\n",
        "print(str(datetime.timedelta(seconds=1296)))"
      ],
      "metadata": {
        "colab": {
          "base_uri": "https://localhost:8080/"
        },
        "id": "R_sdHKiFsjaG",
        "outputId": "dfe34ade-4816-46f9-cc09-18b202703ce9"
      },
      "execution_count": null,
      "outputs": [
        {
          "output_type": "stream",
          "name": "stdout",
          "text": [
            "0:05:27\n",
            "0:09:12\n",
            "0:18:27\n",
            "0:21:36\n"
          ]
        }
      ]
    },
    {
      "cell_type": "code",
      "source": [],
      "metadata": {
        "id": "oFYjp0sXstJk"
      },
      "execution_count": null,
      "outputs": []
    }
  ]
}